{
 "cells": [
  {
   "cell_type": "code",
   "execution_count": 31,
   "metadata": {},
   "outputs": [],
   "source": [
    "# Import necessary libraries \n",
    "\n",
    "import sys                        # System-specific functions\n",
    "import os                         # Operating system interaction\n",
    "import pandas as pd               # Data manipulation\n",
    "import seaborn as sns             # data visualization\n",
    "import plotly.express as px       # Interactive visualizations\n",
    "import plotly.graph_objects as go \n",
    "import matplotlib.pyplot as plt   # Static and animated plots\n",
    "from datetime import datetime     # Date and time manipulation\n",
    "import isodate                    # ISO 8601 date handling\n",
    "\n",
    "\n",
    "\n",
    "\n",
    "\n"
   ]
  },
  {
   "cell_type": "code",
   "execution_count": null,
   "metadata": {},
   "outputs": [],
   "source": [
    "# Add the path to the functions directory, run this if you are using the notebook outisde the functions folder\n",
    "# sys.path.append(os.path.abspath(os.path.join(os.getcwd(), '..', 'functions')))"
   ]
  },
  {
   "cell_type": "code",
   "execution_count": null,
   "metadata": {},
   "outputs": [],
   "source": [
    "from config import youtube        # YouTube API configuration"
   ]
  },
  {
   "cell_type": "code",
   "execution_count": 3,
   "metadata": {},
   "outputs": [],
   "source": [
    "#importing the necessary functions used \n",
    "\n",
    "from get_channel_stats import search_channel_id           # getting channel_id from channel name\n",
    "from get_channel_stats import get_channel_info            # getting channel info from channel_id\n",
    "from get_video_stats import get_video_id                  # using playlist_id obtained from get_channel_info to get video_id of each video\n",
    "from get_video_stats import  get_video_details            # using video_id to get info for each video\n",
    "from multiple_channels import search_channel_ids          # channel_id for multiple channels\n",
    "from multiple_channels import get_multiple_channel_stats  # channel_stats for multiple channels"
   ]
  },
  {
   "cell_type": "code",
   "execution_count": 22,
   "metadata": {},
   "outputs": [],
   "source": [
    "# input the channel name here:\n",
    "channel_name = \"3Blue1Brown\"\n",
    "channel_id=search_channel_id(youtube,channel_name)\n",
    "channel_info=get_channel_info(youtube,channel_id)"
   ]
  },
  {
   "cell_type": "code",
   "execution_count": 23,
   "metadata": {},
   "outputs": [
    {
     "data": {
      "text/plain": [
       "{'channel_name': '3Blue1Brown',\n",
       " 'views': '565064064',\n",
       " 'subscribers': '6580000',\n",
       " 'total_videos': '185',\n",
       " 'playlist_id': 'UUYO_jab_esuFRV4b17AJtAw'}"
      ]
     },
     "execution_count": 23,
     "metadata": {},
     "output_type": "execute_result"
    }
   ],
   "source": [
    "channel_info"
   ]
  },
  {
   "cell_type": "code",
   "execution_count": 24,
   "metadata": {},
   "outputs": [],
   "source": [
    "# testing with the same example as above\n",
    "# this step is slow and a way to speed it will be required\n",
    "playlist_id=get_channel_info(youtube,channel_id)['playlist_id']\n",
    "video_ids=get_video_id(youtube,playlist_id)\n",
    "video_details=get_video_details(youtube,video_ids)"
   ]
  },
  {
   "cell_type": "code",
   "execution_count": 25,
   "metadata": {},
   "outputs": [
    {
     "data": {
      "text/html": [
       "<div>\n",
       "<style scoped>\n",
       "    .dataframe tbody tr th:only-of-type {\n",
       "        vertical-align: middle;\n",
       "    }\n",
       "\n",
       "    .dataframe tbody tr th {\n",
       "        vertical-align: top;\n",
       "    }\n",
       "\n",
       "    .dataframe thead th {\n",
       "        text-align: right;\n",
       "    }\n",
       "</style>\n",
       "<table border=\"1\" class=\"dataframe\">\n",
       "  <thead>\n",
       "    <tr style=\"text-align: right;\">\n",
       "      <th></th>\n",
       "      <th>Title</th>\n",
       "      <th>published_date</th>\n",
       "      <th>views</th>\n",
       "      <th>likes</th>\n",
       "      <th>dislikes</th>\n",
       "      <th>comments</th>\n",
       "      <th>thumbnail_url</th>\n",
       "      <th>duration</th>\n",
       "    </tr>\n",
       "  </thead>\n",
       "  <tbody>\n",
       "    <tr>\n",
       "      <th>0</th>\n",
       "      <td>How I animate 3Blue1Brown | A Manim demo with ...</td>\n",
       "      <td>2024-10-12T13:00:39Z</td>\n",
       "      <td>696693</td>\n",
       "      <td>39409</td>\n",
       "      <td>0</td>\n",
       "      <td>1405</td>\n",
       "      <td>https://i.ytimg.com/vi/rbu7Zu5X1zI/hqdefault.jpg</td>\n",
       "      <td>PT53M41S</td>\n",
       "    </tr>\n",
       "    <tr>\n",
       "      <th>1</th>\n",
       "      <td>Hologram preview</td>\n",
       "      <td>2024-10-11T14:00:27Z</td>\n",
       "      <td>23431</td>\n",
       "      <td>1627</td>\n",
       "      <td>0</td>\n",
       "      <td>33</td>\n",
       "      <td>https://i.ytimg.com/vi/W3-kpRz-e1Q/hqdefault.jpg</td>\n",
       "      <td>PT58S</td>\n",
       "    </tr>\n",
       "    <tr>\n",
       "      <th>2</th>\n",
       "      <td>Holograms are wild (full video linked above)</td>\n",
       "      <td>2024-10-05T15:35:00Z</td>\n",
       "      <td>1810074</td>\n",
       "      <td>105409</td>\n",
       "      <td>0</td>\n",
       "      <td>717</td>\n",
       "      <td>https://i.ytimg.com/vi/DnjATyPuFFk/hqdefault.jpg</td>\n",
       "      <td>PT55S</td>\n",
       "    </tr>\n",
       "    <tr>\n",
       "      <th>3</th>\n",
       "      <td>How are holograms possible? | Optics puzzles 5</td>\n",
       "      <td>2024-10-05T15:31:58Z</td>\n",
       "      <td>1077273</td>\n",
       "      <td>54389</td>\n",
       "      <td>0</td>\n",
       "      <td>2483</td>\n",
       "      <td>https://i.ytimg.com/vi/EmKQsSDlaa4/hqdefault.jpg</td>\n",
       "      <td>PT46M24S</td>\n",
       "    </tr>\n",
       "    <tr>\n",
       "      <th>4</th>\n",
       "      <td>A cute probability fact (part 3)</td>\n",
       "      <td>2024-09-10T15:42:38Z</td>\n",
       "      <td>204021</td>\n",
       "      <td>11830</td>\n",
       "      <td>0</td>\n",
       "      <td>113</td>\n",
       "      <td>https://i.ytimg.com/vi/lpzUZDefha0/hqdefault.jpg</td>\n",
       "      <td>PT1M</td>\n",
       "    </tr>\n",
       "    <tr>\n",
       "      <th>...</th>\n",
       "      <td>...</td>\n",
       "      <td>...</td>\n",
       "      <td>...</td>\n",
       "      <td>...</td>\n",
       "      <td>...</td>\n",
       "      <td>...</td>\n",
       "      <td>...</td>\n",
       "      <td>...</td>\n",
       "    </tr>\n",
       "    <tr>\n",
       "      <th>180</th>\n",
       "      <td>How to count to 1000 on two hands</td>\n",
       "      <td>2015-09-18T21:53:13Z</td>\n",
       "      <td>429200</td>\n",
       "      <td>12585</td>\n",
       "      <td>0</td>\n",
       "      <td>1166</td>\n",
       "      <td>https://i.ytimg.com/vi/1SMmc9gQmHQ/hqdefault.jpg</td>\n",
       "      <td>PT2M34S</td>\n",
       "    </tr>\n",
       "    <tr>\n",
       "      <th>181</th>\n",
       "      <td>What does it feel like to invent math?</td>\n",
       "      <td>2015-08-14T01:20:50Z</td>\n",
       "      <td>4200590</td>\n",
       "      <td>93672</td>\n",
       "      <td>0</td>\n",
       "      <td>5956</td>\n",
       "      <td>https://i.ytimg.com/vi/XFDM1ip5HdU/hqdefault.jpg</td>\n",
       "      <td>PT15M8S</td>\n",
       "    </tr>\n",
       "    <tr>\n",
       "      <th>182</th>\n",
       "      <td>Euler's Formula and Graph Duality</td>\n",
       "      <td>2015-06-21T06:05:43Z</td>\n",
       "      <td>474460</td>\n",
       "      <td>11578</td>\n",
       "      <td>0</td>\n",
       "      <td>363</td>\n",
       "      <td>https://i.ytimg.com/vi/-9OUyo8NFZg/hqdefault.jpg</td>\n",
       "      <td>PT7M27S</td>\n",
       "    </tr>\n",
       "    <tr>\n",
       "      <th>183</th>\n",
       "      <td>Euler's Formula Poem</td>\n",
       "      <td>2015-03-05T06:15:23Z</td>\n",
       "      <td>167064</td>\n",
       "      <td>5148</td>\n",
       "      <td>0</td>\n",
       "      <td>149</td>\n",
       "      <td>https://i.ytimg.com/vi/zLzLxVeqdQg/hqdefault.jpg</td>\n",
       "      <td>PT1M4S</td>\n",
       "    </tr>\n",
       "    <tr>\n",
       "      <th>184</th>\n",
       "      <td>e to the pi i, a nontraditional take (old vers...</td>\n",
       "      <td>2015-03-05T06:15:22Z</td>\n",
       "      <td>2680659</td>\n",
       "      <td>42652</td>\n",
       "      <td>0</td>\n",
       "      <td>2167</td>\n",
       "      <td>https://i.ytimg.com/vi/F_0yfvm0UoU/hqdefault.jpg</td>\n",
       "      <td>PT6M14S</td>\n",
       "    </tr>\n",
       "  </tbody>\n",
       "</table>\n",
       "<p>185 rows × 8 columns</p>\n",
       "</div>"
      ],
      "text/plain": [
       "                                                 Title        published_date  \\\n",
       "0    How I animate 3Blue1Brown | A Manim demo with ...  2024-10-12T13:00:39Z   \n",
       "1                                     Hologram preview  2024-10-11T14:00:27Z   \n",
       "2         Holograms are wild (full video linked above)  2024-10-05T15:35:00Z   \n",
       "3       How are holograms possible? | Optics puzzles 5  2024-10-05T15:31:58Z   \n",
       "4                     A cute probability fact (part 3)  2024-09-10T15:42:38Z   \n",
       "..                                                 ...                   ...   \n",
       "180                  How to count to 1000 on two hands  2015-09-18T21:53:13Z   \n",
       "181             What does it feel like to invent math?  2015-08-14T01:20:50Z   \n",
       "182                  Euler's Formula and Graph Duality  2015-06-21T06:05:43Z   \n",
       "183                               Euler's Formula Poem  2015-03-05T06:15:23Z   \n",
       "184  e to the pi i, a nontraditional take (old vers...  2015-03-05T06:15:22Z   \n",
       "\n",
       "       views   likes  dislikes  comments  \\\n",
       "0     696693   39409         0      1405   \n",
       "1      23431    1627         0        33   \n",
       "2    1810074  105409         0       717   \n",
       "3    1077273   54389         0      2483   \n",
       "4     204021   11830         0       113   \n",
       "..       ...     ...       ...       ...   \n",
       "180   429200   12585         0      1166   \n",
       "181  4200590   93672         0      5956   \n",
       "182   474460   11578         0       363   \n",
       "183   167064    5148         0       149   \n",
       "184  2680659   42652         0      2167   \n",
       "\n",
       "                                        thumbnail_url  duration  \n",
       "0    https://i.ytimg.com/vi/rbu7Zu5X1zI/hqdefault.jpg  PT53M41S  \n",
       "1    https://i.ytimg.com/vi/W3-kpRz-e1Q/hqdefault.jpg     PT58S  \n",
       "2    https://i.ytimg.com/vi/DnjATyPuFFk/hqdefault.jpg     PT55S  \n",
       "3    https://i.ytimg.com/vi/EmKQsSDlaa4/hqdefault.jpg  PT46M24S  \n",
       "4    https://i.ytimg.com/vi/lpzUZDefha0/hqdefault.jpg      PT1M  \n",
       "..                                                ...       ...  \n",
       "180  https://i.ytimg.com/vi/1SMmc9gQmHQ/hqdefault.jpg   PT2M34S  \n",
       "181  https://i.ytimg.com/vi/XFDM1ip5HdU/hqdefault.jpg   PT15M8S  \n",
       "182  https://i.ytimg.com/vi/-9OUyo8NFZg/hqdefault.jpg   PT7M27S  \n",
       "183  https://i.ytimg.com/vi/zLzLxVeqdQg/hqdefault.jpg    PT1M4S  \n",
       "184  https://i.ytimg.com/vi/F_0yfvm0UoU/hqdefault.jpg   PT6M14S  \n",
       "\n",
       "[185 rows x 8 columns]"
      ]
     },
     "execution_count": 25,
     "metadata": {},
     "output_type": "execute_result"
    }
   ],
   "source": [
    "# converting video_details to pandas dataframe\n",
    "video_data=pd.DataFrame(video_details)\n",
    "video_data"
   ]
  },
  {
   "cell_type": "code",
   "execution_count": 10,
   "metadata": {},
   "outputs": [
    {
     "data": {
      "text/plain": [
       "Title             object\n",
       "published_date    object\n",
       "views              int64\n",
       "likes              int64\n",
       "dislikes           int64\n",
       "comments           int64\n",
       "thumbnail_url     object\n",
       "duration          object\n",
       "dtype: object"
      ]
     },
     "execution_count": 10,
     "metadata": {},
     "output_type": "execute_result"
    }
   ],
   "source": [
    "# checking datatypes of the dataframe\n",
    "video_data.dtypes"
   ]
  },
  {
   "cell_type": "code",
   "execution_count": 28,
   "metadata": {},
   "outputs": [
    {
     "data": {
      "text/plain": [
       "Title             object\n",
       "published_date    object\n",
       "views              int64\n",
       "likes              int64\n",
       "dislikes           int64\n",
       "comments           int64\n",
       "thumbnail_url     object\n",
       "duration          object\n",
       "dtype: object"
      ]
     },
     "execution_count": 28,
     "metadata": {},
     "output_type": "execute_result"
    }
   ],
   "source": [
    "# changing the numerical values to int type and date to datetime format\n",
    "\n",
    "video_data['views']=pd.to_numeric(video_data['views'])\n",
    "video_data['likes']=pd.to_numeric(video_data['likes'])\n",
    "video_data['comments']=pd.to_numeric(video_data['comments'])\n",
    "video_data['published_date']=pd.to_datetime(video_data['published_date']).dt.date\n",
    "video_data.dtypes"
   ]
  },
  {
   "cell_type": "code",
   "execution_count": 12,
   "metadata": {},
   "outputs": [
    {
     "data": {
      "text/html": [
       "<div>\n",
       "<style scoped>\n",
       "    .dataframe tbody tr th:only-of-type {\n",
       "        vertical-align: middle;\n",
       "    }\n",
       "\n",
       "    .dataframe tbody tr th {\n",
       "        vertical-align: top;\n",
       "    }\n",
       "\n",
       "    .dataframe thead th {\n",
       "        text-align: right;\n",
       "    }\n",
       "</style>\n",
       "<table border=\"1\" class=\"dataframe\">\n",
       "  <thead>\n",
       "    <tr style=\"text-align: right;\">\n",
       "      <th></th>\n",
       "      <th>Title</th>\n",
       "      <th>published_date</th>\n",
       "      <th>views</th>\n",
       "      <th>likes</th>\n",
       "      <th>dislikes</th>\n",
       "      <th>comments</th>\n",
       "      <th>thumbnail_url</th>\n",
       "      <th>duration</th>\n",
       "    </tr>\n",
       "  </thead>\n",
       "  <tbody>\n",
       "    <tr>\n",
       "      <th>48</th>\n",
       "      <td>I'm still astounded this is true</td>\n",
       "      <td>2023-12-07</td>\n",
       "      <td>53601571</td>\n",
       "      <td>2420178</td>\n",
       "      <td>0</td>\n",
       "      <td>10564</td>\n",
       "      <td>https://i.ytimg.com/vi/P11ykXwx4-k/hqdefault.jpg</td>\n",
       "      <td>PT1M</td>\n",
       "    </tr>\n",
       "    <tr>\n",
       "      <th>103</th>\n",
       "      <td>But what is a Fourier series?  From heat flow ...</td>\n",
       "      <td>2019-06-30</td>\n",
       "      <td>17908254</td>\n",
       "      <td>175986</td>\n",
       "      <td>0</td>\n",
       "      <td>4200</td>\n",
       "      <td>https://i.ytimg.com/vi/r6sGWTCMz2k/hqdefault.jpg</td>\n",
       "      <td>PT24M47S</td>\n",
       "    </tr>\n",
       "    <tr>\n",
       "      <th>133</th>\n",
       "      <td>But what is a neural network? | Chapter 1, Dee...</td>\n",
       "      <td>2017-10-05</td>\n",
       "      <td>17561874</td>\n",
       "      <td>430196</td>\n",
       "      <td>0</td>\n",
       "      <td>7604</td>\n",
       "      <td>https://i.ytimg.com/vi/aircAruvnKk/hqdefault.jpg</td>\n",
       "      <td>PT18M40S</td>\n",
       "    </tr>\n",
       "    <tr>\n",
       "      <th>138</th>\n",
       "      <td>But how does bitcoin actually work?</td>\n",
       "      <td>2017-07-07</td>\n",
       "      <td>15997740</td>\n",
       "      <td>367557</td>\n",
       "      <td>0</td>\n",
       "      <td>25686</td>\n",
       "      <td>https://i.ytimg.com/vi/bBC-nXj3Ng4/hqdefault.jpg</td>\n",
       "      <td>PT25M16S</td>\n",
       "    </tr>\n",
       "    <tr>\n",
       "      <th>129</th>\n",
       "      <td>The hardest problem on the hardest test</td>\n",
       "      <td>2017-12-08</td>\n",
       "      <td>15729423</td>\n",
       "      <td>406025</td>\n",
       "      <td>0</td>\n",
       "      <td>20177</td>\n",
       "      <td>https://i.ytimg.com/vi/OkmNXy7er84/hqdefault.jpg</td>\n",
       "      <td>PT11M15S</td>\n",
       "    </tr>\n",
       "    <tr>\n",
       "      <th>49</th>\n",
       "      <td>Don't let it fool you! (Link above explains wh...</td>\n",
       "      <td>2023-12-07</td>\n",
       "      <td>14891191</td>\n",
       "      <td>736044</td>\n",
       "      <td>0</td>\n",
       "      <td>4510</td>\n",
       "      <td>https://i.ytimg.com/vi/VFbyGEZLMZw/hqdefault.jpg</td>\n",
       "      <td>PT1M</td>\n",
       "    </tr>\n",
       "    <tr>\n",
       "      <th>34</th>\n",
       "      <td>Order from chaos</td>\n",
       "      <td>2023-12-15</td>\n",
       "      <td>13725824</td>\n",
       "      <td>359530</td>\n",
       "      <td>0</td>\n",
       "      <td>2101</td>\n",
       "      <td>https://i.ytimg.com/vi/GOSezO0CHss/hqdefault.jpg</td>\n",
       "      <td>PT50S</td>\n",
       "    </tr>\n",
       "    <tr>\n",
       "      <th>110</th>\n",
       "      <td>The most unexpected answer to a counting puzzle</td>\n",
       "      <td>2019-01-13</td>\n",
       "      <td>13065803</td>\n",
       "      <td>309621</td>\n",
       "      <td>0</td>\n",
       "      <td>6728</td>\n",
       "      <td>https://i.ytimg.com/vi/HEfHFsfGXjs/hqdefault.jpg</td>\n",
       "      <td>PT5M13S</td>\n",
       "    </tr>\n",
       "    <tr>\n",
       "      <th>67</th>\n",
       "      <td>Solving Wordle using information theory</td>\n",
       "      <td>2022-02-06</td>\n",
       "      <td>10569834</td>\n",
       "      <td>225466</td>\n",
       "      <td>0</td>\n",
       "      <td>8928</td>\n",
       "      <td>https://i.ytimg.com/vi/v68zYyaEmEA/hqdefault.jpg</td>\n",
       "      <td>PT30M38S</td>\n",
       "    </tr>\n",
       "    <tr>\n",
       "      <th>126</th>\n",
       "      <td>But what is the Fourier Transform?  A visual i...</td>\n",
       "      <td>2018-01-26</td>\n",
       "      <td>10486531</td>\n",
       "      <td>296316</td>\n",
       "      <td>0</td>\n",
       "      <td>8741</td>\n",
       "      <td>https://i.ytimg.com/vi/spUNpyF58BY/hqdefault.jpg</td>\n",
       "      <td>PT20M57S</td>\n",
       "    </tr>\n",
       "  </tbody>\n",
       "</table>\n",
       "</div>"
      ],
      "text/plain": [
       "                                                 Title published_date  \\\n",
       "48                    I'm still astounded this is true     2023-12-07   \n",
       "103  But what is a Fourier series?  From heat flow ...     2019-06-30   \n",
       "133  But what is a neural network? | Chapter 1, Dee...     2017-10-05   \n",
       "138                But how does bitcoin actually work?     2017-07-07   \n",
       "129            The hardest problem on the hardest test     2017-12-08   \n",
       "49   Don't let it fool you! (Link above explains wh...     2023-12-07   \n",
       "34                                    Order from chaos     2023-12-15   \n",
       "110    The most unexpected answer to a counting puzzle     2019-01-13   \n",
       "67             Solving Wordle using information theory     2022-02-06   \n",
       "126  But what is the Fourier Transform?  A visual i...     2018-01-26   \n",
       "\n",
       "        views    likes  dislikes  comments  \\\n",
       "48   53601571  2420178         0     10564   \n",
       "103  17908254   175986         0      4200   \n",
       "133  17561874   430196         0      7604   \n",
       "138  15997740   367557         0     25686   \n",
       "129  15729423   406025         0     20177   \n",
       "49   14891191   736044         0      4510   \n",
       "34   13725824   359530         0      2101   \n",
       "110  13065803   309621         0      6728   \n",
       "67   10569834   225466         0      8928   \n",
       "126  10486531   296316         0      8741   \n",
       "\n",
       "                                        thumbnail_url  duration  \n",
       "48   https://i.ytimg.com/vi/P11ykXwx4-k/hqdefault.jpg      PT1M  \n",
       "103  https://i.ytimg.com/vi/r6sGWTCMz2k/hqdefault.jpg  PT24M47S  \n",
       "133  https://i.ytimg.com/vi/aircAruvnKk/hqdefault.jpg  PT18M40S  \n",
       "138  https://i.ytimg.com/vi/bBC-nXj3Ng4/hqdefault.jpg  PT25M16S  \n",
       "129  https://i.ytimg.com/vi/OkmNXy7er84/hqdefault.jpg  PT11M15S  \n",
       "49   https://i.ytimg.com/vi/VFbyGEZLMZw/hqdefault.jpg      PT1M  \n",
       "34   https://i.ytimg.com/vi/GOSezO0CHss/hqdefault.jpg     PT50S  \n",
       "110  https://i.ytimg.com/vi/HEfHFsfGXjs/hqdefault.jpg   PT5M13S  \n",
       "67   https://i.ytimg.com/vi/v68zYyaEmEA/hqdefault.jpg  PT30M38S  \n",
       "126  https://i.ytimg.com/vi/spUNpyF58BY/hqdefault.jpg  PT20M57S  "
      ]
     },
     "execution_count": 12,
     "metadata": {},
     "output_type": "execute_result"
    }
   ],
   "source": [
    "# dataframe to store top10_videos on the channel by views\n",
    "top10_videos_views = video_data.sort_values(by='views',ascending=False).head(10)\n",
    "top10_videos_views"
   ]
  },
  {
   "cell_type": "code",
   "execution_count": 13,
   "metadata": {},
   "outputs": [
    {
     "data": {
      "text/html": [
       "<div>\n",
       "<style scoped>\n",
       "    .dataframe tbody tr th:only-of-type {\n",
       "        vertical-align: middle;\n",
       "    }\n",
       "\n",
       "    .dataframe tbody tr th {\n",
       "        vertical-align: top;\n",
       "    }\n",
       "\n",
       "    .dataframe thead th {\n",
       "        text-align: right;\n",
       "    }\n",
       "</style>\n",
       "<table border=\"1\" class=\"dataframe\">\n",
       "  <thead>\n",
       "    <tr style=\"text-align: right;\">\n",
       "      <th></th>\n",
       "      <th>Title</th>\n",
       "      <th>published_date</th>\n",
       "      <th>views</th>\n",
       "      <th>likes</th>\n",
       "      <th>dislikes</th>\n",
       "      <th>comments</th>\n",
       "      <th>thumbnail_url</th>\n",
       "      <th>duration</th>\n",
       "    </tr>\n",
       "  </thead>\n",
       "  <tbody>\n",
       "    <tr>\n",
       "      <th>48</th>\n",
       "      <td>I'm still astounded this is true</td>\n",
       "      <td>2023-12-07</td>\n",
       "      <td>53601571</td>\n",
       "      <td>2420178</td>\n",
       "      <td>0</td>\n",
       "      <td>10564</td>\n",
       "      <td>https://i.ytimg.com/vi/P11ykXwx4-k/hqdefault.jpg</td>\n",
       "      <td>PT1M</td>\n",
       "    </tr>\n",
       "    <tr>\n",
       "      <th>49</th>\n",
       "      <td>Don't let it fool you! (Link above explains wh...</td>\n",
       "      <td>2023-12-07</td>\n",
       "      <td>14891191</td>\n",
       "      <td>736044</td>\n",
       "      <td>0</td>\n",
       "      <td>4510</td>\n",
       "      <td>https://i.ytimg.com/vi/VFbyGEZLMZw/hqdefault.jpg</td>\n",
       "      <td>PT1M</td>\n",
       "    </tr>\n",
       "    <tr>\n",
       "      <th>19</th>\n",
       "      <td>The medical test paradox (well \"paradox\")</td>\n",
       "      <td>2024-01-15</td>\n",
       "      <td>9743832</td>\n",
       "      <td>445742</td>\n",
       "      <td>0</td>\n",
       "      <td>2813</td>\n",
       "      <td>https://i.ytimg.com/vi/xIMlJUwB1m8/hqdefault.jpg</td>\n",
       "      <td>PT57S</td>\n",
       "    </tr>\n",
       "    <tr>\n",
       "      <th>27</th>\n",
       "      <td>The Newton art puzzle</td>\n",
       "      <td>2023-12-29</td>\n",
       "      <td>8196567</td>\n",
       "      <td>434899</td>\n",
       "      <td>0</td>\n",
       "      <td>1708</td>\n",
       "      <td>https://i.ytimg.com/vi/kpG7I2MOcnI/hqdefault.jpg</td>\n",
       "      <td>PT1M</td>\n",
       "    </tr>\n",
       "    <tr>\n",
       "      <th>133</th>\n",
       "      <td>But what is a neural network? | Chapter 1, Dee...</td>\n",
       "      <td>2017-10-05</td>\n",
       "      <td>17561874</td>\n",
       "      <td>430196</td>\n",
       "      <td>0</td>\n",
       "      <td>7604</td>\n",
       "      <td>https://i.ytimg.com/vi/aircAruvnKk/hqdefault.jpg</td>\n",
       "      <td>PT18M40S</td>\n",
       "    </tr>\n",
       "    <tr>\n",
       "      <th>129</th>\n",
       "      <td>The hardest problem on the hardest test</td>\n",
       "      <td>2017-12-08</td>\n",
       "      <td>15729423</td>\n",
       "      <td>406025</td>\n",
       "      <td>0</td>\n",
       "      <td>20177</td>\n",
       "      <td>https://i.ytimg.com/vi/OkmNXy7er84/hqdefault.jpg</td>\n",
       "      <td>PT11M15S</td>\n",
       "    </tr>\n",
       "    <tr>\n",
       "      <th>138</th>\n",
       "      <td>But how does bitcoin actually work?</td>\n",
       "      <td>2017-07-07</td>\n",
       "      <td>15997740</td>\n",
       "      <td>367557</td>\n",
       "      <td>0</td>\n",
       "      <td>25686</td>\n",
       "      <td>https://i.ytimg.com/vi/bBC-nXj3Ng4/hqdefault.jpg</td>\n",
       "      <td>PT25M16S</td>\n",
       "    </tr>\n",
       "    <tr>\n",
       "      <th>34</th>\n",
       "      <td>Order from chaos</td>\n",
       "      <td>2023-12-15</td>\n",
       "      <td>13725824</td>\n",
       "      <td>359530</td>\n",
       "      <td>0</td>\n",
       "      <td>2101</td>\n",
       "      <td>https://i.ytimg.com/vi/GOSezO0CHss/hqdefault.jpg</td>\n",
       "      <td>PT50S</td>\n",
       "    </tr>\n",
       "    <tr>\n",
       "      <th>110</th>\n",
       "      <td>The most unexpected answer to a counting puzzle</td>\n",
       "      <td>2019-01-13</td>\n",
       "      <td>13065803</td>\n",
       "      <td>309621</td>\n",
       "      <td>0</td>\n",
       "      <td>6728</td>\n",
       "      <td>https://i.ytimg.com/vi/HEfHFsfGXjs/hqdefault.jpg</td>\n",
       "      <td>PT5M13S</td>\n",
       "    </tr>\n",
       "    <tr>\n",
       "      <th>47</th>\n",
       "      <td>How prisms work (full video linked above)</td>\n",
       "      <td>2023-12-07</td>\n",
       "      <td>6654760</td>\n",
       "      <td>302346</td>\n",
       "      <td>0</td>\n",
       "      <td>1659</td>\n",
       "      <td>https://i.ytimg.com/vi/GSIuXqgPsnY/hqdefault.jpg</td>\n",
       "      <td>PT1M</td>\n",
       "    </tr>\n",
       "  </tbody>\n",
       "</table>\n",
       "</div>"
      ],
      "text/plain": [
       "                                                 Title published_date  \\\n",
       "48                    I'm still astounded this is true     2023-12-07   \n",
       "49   Don't let it fool you! (Link above explains wh...     2023-12-07   \n",
       "19           The medical test paradox (well \"paradox\")     2024-01-15   \n",
       "27                               The Newton art puzzle     2023-12-29   \n",
       "133  But what is a neural network? | Chapter 1, Dee...     2017-10-05   \n",
       "129            The hardest problem on the hardest test     2017-12-08   \n",
       "138                But how does bitcoin actually work?     2017-07-07   \n",
       "34                                    Order from chaos     2023-12-15   \n",
       "110    The most unexpected answer to a counting puzzle     2019-01-13   \n",
       "47           How prisms work (full video linked above)     2023-12-07   \n",
       "\n",
       "        views    likes  dislikes  comments  \\\n",
       "48   53601571  2420178         0     10564   \n",
       "49   14891191   736044         0      4510   \n",
       "19    9743832   445742         0      2813   \n",
       "27    8196567   434899         0      1708   \n",
       "133  17561874   430196         0      7604   \n",
       "129  15729423   406025         0     20177   \n",
       "138  15997740   367557         0     25686   \n",
       "34   13725824   359530         0      2101   \n",
       "110  13065803   309621         0      6728   \n",
       "47    6654760   302346         0      1659   \n",
       "\n",
       "                                        thumbnail_url  duration  \n",
       "48   https://i.ytimg.com/vi/P11ykXwx4-k/hqdefault.jpg      PT1M  \n",
       "49   https://i.ytimg.com/vi/VFbyGEZLMZw/hqdefault.jpg      PT1M  \n",
       "19   https://i.ytimg.com/vi/xIMlJUwB1m8/hqdefault.jpg     PT57S  \n",
       "27   https://i.ytimg.com/vi/kpG7I2MOcnI/hqdefault.jpg      PT1M  \n",
       "133  https://i.ytimg.com/vi/aircAruvnKk/hqdefault.jpg  PT18M40S  \n",
       "129  https://i.ytimg.com/vi/OkmNXy7er84/hqdefault.jpg  PT11M15S  \n",
       "138  https://i.ytimg.com/vi/bBC-nXj3Ng4/hqdefault.jpg  PT25M16S  \n",
       "34   https://i.ytimg.com/vi/GOSezO0CHss/hqdefault.jpg     PT50S  \n",
       "110  https://i.ytimg.com/vi/HEfHFsfGXjs/hqdefault.jpg   PT5M13S  \n",
       "47   https://i.ytimg.com/vi/GSIuXqgPsnY/hqdefault.jpg      PT1M  "
      ]
     },
     "execution_count": 13,
     "metadata": {},
     "output_type": "execute_result"
    }
   ],
   "source": [
    "# dataframe to store top10_videos on the channel by likes\n",
    "top10_videos_likes = video_data.sort_values(by='likes',ascending=False).head(10)\n",
    "top10_videos_likes"
   ]
  },
  {
   "cell_type": "code",
   "execution_count": 14,
   "metadata": {},
   "outputs": [
    {
     "data": {
      "text/html": [
       "<div>\n",
       "<style scoped>\n",
       "    .dataframe tbody tr th:only-of-type {\n",
       "        vertical-align: middle;\n",
       "    }\n",
       "\n",
       "    .dataframe tbody tr th {\n",
       "        vertical-align: top;\n",
       "    }\n",
       "\n",
       "    .dataframe thead th {\n",
       "        text-align: right;\n",
       "    }\n",
       "</style>\n",
       "<table border=\"1\" class=\"dataframe\">\n",
       "  <thead>\n",
       "    <tr style=\"text-align: right;\">\n",
       "      <th></th>\n",
       "      <th>Title</th>\n",
       "      <th>published_date</th>\n",
       "      <th>views</th>\n",
       "      <th>likes</th>\n",
       "      <th>dislikes</th>\n",
       "      <th>comments</th>\n",
       "      <th>thumbnail_url</th>\n",
       "      <th>duration</th>\n",
       "    </tr>\n",
       "  </thead>\n",
       "  <tbody>\n",
       "    <tr>\n",
       "      <th>138</th>\n",
       "      <td>But how does bitcoin actually work?</td>\n",
       "      <td>2017-07-07</td>\n",
       "      <td>15997740</td>\n",
       "      <td>367557</td>\n",
       "      <td>0</td>\n",
       "      <td>25686</td>\n",
       "      <td>https://i.ytimg.com/vi/bBC-nXj3Ng4/hqdefault.jpg</td>\n",
       "      <td>PT25M16S</td>\n",
       "    </tr>\n",
       "    <tr>\n",
       "      <th>129</th>\n",
       "      <td>The hardest problem on the hardest test</td>\n",
       "      <td>2017-12-08</td>\n",
       "      <td>15729423</td>\n",
       "      <td>406025</td>\n",
       "      <td>0</td>\n",
       "      <td>20177</td>\n",
       "      <td>https://i.ytimg.com/vi/OkmNXy7er84/hqdefault.jpg</td>\n",
       "      <td>PT11M15S</td>\n",
       "    </tr>\n",
       "    <tr>\n",
       "      <th>48</th>\n",
       "      <td>I'm still astounded this is true</td>\n",
       "      <td>2023-12-07</td>\n",
       "      <td>53601571</td>\n",
       "      <td>2420178</td>\n",
       "      <td>0</td>\n",
       "      <td>10564</td>\n",
       "      <td>https://i.ytimg.com/vi/P11ykXwx4-k/hqdefault.jpg</td>\n",
       "      <td>PT1M</td>\n",
       "    </tr>\n",
       "    <tr>\n",
       "      <th>67</th>\n",
       "      <td>Solving Wordle using information theory</td>\n",
       "      <td>2022-02-06</td>\n",
       "      <td>10569834</td>\n",
       "      <td>225466</td>\n",
       "      <td>0</td>\n",
       "      <td>8928</td>\n",
       "      <td>https://i.ytimg.com/vi/v68zYyaEmEA/hqdefault.jpg</td>\n",
       "      <td>PT30M38S</td>\n",
       "    </tr>\n",
       "    <tr>\n",
       "      <th>126</th>\n",
       "      <td>But what is the Fourier Transform?  A visual i...</td>\n",
       "      <td>2018-01-26</td>\n",
       "      <td>10486531</td>\n",
       "      <td>296316</td>\n",
       "      <td>0</td>\n",
       "      <td>8741</td>\n",
       "      <td>https://i.ytimg.com/vi/spUNpyF58BY/hqdefault.jpg</td>\n",
       "      <td>PT20M57S</td>\n",
       "    </tr>\n",
       "    <tr>\n",
       "      <th>133</th>\n",
       "      <td>But what is a neural network? | Chapter 1, Dee...</td>\n",
       "      <td>2017-10-05</td>\n",
       "      <td>17561874</td>\n",
       "      <td>430196</td>\n",
       "      <td>0</td>\n",
       "      <td>7604</td>\n",
       "      <td>https://i.ytimg.com/vi/aircAruvnKk/hqdefault.jpg</td>\n",
       "      <td>PT18M40S</td>\n",
       "    </tr>\n",
       "    <tr>\n",
       "      <th>66</th>\n",
       "      <td>Oh, wait, actually the best Wordle opener is n...</td>\n",
       "      <td>2022-02-13</td>\n",
       "      <td>6199509</td>\n",
       "      <td>152147</td>\n",
       "      <td>0</td>\n",
       "      <td>7110</td>\n",
       "      <td>https://i.ytimg.com/vi/fRed0Xmc2Wg/hqdefault.jpg</td>\n",
       "      <td>PT10M53S</td>\n",
       "    </tr>\n",
       "    <tr>\n",
       "      <th>151</th>\n",
       "      <td>The essence of calculus</td>\n",
       "      <td>2017-04-28</td>\n",
       "      <td>9374058</td>\n",
       "      <td>254997</td>\n",
       "      <td>0</td>\n",
       "      <td>7063</td>\n",
       "      <td>https://i.ytimg.com/vi/WUvTyaaNkzM/hqdefault.jpg</td>\n",
       "      <td>PT17M5S</td>\n",
       "    </tr>\n",
       "    <tr>\n",
       "      <th>110</th>\n",
       "      <td>The most unexpected answer to a counting puzzle</td>\n",
       "      <td>2019-01-13</td>\n",
       "      <td>13065803</td>\n",
       "      <td>309621</td>\n",
       "      <td>0</td>\n",
       "      <td>6728</td>\n",
       "      <td>https://i.ytimg.com/vi/HEfHFsfGXjs/hqdefault.jpg</td>\n",
       "      <td>PT5M13S</td>\n",
       "    </tr>\n",
       "    <tr>\n",
       "      <th>100</th>\n",
       "      <td>The unexpectedly hard windmill question (2011 ...</td>\n",
       "      <td>2019-08-04</td>\n",
       "      <td>5033469</td>\n",
       "      <td>153128</td>\n",
       "      <td>0</td>\n",
       "      <td>6661</td>\n",
       "      <td>https://i.ytimg.com/vi/M64HUIJFTZM/hqdefault.jpg</td>\n",
       "      <td>PT16M3S</td>\n",
       "    </tr>\n",
       "  </tbody>\n",
       "</table>\n",
       "</div>"
      ],
      "text/plain": [
       "                                                 Title published_date  \\\n",
       "138                But how does bitcoin actually work?     2017-07-07   \n",
       "129            The hardest problem on the hardest test     2017-12-08   \n",
       "48                    I'm still astounded this is true     2023-12-07   \n",
       "67             Solving Wordle using information theory     2022-02-06   \n",
       "126  But what is the Fourier Transform?  A visual i...     2018-01-26   \n",
       "133  But what is a neural network? | Chapter 1, Dee...     2017-10-05   \n",
       "66   Oh, wait, actually the best Wordle opener is n...     2022-02-13   \n",
       "151                            The essence of calculus     2017-04-28   \n",
       "110    The most unexpected answer to a counting puzzle     2019-01-13   \n",
       "100  The unexpectedly hard windmill question (2011 ...     2019-08-04   \n",
       "\n",
       "        views    likes  dislikes  comments  \\\n",
       "138  15997740   367557         0     25686   \n",
       "129  15729423   406025         0     20177   \n",
       "48   53601571  2420178         0     10564   \n",
       "67   10569834   225466         0      8928   \n",
       "126  10486531   296316         0      8741   \n",
       "133  17561874   430196         0      7604   \n",
       "66    6199509   152147         0      7110   \n",
       "151   9374058   254997         0      7063   \n",
       "110  13065803   309621         0      6728   \n",
       "100   5033469   153128         0      6661   \n",
       "\n",
       "                                        thumbnail_url  duration  \n",
       "138  https://i.ytimg.com/vi/bBC-nXj3Ng4/hqdefault.jpg  PT25M16S  \n",
       "129  https://i.ytimg.com/vi/OkmNXy7er84/hqdefault.jpg  PT11M15S  \n",
       "48   https://i.ytimg.com/vi/P11ykXwx4-k/hqdefault.jpg      PT1M  \n",
       "67   https://i.ytimg.com/vi/v68zYyaEmEA/hqdefault.jpg  PT30M38S  \n",
       "126  https://i.ytimg.com/vi/spUNpyF58BY/hqdefault.jpg  PT20M57S  \n",
       "133  https://i.ytimg.com/vi/aircAruvnKk/hqdefault.jpg  PT18M40S  \n",
       "66   https://i.ytimg.com/vi/fRed0Xmc2Wg/hqdefault.jpg  PT10M53S  \n",
       "151  https://i.ytimg.com/vi/WUvTyaaNkzM/hqdefault.jpg   PT17M5S  \n",
       "110  https://i.ytimg.com/vi/HEfHFsfGXjs/hqdefault.jpg   PT5M13S  \n",
       "100  https://i.ytimg.com/vi/M64HUIJFTZM/hqdefault.jpg   PT16M3S  "
      ]
     },
     "execution_count": 14,
     "metadata": {},
     "output_type": "execute_result"
    }
   ],
   "source": [
    "# dataframe to store top10_videos on the channel by comments\n",
    "top10_videos_comments = video_data.sort_values(by='comments',ascending=False).head(10)\n",
    "top10_videos_comments"
   ]
  },
  {
   "cell_type": "markdown",
   "metadata": {},
   "source": [
    "## Visualizations"
   ]
  },
  {
   "cell_type": "code",
   "execution_count": 15,
   "metadata": {},
   "outputs": [
    {
     "data": {
      "image/png": "[encoded data removed]",
      "text/plain": [
       "<Figure size 432x288 with 1 Axes>"
      ]
     },
     "metadata": {
      "needs_background": "light"
     },
     "output_type": "display_data"
    }
   ],
   "source": [
    "# comparing number of views of top 10 videos\n",
    "ax1=sns.barplot(x='views',y='Title',data=top10_videos_views)"
   ]
  },
  {
   "cell_type": "code",
   "execution_count": 16,
   "metadata": {},
   "outputs": [
    {
     "data": {
      "image/png": "[encoded data removed]",
      "text/plain": [
       "<Figure size 432x288 with 1 Axes>"
      ]
     },
     "metadata": {
      "needs_background": "light"
     },
     "output_type": "display_data"
    }
   ],
   "source": [
    "# comparing number of likes of top 10 videos\n",
    "ax1=sns.barplot(x='likes',y='Title',data=top10_videos_likes)"
   ]
  },
  {
   "cell_type": "code",
   "execution_count": 17,
   "metadata": {},
   "outputs": [
    {
     "data": {
      "image/png": "[encoded data removed]",
      "text/plain": [
       "<Figure size 432x288 with 1 Axes>"
      ]
     },
     "metadata": {
      "needs_background": "light"
     },
     "output_type": "display_data"
    }
   ],
   "source": [
    "# comparing number of comments of top 10 videos\n",
    "ax1=sns.barplot(x='comments',y='Title',data=top10_videos_comments)"
   ]
  },
  {
   "cell_type": "code",
   "execution_count": 20,
   "metadata": {},
   "outputs": [
    {
     "data": {
      "application/vnd.plotly.v1+json": {
       "config": {
        "plotlyServerURL": "https://plot.ly"
       },
       "data": [
        {
         "customdata": [
          [
           "How I animate 3Blue1Brown | A Manim demo with Ben Sparks"
          ],
          [
           "Hologram preview"
          ],
          [
           "Holograms are wild (full video linked above)"
          ],
          [
           "How are holograms possible? | Optics puzzles 5"
          ],
          [
           "A cute probability fact (part 3)"
          ],
          [
           "A cute probability fact (part 2)"
          ],
          [
           "A cute probability fact (part 1)"
          ],
          [
           "How might LLMs store facts | Chapter 7, Deep Learning"
          ],
          [
           "In the vector space of all advice..."
          ],
          [
           "What \"Follow Your Dreams\" Misses | Harvey Mudd Commencement Speech 2024"
          ],
          [
           "Temperature in LLMs"
          ],
          [
           "How word vectors encode meaning"
          ],
          [
           "Attention in transformers, visually explained | Chapter 6, Deep Learning"
          ],
          [
           "How large language models work, a visual intro to transformers | Chapter 5, Deep Learning"
          ],
          [
           "Simulating the electric field and a moving charge"
          ],
          [
           "How the Mandelbrot set is defined"
          ],
          [
           "A challenging puzzle about subset sums"
          ],
          [
           "Ellipses have multiple definitions, how are these the same?"
          ],
          [
           "Three levels of understanding Bayes' theorem"
          ],
          [
           "The medical test paradox (well \"paradox\")"
          ],
          [
           "Positioned as the hardest question on a Putnam exam  (#6, 1992)"
          ],
          [
           "Why does light slowing imply a bend? (Beyond the tank/car analogy)"
          ],
          [
           "The cube shadow puzzle"
          ],
          [
           "What does it mean that light \"slows down\" in glass?"
          ],
          [
           "Why do we call them \"scalars\"?"
          ],
          [
           "A beautiful international math olympiad problem"
          ],
          [
           "Definition of a \"bit\", in information theory"
          ],
          [
           "The Newton art puzzle"
          ],
          [
           "What is a group?"
          ],
          [
           "How to derive a formula for π"
          ],
          [
           "The limit of limiting arguments"
          ],
          [
           "For anyone who might not know how links in shorts work"
          ],
          [
           "Infinite Lighthouses and π"
          ],
          [
           "Can you even imagine 2^256?"
          ],
          [
           "Order from chaos"
          ],
          [
           "The surface area of a sphere"
          ],
          [
           "A short on shorts"
          ],
          [
           "A pretty way to add weighted dice"
          ],
          [
           "A simple image convolution"
          ],
          [
           "These integrals all equal π, until..."
          ],
          [
           "The split necklace puzzle (with a surprise topological solution)"
          ],
          [
           "Error correction is incredible"
          ],
          [
           "The chessboard and coins puzzle"
          ],
          [
           "Prime spirals"
          ],
          [
           "The barber pole effect"
          ],
          [
           "Fourier series"
          ],
          [
           "Seeing with sound"
          ],
          [
           "How prisms work (full video linked above)"
          ],
          [
           "I'm still astounded this is true"
          ],
          [
           "Don't let it fool you! (Link above explains what's happening)"
          ],
          [
           "How well do you understand refraction? | Optics puzzles 4"
          ],
          [
           "But why would light \"slow down\"? | Optics puzzles 3"
          ],
          [
           "25 Math explainers you may enjoy | SoME3 results"
          ],
          [
           "How wiggling charges give rise to light | Optics puzzles 2"
          ],
          [
           "This tests your understanding of light | Optics puzzles 1"
          ],
          [
           "A pretty reason why Gaussian + Gaussian = Gaussian"
          ],
          [
           "This pattern breaks, but for a good reason | Moser's circle problem"
          ],
          [
           "How They Fool Ya (live) | Math parody of Hallelujah"
          ],
          [
           "Convolutions | Why X+Y in probability is a beautiful mess"
          ],
          [
           "Why π is in the normal distribution (beyond integral tricks)"
          ],
          [
           "But what is the Central Limit Theorem?"
          ],
          [
           "But what is a convolution?"
          ],
          [
           "Researchers thought this was a bug (Borwein integrals)"
          ],
          [
           "What makes a great math explanation? | SoME2 results"
          ],
          [
           "How to lie using visual proofs"
          ],
          [
           "Olympiad level counting  (Generating functions)"
          ],
          [
           "Oh, wait, actually the best Wordle opener is not “crane”…"
          ],
          [
           "Solving Wordle using information theory"
          ],
          [
           "A tale of two problem solvers (Average cube shadows)"
          ],
          [
           "2021 Summer of Math Exposition results"
          ],
          [
           "Beyond the Mandelbrot set, an intro to holomorphic dynamics"
          ],
          [
           "From Newton’s method to Newton’s fractal (which Newton knew nothing about)"
          ],
          [
           "Make math videos! | Summer of Math Exposition announcement"
          ],
          [
           "A quick trick for computing eigenvalues | Chapter 15, Essence of linear algebra"
          ],
          [
           "How (and why) to raise e to the power of a matrix | DE6"
          ],
          [
           "The medical test paradox, and redesigning Bayes' rule"
          ],
          [
           "Hamming codes part 2: The one-line implementation"
          ],
          [
           "But what are Hamming codes? The origin of error correction"
          ],
          [
           "Group theory, abstraction, and the 196,883-dimensional monster"
          ],
          [
           "The impossible chessboard puzzle"
          ],
          [
           "Tips to be a better problem solver [Last live lecture] | Ep. 10 Lockdown live math"
          ],
          [
           "Intuition for i to the power i | Ep. 9 Lockdown live math"
          ],
          [
           "The DP-3T algorithm for contact tracing (via Nicky Case)"
          ],
          [
           "The power tower puzzle | Ep. 8 Lockdown live math"
          ],
          [
           "What makes the natural log \"natural\"? | Ep. 7 Lockdown live math"
          ],
          [
           "Logarithm Fundamentals | Ep. 6 Lockdown live math"
          ],
          [
           "Imaginary interest rates | Ep. 5 Lockdown live math"
          ],
          [
           "What is Euler's formula actually saying? | Ep. 4 Lockdown live math"
          ],
          [
           "Complex number fundamentals | Ep. 3 Lockdown live math"
          ],
          [
           "Trigonometry fundamentals | Ep. 2 Lockdown live math"
          ],
          [
           "The simpler quadratic formula | Ep. 1 Lockdown live math"
          ],
          [
           "Lockdown math announcement"
          ],
          [
           "Why “probability of 0” does not mean “impossible” | Probabilities of probabilities, part 2"
          ],
          [
           "Simulating an epidemic"
          ],
          [
           "Binomial distributions | Probabilities of probabilities, part 1"
          ],
          [
           "Exponential growth and epidemics"
          ],
          [
           "The quick proof of Bayes' theorem"
          ],
          [
           "Bayes theorem, the geometry of changing beliefs"
          ],
          [
           "Q&A with Grant, windy walk edition"
          ],
          [
           "Why do prime numbers make these spirals? | Dirichlet’s theorem and pi approximations"
          ],
          [
           "The unexpectedly hard windmill question (2011 IMO, Q2)"
          ],
          [
           "e^(iπ) in 3.14 minutes, using dynamics | DE5"
          ],
          [
           "Pure Fourier series animation montage"
          ],
          [
           "But what is a Fourier series?  From heat flow to drawing with circles | DE4"
          ],
          [
           "Solving the heat equation | DE3"
          ],
          [
           "But what is a partial differential equation?  | DE2"
          ],
          [
           "Differential equations, a tourist's guide | DE1"
          ],
          [
           "Cramer's rule, explained geometrically | Chapter 12, Essence of linear algebra"
          ],
          [
           "How colliding blocks act like a beam of light...to compute pi."
          ],
          [
           "Why do colliding blocks compute pi?"
          ],
          [
           "The most unexpected answer to a counting puzzle"
          ],
          [
           "But why is a sphere's surface area four times its shadow?"
          ],
          [
           "Using topology for discrete problems | The Borsuk-Ulam theorem and stolen necklaces"
          ],
          [
           "Why 5/3 is a fundamental constant for turbulence"
          ],
          [
           "Quaternions and 3d rotation, explained interactively"
          ],
          [
           "Visualizing quaternions (4d numbers) with stereographic projection"
          ],
          [
           "Q&A with Grant Sanderson (3blue1brown)"
          ],
          [
           "Why slicing a cone gives an ellipse (beautiful proof)"
          ],
          [
           "Other math channels you'd enjoy"
          ],
          [
           "Divergence and curl:  The language of Maxwell's equations, fluid flow, and more"
          ],
          [
           "The other way to visualize derivatives | Chapter 12, Essence of calculus"
          ],
          [
           "The Wallis product for pi, proved geometrically"
          ],
          [
           "Winding numbers and domain coloring"
          ],
          [
           "How pi was almost 6.283185..."
          ],
          [
           "Why is pi here?  And why is it squared?  A geometric answer to the Basel problem"
          ],
          [
           "The more general uncertainty principle, regarding Fourier transforms"
          ],
          [
           "But what is the Fourier Transform?  A visual introduction."
          ],
          [
           "Why this puzzle is impossible"
          ],
          [
           "Q&A #2 + Net Neutrality Nuance"
          ],
          [
           "The hardest problem on the hardest test"
          ],
          [
           "Backpropagation calculus | Chapter 4, Deep learning"
          ],
          [
           "What is backpropagation really doing? | Chapter 3, Deep learning"
          ],
          [
           "Gradient descent, how neural networks learn | Chapter 2, Deep learning"
          ],
          [
           "But what is a neural network? | Chapter 1, Deep learning"
          ],
          [
           "Some light quantum mechanics (with minutephysics)"
          ],
          [
           "Thinking outside the 10-dimensional box"
          ],
          [
           "Hilbert's Curve: Is infinite math useful?"
          ],
          [
           "How secure is 256 bit security?"
          ],
          [
           "But how does bitcoin actually work?"
          ],
          [
           "All possible pythagorean triples, visualized"
          ],
          [
           "Pi hiding in prime regularities"
          ],
          [
           "Taylor series | Chapter 11, Essence of calculus"
          ],
          [
           "Higher order derivatives | Chapter 10, Essence of calculus"
          ],
          [
           "What does area have to do with slope? | Chapter 9, Essence of calculus"
          ],
          [
           "Integration and the fundamental theorem of calculus | Chapter 8, Essence of calculus"
          ],
          [
           "Limits, L'Hôpital's rule, and epsilon delta definitions | Chapter 7, Essence of calculus"
          ],
          [
           "Implicit differentiation, what's going on here? | Chapter 6, Essence of calculus"
          ],
          [
           "What's so special about Euler's number e? | Chapter 5, Essence of calculus"
          ],
          [
           "Visualizing the chain rule and product rule | Chapter 4, Essence of calculus"
          ],
          [
           "Derivative formulas through geometry | Chapter 3, Essence of calculus"
          ],
          [
           "The paradox of the derivative | Chapter 2, Essence of calculus"
          ],
          [
           "The essence of calculus"
          ],
          [
           "Euler's formula with introductory group theory"
          ],
          [
           "Fractals are typically not self-similar"
          ],
          [
           "Tattoos on Math"
          ],
          [
           "But what is the Riemann zeta function? Visualizing analytic continuation"
          ],
          [
           "Binary, Hanoi, and Sierpinski, part 2"
          ],
          [
           "Binary, Hanoi and Sierpinski, part 1"
          ],
          [
           "3blue1brown channel trailer"
          ],
          [
           "Who cares about topology?   (Inscribed rectangle problem)"
          ],
          [
           "Abstract vector spaces | Chapter 16, Essence of linear algebra"
          ],
          [
           "Eigenvectors and eigenvalues | Chapter 14, Essence of linear algebra"
          ],
          [
           "Change of basis | Chapter 13, Essence of linear algebra"
          ],
          [
           "Cross products in the light of linear transformations | Chapter 11, Essence of linear algebra"
          ],
          [
           "Cross products | Chapter 10, Essence of linear algebra"
          ],
          [
           "Dot products and duality | Chapter 9, Essence of linear algebra"
          ],
          [
           "Nonsquare matrices as transformations between dimensions | Chapter 8, Essence of linear algebra"
          ],
          [
           "Inverse matrices, column space and null space | Chapter 7, Essence of linear algebra"
          ],
          [
           "The determinant | Chapter 6, Essence of linear algebra"
          ],
          [
           "Three-dimensional linear transformations | Chapter 5, Essence of linear algebra"
          ],
          [
           "Matrix multiplication as composition | Chapter 4, Essence of linear algebra"
          ],
          [
           "Linear transformations and matrices | Chapter 3, Essence of linear algebra"
          ],
          [
           "Linear combinations, span, and basis vectors | Chapter 2, Essence of linear algebra"
          ],
          [
           "Vectors | Chapter 1, Essence of linear algebra"
          ],
          [
           "Essence of linear algebra preview"
          ],
          [
           "Triangle of Power"
          ],
          [
           "The Brachistochrone, with Steven Strogatz"
          ],
          [
           "Snell's law proof using springs"
          ],
          [
           "Fractal charm: Space filling curves"
          ],
          [
           "Music And Measure Theory"
          ],
          [
           "How to count to 1000 on two hands"
          ],
          [
           "What does it feel like to invent math?"
          ],
          [
           "Euler's Formula and Graph Duality"
          ],
          [
           "Euler's Formula Poem"
          ],
          [
           "e to the pi i, a nontraditional take (old version)"
          ]
         ],
         "hovertemplate": "<b>%{hovertext}</b><br><br>Views=%{x}<br>Likes=%{y}<br>Title=%{customdata[0]}<extra></extra>",
         "hovertext": [
          "How I animate 3Blue1Brown | A Manim demo with Ben Sparks",
          "Hologram preview",
          "Holograms are wild (full video linked above)",
          "How are holograms possible? | Optics puzzles 5",
          "A cute probability fact (part 3)",
          "A cute probability fact (part 2)",
          "A cute probability fact (part 1)",
          "How might LLMs store facts | Chapter 7, Deep Learning",
          "In the vector space of all advice...",
          "What \"Follow Your Dreams\" Misses | Harvey Mudd Commencement Speech 2024",
          "Temperature in LLMs",
          "How word vectors encode meaning",
          "Attention in transformers, visually explained | Chapter 6, Deep Learning",
          "How large language models work, a visual intro to transformers | Chapter 5, Deep Learning",
          "Simulating the electric field and a moving charge",
          "How the Mandelbrot set is defined",
          "A challenging puzzle about subset sums",
          "Ellipses have multiple definitions, how are these the same?",
          "Three levels of understanding Bayes' theorem",
          "The medical test paradox (well \"paradox\")",
          "Positioned as the hardest question on a Putnam exam  (#6, 1992)",
          "Why does light slowing imply a bend? (Beyond the tank/car analogy)",
          "The cube shadow puzzle",
          "What does it mean that light \"slows down\" in glass?",
          "Why do we call them \"scalars\"?",
          "A beautiful international math olympiad problem",
          "Definition of a \"bit\", in information theory",
          "The Newton art puzzle",
          "What is a group?",
          "How to derive a formula for π",
          "The limit of limiting arguments",
          "For anyone who might not know how links in shorts work",
          "Infinite Lighthouses and π",
          "Can you even imagine 2^256?",
          "Order from chaos",
          "The surface area of a sphere",
          "A short on shorts",
          "A pretty way to add weighted dice",
          "A simple image convolution",
          "These integrals all equal π, until...",
          "The split necklace puzzle (with a surprise topological solution)",
          "Error correction is incredible",
          "The chessboard and coins puzzle",
          "Prime spirals",
          "The barber pole effect",
          "Fourier series",
          "Seeing with sound",
          "How prisms work (full video linked above)",
          "I'm still astounded this is true",
          "Don't let it fool you! (Link above explains what's happening)",
          "How well do you understand refraction? | Optics puzzles 4",
          "But why would light \"slow down\"? | Optics puzzles 3",
          "25 Math explainers you may enjoy | SoME3 results",
          "How wiggling charges give rise to light | Optics puzzles 2",
          "This tests your understanding of light | Optics puzzles 1",
          "A pretty reason why Gaussian + Gaussian = Gaussian",
          "This pattern breaks, but for a good reason | Moser's circle problem",
          "How They Fool Ya (live) | Math parody of Hallelujah",
          "Convolutions | Why X+Y in probability is a beautiful mess",
          "Why π is in the normal distribution (beyond integral tricks)",
          "But what is the Central Limit Theorem?",
          "But what is a convolution?",
          "Researchers thought this was a bug (Borwein integrals)",
          "What makes a great math explanation? | SoME2 results",
          "How to lie using visual proofs",
          "Olympiad level counting  (Generating functions)",
          "Oh, wait, actually the best Wordle opener is not “crane”…",
          "Solving Wordle using information theory",
          "A tale of two problem solvers (Average cube shadows)",
          "2021 Summer of Math Exposition results",
          "Beyond the Mandelbrot set, an intro to holomorphic dynamics",
          "From Newton’s method to Newton’s fractal (which Newton knew nothing about)",
          "Make math videos! | Summer of Math Exposition announcement",
          "A quick trick for computing eigenvalues | Chapter 15, Essence of linear algebra",
          "How (and why) to raise e to the power of a matrix | DE6",
          "The medical test paradox, and redesigning Bayes' rule",
          "Hamming codes part 2: The one-line implementation",
          "But what are Hamming codes? The origin of error correction",
          "Group theory, abstraction, and the 196,883-dimensional monster",
          "The impossible chessboard puzzle",
          "Tips to be a better problem solver [Last live lecture] | Ep. 10 Lockdown live math",
          "Intuition for i to the power i | Ep. 9 Lockdown live math",
          "The DP-3T algorithm for contact tracing (via Nicky Case)",
          "The power tower puzzle | Ep. 8 Lockdown live math",
          "What makes the natural log \"natural\"? | Ep. 7 Lockdown live math",
          "Logarithm Fundamentals | Ep. 6 Lockdown live math",
          "Imaginary interest rates | Ep. 5 Lockdown live math",
          "What is Euler's formula actually saying? | Ep. 4 Lockdown live math",
          "Complex number fundamentals | Ep. 3 Lockdown live math",
          "Trigonometry fundamentals | Ep. 2 Lockdown live math",
          "The simpler quadratic formula | Ep. 1 Lockdown live math",
          "Lockdown math announcement",
          "Why “probability of 0” does not mean “impossible” | Probabilities of probabilities, part 2",
          "Simulating an epidemic",
          "Binomial distributions | Probabilities of probabilities, part 1",
          "Exponential growth and epidemics",
          "The quick proof of Bayes' theorem",
          "Bayes theorem, the geometry of changing beliefs",
          "Q&A with Grant, windy walk edition",
          "Why do prime numbers make these spirals? | Dirichlet’s theorem and pi approximations",
          "The unexpectedly hard windmill question (2011 IMO, Q2)",
          "e^(iπ) in 3.14 minutes, using dynamics | DE5",
          "Pure Fourier series animation montage",
          "But what is a Fourier series?  From heat flow to drawing with circles | DE4",
          "Solving the heat equation | DE3",
          "But what is a partial differential equation?  | DE2",
          "Differential equations, a tourist's guide | DE1",
          "Cramer's rule, explained geometrically | Chapter 12, Essence of linear algebra",
          "How colliding blocks act like a beam of light...to compute pi.",
          "Why do colliding blocks compute pi?",
          "The most unexpected answer to a counting puzzle",
          "But why is a sphere's surface area four times its shadow?",
          "Using topology for discrete problems | The Borsuk-Ulam theorem and stolen necklaces",
          "Why 5/3 is a fundamental constant for turbulence",
          "Quaternions and 3d rotation, explained interactively",
          "Visualizing quaternions (4d numbers) with stereographic projection",
          "Q&A with Grant Sanderson (3blue1brown)",
          "Why slicing a cone gives an ellipse (beautiful proof)",
          "Other math channels you'd enjoy",
          "Divergence and curl:  The language of Maxwell's equations, fluid flow, and more",
          "The other way to visualize derivatives | Chapter 12, Essence of calculus",
          "The Wallis product for pi, proved geometrically",
          "Winding numbers and domain coloring",
          "How pi was almost 6.283185...",
          "Why is pi here?  And why is it squared?  A geometric answer to the Basel problem",
          "The more general uncertainty principle, regarding Fourier transforms",
          "But what is the Fourier Transform?  A visual introduction.",
          "Why this puzzle is impossible",
          "Q&A #2 + Net Neutrality Nuance",
          "The hardest problem on the hardest test",
          "Backpropagation calculus | Chapter 4, Deep learning",
          "What is backpropagation really doing? | Chapter 3, Deep learning",
          "Gradient descent, how neural networks learn | Chapter 2, Deep learning",
          "But what is a neural network? | Chapter 1, Deep learning",
          "Some light quantum mechanics (with minutephysics)",
          "Thinking outside the 10-dimensional box",
          "Hilbert's Curve: Is infinite math useful?",
          "How secure is 256 bit security?",
          "But how does bitcoin actually work?",
          "All possible pythagorean triples, visualized",
          "Pi hiding in prime regularities",
          "Taylor series | Chapter 11, Essence of calculus",
          "Higher order derivatives | Chapter 10, Essence of calculus",
          "What does area have to do with slope? | Chapter 9, Essence of calculus",
          "Integration and the fundamental theorem of calculus | Chapter 8, Essence of calculus",
          "Limits, L'Hôpital's rule, and epsilon delta definitions | Chapter 7, Essence of calculus",
          "Implicit differentiation, what's going on here? | Chapter 6, Essence of calculus",
          "What's so special about Euler's number e? | Chapter 5, Essence of calculus",
          "Visualizing the chain rule and product rule | Chapter 4, Essence of calculus",
          "Derivative formulas through geometry | Chapter 3, Essence of calculus",
          "The paradox of the derivative | Chapter 2, Essence of calculus",
          "The essence of calculus",
          "Euler's formula with introductory group theory",
          "Fractals are typically not self-similar",
          "Tattoos on Math",
          "But what is the Riemann zeta function? Visualizing analytic continuation",
          "Binary, Hanoi, and Sierpinski, part 2",
          "Binary, Hanoi and Sierpinski, part 1",
          "3blue1brown channel trailer",
          "Who cares about topology?   (Inscribed rectangle problem)",
          "Abstract vector spaces | Chapter 16, Essence of linear algebra",
          "Eigenvectors and eigenvalues | Chapter 14, Essence of linear algebra",
          "Change of basis | Chapter 13, Essence of linear algebra",
          "Cross products in the light of linear transformations | Chapter 11, Essence of linear algebra",
          "Cross products | Chapter 10, Essence of linear algebra",
          "Dot products and duality | Chapter 9, Essence of linear algebra",
          "Nonsquare matrices as transformations between dimensions | Chapter 8, Essence of linear algebra",
          "Inverse matrices, column space and null space | Chapter 7, Essence of linear algebra",
          "The determinant | Chapter 6, Essence of linear algebra",
          "Three-dimensional linear transformations | Chapter 5, Essence of linear algebra",
          "Matrix multiplication as composition | Chapter 4, Essence of linear algebra",
          "Linear transformations and matrices | Chapter 3, Essence of linear algebra",
          "Linear combinations, span, and basis vectors | Chapter 2, Essence of linear algebra",
          "Vectors | Chapter 1, Essence of linear algebra",
          "Essence of linear algebra preview",
          "Triangle of Power",
          "The Brachistochrone, with Steven Strogatz",
          "Snell's law proof using springs",
          "Fractal charm: Space filling curves",
          "Music And Measure Theory",
          "How to count to 1000 on two hands",
          "What does it feel like to invent math?",
          "Euler's Formula and Graph Duality",
          "Euler's Formula Poem",
          "e to the pi i, a nontraditional take (old version)"
         ],
         "legendgroup": "",
         "marker": {
          "color": "#636efa",
          "symbol": "circle"
         },
         "mode": "markers",
         "name": "",
         "orientation": "v",
         "showlegend": false,
         "type": "scatter",
         "x": [
          695472,
          23415,
          1809946,
          1076866,
          203992,
          95120,
          315869,
          671175,
          109984,
          983088,
          248284,
          851705,
          1718429,
          3391982,
          566076,
          530929,
          941635,
          50930,
          79551,
          9744044,
          238787,
          1334825,
          1991488,
          178018,
          237599,
          1761520,
          199247,
          8197110,
          124623,
          517912,
          1976855,
          244219,
          1938961,
          1549016,
          13725827,
          1873316,
          792900,
          771456,
          999223,
          371034,
          341240,
          4166259,
          4092459,
          3448080,
          475626,
          1890886,
          864795,
          6655090,
          53603769,
          14891390,
          758368,
          1471578,
          581771,
          917042,
          1063446,
          803583,
          2193210,
          1004453,
          696975,
          1646263,
          3544697,
          2710273,
          3689216,
          743912,
          3349329,
          1960641,
          6199559,
          10569928,
          2778421,
          782321,
          1490266,
          2848649,
          727146,
          1043617,
          2896956,
          1267036,
          863307,
          2469172,
          3091306,
          2024763,
          1300290,
          521099,
          357571,
          852969,
          1528292,
          907031,
          751558,
          1233769,
          1620354,
          1759053,
          1359355,
          894816,
          2827599,
          5164092,
          2220469,
          5970243,
          506790,
          4477362,
          434459,
          5848505,
          5033488,
          2890229,
          664276,
          17908323,
          1349337,
          2630360,
          4164068,
          1183473,
          1259503,
          6732921,
          13065861,
          7935969,
          883795,
          709965,
          1238842,
          4721818,
          810254,
          1872665,
          231691,
          4316898,
          3579105,
          824436,
          940526,
          1729012,
          6308814,
          2045327,
          10486596,
          3156024,
          147358,
          15729447,
          2919457,
          4678304,
          7122078,
          17562138,
          1943560,
          3053266,
          2255109,
          3232747,
          15997797,
          3861862,
          2574199,
          4174694,
          764690,
          1452798,
          2358541,
          2123708,
          1938258,
          4116687,
          1889123,
          3038048,
          3686427,
          9374162,
          2462057,
          4044510,
          752661,
          4739049,
          299894,
          705356,
          399395,
          3222776,
          1436082,
          4910331,
          1981459,
          1244901,
          1893167,
          2572622,
          1600285,
          2924327,
          3865595,
          2037408,
          3296683,
          5259476,
          5513261,
          8750084,
          2469699,
          783771,
          1310448,
          199139,
          2053678,
          1531744,
          429194,
          4200590,
          474460,
          167064,
          2680659
         ],
         "xaxis": "x",
         "y": [
          39362,
          1626,
          105404,
          54376,
          11829,
          5346,
          17104,
          25896,
          6156,
          55063,
          14372,
          44282,
          49125,
          120172,
          35466,
          32367,
          42855,
          2807,
          6071,
          445746,
          12703,
          75559,
          86222,
          13107,
          18250,
          89087,
          12634,
          434924,
          7984,
          28103,
          78384,
          18949,
          127312,
          90323,
          359531,
          111206,
          71324,
          45876,
          46615,
          24605,
          21450,
          219424,
          161680,
          232714,
          28287,
          111447,
          55186,
          302361,
          2420283,
          736054,
          25715,
          47676,
          24449,
          35447,
          42438,
          22219,
          89934,
          63053,
          24109,
          50697,
          67228,
          100185,
          87795,
          36987,
          117789,
          67504,
          152148,
          225467,
          86114,
          37005,
          43965,
          91837,
          31259,
          28832,
          77822,
          50600,
          40209,
          92844,
          116558,
          62534,
          25626,
          9411,
          23283,
          18389,
          26154,
          16593,
          15267,
          30510,
          34833,
          35297,
          45596,
          48776,
          72891,
          159491,
          76400,
          168212,
          15025,
          127582,
          18829,
          175009,
          153132,
          74403,
          19661,
          175986,
          31495,
          70201,
          100858,
          25972,
          41984,
          207623,
          309621,
          148642,
          28923,
          25777,
          29945,
          99060,
          35373,
          57021,
          12576,
          134347,
          87564,
          21544,
          27606,
          44604,
          128736,
          58982,
          296318,
          85405,
          4742,
          406025,
          61703,
          84777,
          151599,
          430205,
          49986,
          64404,
          51494,
          107800,
          367559,
          83619,
          54705,
          114843,
          18022,
          34391,
          53304,
          49374,
          41539,
          92868,
          44606,
          69805,
          91867,
          255001,
          58174,
          97122,
          23342,
          96901,
          9409,
          17833,
          3838,
          86664,
          50922,
          97011,
          37522,
          22384,
          33066,
          49118,
          28847,
          60368,
          85093,
          35735,
          68150,
          112082,
          106924,
          169584,
          43556,
          29661,
          30042,
          5992,
          38293,
          41335,
          12585,
          93672,
          11578,
          5148,
          42652
         ],
         "yaxis": "y"
        }
       ],
       "layout": {
        "legend": {
         "tracegroupgap": 0
        },
        "template": {
         "data": {
          "bar": [
           {
            "error_x": {
             "color": "#2a3f5f"
            },
            "error_y": {
             "color": "#2a3f5f"
            },
            "marker": {
             "line": {
              "color": "#E5ECF6",
              "width": 0.5
             },
             "pattern": {
              "fillmode": "overlay",
              "size": 10,
              "solidity": 0.2
             }
            },
            "type": "bar"
           }
          ],
          "barpolar": [
           {
            "marker": {
             "line": {
              "color": "#E5ECF6",
              "width": 0.5
             },
             "pattern": {
              "fillmode": "overlay",
              "size": 10,
              "solidity": 0.2
             }
            },
            "type": "barpolar"
           }
          ],
          "carpet": [
           {
            "aaxis": {
             "endlinecolor": "#2a3f5f",
             "gridcolor": "white",
             "linecolor": "white",
             "minorgridcolor": "white",
             "startlinecolor": "#2a3f5f"
            },
            "baxis": {
             "endlinecolor": "#2a3f5f",
             "gridcolor": "white",
             "linecolor": "white",
             "minorgridcolor": "white",
             "startlinecolor": "#2a3f5f"
            },
            "type": "carpet"
           }
          ],
          "choropleth": [
           {
            "colorbar": {
             "outlinewidth": 0,
             "ticks": ""
            },
            "type": "choropleth"
           }
          ],
          "contour": [
           {
            "colorbar": {
             "outlinewidth": 0,
             "ticks": ""
            },
            "colorscale": [
             [
              0,
              "#0d0887"
             ],
             [
              0.1111111111111111,
              "#46039f"
             ],
             [
              0.2222222222222222,
              "#7201a8"
             ],
             [
              0.3333333333333333,
              "#9c179e"
             ],
             [
              0.4444444444444444,
              "#bd3786"
             ],
             [
              0.5555555555555556,
              "#d8576b"
             ],
             [
              0.6666666666666666,
              "#ed7953"
             ],
             [
              0.7777777777777778,
              "#fb9f3a"
             ],
             [
              0.8888888888888888,
              "#fdca26"
             ],
             [
              1,
              "#f0f921"
             ]
            ],
            "type": "contour"
           }
          ],
          "contourcarpet": [
           {
            "colorbar": {
             "outlinewidth": 0,
             "ticks": ""
            },
            "type": "contourcarpet"
           }
          ],
          "heatmap": [
           {
            "colorbar": {
             "outlinewidth": 0,
             "ticks": ""
            },
            "colorscale": [
             [
              0,
              "#0d0887"
             ],
             [
              0.1111111111111111,
              "#46039f"
             ],
             [
              0.2222222222222222,
              "#7201a8"
             ],
             [
              0.3333333333333333,
              "#9c179e"
             ],
             [
              0.4444444444444444,
              "#bd3786"
             ],
             [
              0.5555555555555556,
              "#d8576b"
             ],
             [
              0.6666666666666666,
              "#ed7953"
             ],
             [
              0.7777777777777778,
              "#fb9f3a"
             ],
             [
              0.8888888888888888,
              "#fdca26"
             ],
             [
              1,
              "#f0f921"
             ]
            ],
            "type": "heatmap"
           }
          ],
          "heatmapgl": [
           {
            "colorbar": {
             "outlinewidth": 0,
             "ticks": ""
            },
            "colorscale": [
             [
              0,
              "#0d0887"
             ],
             [
              0.1111111111111111,
              "#46039f"
             ],
             [
              0.2222222222222222,
              "#7201a8"
             ],
             [
              0.3333333333333333,
              "#9c179e"
             ],
             [
              0.4444444444444444,
              "#bd3786"
             ],
             [
              0.5555555555555556,
              "#d8576b"
             ],
             [
              0.6666666666666666,
              "#ed7953"
             ],
             [
              0.7777777777777778,
              "#fb9f3a"
             ],
             [
              0.8888888888888888,
              "#fdca26"
             ],
             [
              1,
              "#f0f921"
             ]
            ],
            "type": "heatmapgl"
           }
          ],
          "histogram": [
           {
            "marker": {
             "pattern": {
              "fillmode": "overlay",
              "size": 10,
              "solidity": 0.2
             }
            },
            "type": "histogram"
           }
          ],
          "histogram2d": [
           {
            "colorbar": {
             "outlinewidth": 0,
             "ticks": ""
            },
            "colorscale": [
             [
              0,
              "#0d0887"
             ],
             [
              0.1111111111111111,
              "#46039f"
             ],
             [
              0.2222222222222222,
              "#7201a8"
             ],
             [
              0.3333333333333333,
              "#9c179e"
             ],
             [
              0.4444444444444444,
              "#bd3786"
             ],
             [
              0.5555555555555556,
              "#d8576b"
             ],
             [
              0.6666666666666666,
              "#ed7953"
             ],
             [
              0.7777777777777778,
              "#fb9f3a"
             ],
             [
              0.8888888888888888,
              "#fdca26"
             ],
             [
              1,
              "#f0f921"
             ]
            ],
            "type": "histogram2d"
           }
          ],
          "histogram2dcontour": [
           {
            "colorbar": {
             "outlinewidth": 0,
             "ticks": ""
            },
            "colorscale": [
             [
              0,
              "#0d0887"
             ],
             [
              0.1111111111111111,
              "#46039f"
             ],
             [
              0.2222222222222222,
              "#7201a8"
             ],
             [
              0.3333333333333333,
              "#9c179e"
             ],
             [
              0.4444444444444444,
              "#bd3786"
             ],
             [
              0.5555555555555556,
              "#d8576b"
             ],
             [
              0.6666666666666666,
              "#ed7953"
             ],
             [
              0.7777777777777778,
              "#fb9f3a"
             ],
             [
              0.8888888888888888,
              "#fdca26"
             ],
             [
              1,
              "#f0f921"
             ]
            ],
            "type": "histogram2dcontour"
           }
          ],
          "mesh3d": [
           {
            "colorbar": {
             "outlinewidth": 0,
             "ticks": ""
            },
            "type": "mesh3d"
           }
          ],
          "parcoords": [
           {
            "line": {
             "colorbar": {
              "outlinewidth": 0,
              "ticks": ""
             }
            },
            "type": "parcoords"
           }
          ],
          "pie": [
           {
            "automargin": true,
            "type": "pie"
           }
          ],
          "scatter": [
           {
            "marker": {
             "colorbar": {
              "outlinewidth": 0,
              "ticks": ""
             }
            },
            "type": "scatter"
           }
          ],
          "scatter3d": [
           {
            "line": {
             "colorbar": {
              "outlinewidth": 0,
              "ticks": ""
             }
            },
            "marker": {
             "colorbar": {
              "outlinewidth": 0,
              "ticks": ""
             }
            },
            "type": "scatter3d"
           }
          ],
          "scattercarpet": [
           {
            "marker": {
             "colorbar": {
              "outlinewidth": 0,
              "ticks": ""
             }
            },
            "type": "scattercarpet"
           }
          ],
          "scattergeo": [
           {
            "marker": {
             "colorbar": {
              "outlinewidth": 0,
              "ticks": ""
             }
            },
            "type": "scattergeo"
           }
          ],
          "scattergl": [
           {
            "marker": {
             "colorbar": {
              "outlinewidth": 0,
              "ticks": ""
             }
            },
            "type": "scattergl"
           }
          ],
          "scattermapbox": [
           {
            "marker": {
             "colorbar": {
              "outlinewidth": 0,
              "ticks": ""
             }
            },
            "type": "scattermapbox"
           }
          ],
          "scatterpolar": [
           {
            "marker": {
             "colorbar": {
              "outlinewidth": 0,
              "ticks": ""
             }
            },
            "type": "scatterpolar"
           }
          ],
          "scatterpolargl": [
           {
            "marker": {
             "colorbar": {
              "outlinewidth": 0,
              "ticks": ""
             }
            },
            "type": "scatterpolargl"
           }
          ],
          "scatterternary": [
           {
            "marker": {
             "colorbar": {
              "outlinewidth": 0,
              "ticks": ""
             }
            },
            "type": "scatterternary"
           }
          ],
          "surface": [
           {
            "colorbar": {
             "outlinewidth": 0,
             "ticks": ""
            },
            "colorscale": [
             [
              0,
              "#0d0887"
             ],
             [
              0.1111111111111111,
              "#46039f"
             ],
             [
              0.2222222222222222,
              "#7201a8"
             ],
             [
              0.3333333333333333,
              "#9c179e"
             ],
             [
              0.4444444444444444,
              "#bd3786"
             ],
             [
              0.5555555555555556,
              "#d8576b"
             ],
             [
              0.6666666666666666,
              "#ed7953"
             ],
             [
              0.7777777777777778,
              "#fb9f3a"
             ],
             [
              0.8888888888888888,
              "#fdca26"
             ],
             [
              1,
              "#f0f921"
             ]
            ],
            "type": "surface"
           }
          ],
          "table": [
           {
            "cells": {
             "fill": {
              "color": "#EBF0F8"
             },
             "line": {
              "color": "white"
             }
            },
            "header": {
             "fill": {
              "color": "#C8D4E3"
             },
             "line": {
              "color": "white"
             }
            },
            "type": "table"
           }
          ]
         },
         "layout": {
          "annotationdefaults": {
           "arrowcolor": "#2a3f5f",
           "arrowhead": 0,
           "arrowwidth": 1
          },
          "autotypenumbers": "strict",
          "coloraxis": {
           "colorbar": {
            "outlinewidth": 0,
            "ticks": ""
           }
          },
          "colorscale": {
           "diverging": [
            [
             0,
             "#8e0152"
            ],
            [
             0.1,
             "#c51b7d"
            ],
            [
             0.2,
             "#de77ae"
            ],
            [
             0.3,
             "#f1b6da"
            ],
            [
             0.4,
             "#fde0ef"
            ],
            [
             0.5,
             "#f7f7f7"
            ],
            [
             0.6,
             "#e6f5d0"
            ],
            [
             0.7,
             "#b8e186"
            ],
            [
             0.8,
             "#7fbc41"
            ],
            [
             0.9,
             "#4d9221"
            ],
            [
             1,
             "#276419"
            ]
           ],
           "sequential": [
            [
             0,
             "#0d0887"
            ],
            [
             0.1111111111111111,
             "#46039f"
            ],
            [
             0.2222222222222222,
             "#7201a8"
            ],
            [
             0.3333333333333333,
             "#9c179e"
            ],
            [
             0.4444444444444444,
             "#bd3786"
            ],
            [
             0.5555555555555556,
             "#d8576b"
            ],
            [
             0.6666666666666666,
             "#ed7953"
            ],
            [
             0.7777777777777778,
             "#fb9f3a"
            ],
            [
             0.8888888888888888,
             "#fdca26"
            ],
            [
             1,
             "#f0f921"
            ]
           ],
           "sequentialminus": [
            [
             0,
             "#0d0887"
            ],
            [
             0.1111111111111111,
             "#46039f"
            ],
            [
             0.2222222222222222,
             "#7201a8"
            ],
            [
             0.3333333333333333,
             "#9c179e"
            ],
            [
             0.4444444444444444,
             "#bd3786"
            ],
            [
             0.5555555555555556,
             "#d8576b"
            ],
            [
             0.6666666666666666,
             "#ed7953"
            ],
            [
             0.7777777777777778,
             "#fb9f3a"
            ],
            [
             0.8888888888888888,
             "#fdca26"
            ],
            [
             1,
             "#f0f921"
            ]
           ]
          },
          "colorway": [
           "#636efa",
           "#EF553B",
           "#00cc96",
           "#ab63fa",
           "#FFA15A",
           "#19d3f3",
           "#FF6692",
           "#B6E880",
           "#FF97FF",
           "#FECB52"
          ],
          "font": {
           "color": "#2a3f5f"
          },
          "geo": {
           "bgcolor": "white",
           "lakecolor": "white",
           "landcolor": "#E5ECF6",
           "showlakes": true,
           "showland": true,
           "subunitcolor": "white"
          },
          "hoverlabel": {
           "align": "left"
          },
          "hovermode": "closest",
          "mapbox": {
           "style": "light"
          },
          "paper_bgcolor": "white",
          "plot_bgcolor": "#E5ECF6",
          "polar": {
           "angularaxis": {
            "gridcolor": "white",
            "linecolor": "white",
            "ticks": ""
           },
           "bgcolor": "#E5ECF6",
           "radialaxis": {
            "gridcolor": "white",
            "linecolor": "white",
            "ticks": ""
           }
          },
          "scene": {
           "xaxis": {
            "backgroundcolor": "#E5ECF6",
            "gridcolor": "white",
            "gridwidth": 2,
            "linecolor": "white",
            "showbackground": true,
            "ticks": "",
            "zerolinecolor": "white"
           },
           "yaxis": {
            "backgroundcolor": "#E5ECF6",
            "gridcolor": "white",
            "gridwidth": 2,
            "linecolor": "white",
            "showbackground": true,
            "ticks": "",
            "zerolinecolor": "white"
           },
           "zaxis": {
            "backgroundcolor": "#E5ECF6",
            "gridcolor": "white",
            "gridwidth": 2,
            "linecolor": "white",
            "showbackground": true,
            "ticks": "",
            "zerolinecolor": "white"
           }
          },
          "shapedefaults": {
           "line": {
            "color": "#2a3f5f"
           }
          },
          "ternary": {
           "aaxis": {
            "gridcolor": "white",
            "linecolor": "white",
            "ticks": ""
           },
           "baxis": {
            "gridcolor": "white",
            "linecolor": "white",
            "ticks": ""
           },
           "bgcolor": "#E5ECF6",
           "caxis": {
            "gridcolor": "white",
            "linecolor": "white",
            "ticks": ""
           }
          },
          "title": {
           "x": 0.05
          },
          "xaxis": {
           "automargin": true,
           "gridcolor": "white",
           "linecolor": "white",
           "ticks": "",
           "title": {
            "standoff": 15
           },
           "zerolinecolor": "white",
           "zerolinewidth": 2
          },
          "yaxis": {
           "automargin": true,
           "gridcolor": "white",
           "linecolor": "white",
           "ticks": "",
           "title": {
            "standoff": 15
           },
           "zerolinecolor": "white",
           "zerolinewidth": 2
          }
         }
        },
        "title": {
         "text": "Likes vs Views"
        },
        "width": 900,
        "xaxis": {
         "anchor": "y",
         "domain": [
          0,
          1
         ],
         "title": {
          "text": "Views"
         }
        },
        "yaxis": {
         "anchor": "x",
         "domain": [
          0,
          1
         ],
         "title": {
          "text": "Likes"
         }
        }
       }
      }
     },
     "metadata": {},
     "output_type": "display_data"
    },
    {
     "data": {
      "application/vnd.plotly.v1+json": {
       "config": {
        "plotlyServerURL": "https://plot.ly"
       },
       "data": [
        {
         "customdata": [
          [
           "How I animate 3Blue1Brown | A Manim demo with Ben Sparks",
           39362
          ],
          [
           "Hologram preview",
           1626
          ],
          [
           "Holograms are wild (full video linked above)",
           105404
          ],
          [
           "How are holograms possible? | Optics puzzles 5",
           54376
          ],
          [
           "A cute probability fact (part 3)",
           11829
          ],
          [
           "A cute probability fact (part 2)",
           5346
          ],
          [
           "A cute probability fact (part 1)",
           17104
          ],
          [
           "How might LLMs store facts | Chapter 7, Deep Learning",
           25896
          ],
          [
           "In the vector space of all advice...",
           6156
          ],
          [
           "What \"Follow Your Dreams\" Misses | Harvey Mudd Commencement Speech 2024",
           55063
          ],
          [
           "Temperature in LLMs",
           14372
          ],
          [
           "How word vectors encode meaning",
           44282
          ],
          [
           "Attention in transformers, visually explained | Chapter 6, Deep Learning",
           49125
          ],
          [
           "How large language models work, a visual intro to transformers | Chapter 5, Deep Learning",
           120172
          ],
          [
           "Simulating the electric field and a moving charge",
           35466
          ],
          [
           "How the Mandelbrot set is defined",
           32367
          ],
          [
           "A challenging puzzle about subset sums",
           42855
          ],
          [
           "Ellipses have multiple definitions, how are these the same?",
           2807
          ],
          [
           "Three levels of understanding Bayes' theorem",
           6071
          ],
          [
           "The medical test paradox (well \"paradox\")",
           445746
          ],
          [
           "Positioned as the hardest question on a Putnam exam  (#6, 1992)",
           12703
          ],
          [
           "Why does light slowing imply a bend? (Beyond the tank/car analogy)",
           75559
          ],
          [
           "The cube shadow puzzle",
           86222
          ],
          [
           "What does it mean that light \"slows down\" in glass?",
           13107
          ],
          [
           "Why do we call them \"scalars\"?",
           18250
          ],
          [
           "A beautiful international math olympiad problem",
           89087
          ],
          [
           "Definition of a \"bit\", in information theory",
           12634
          ],
          [
           "The Newton art puzzle",
           434924
          ],
          [
           "What is a group?",
           7984
          ],
          [
           "How to derive a formula for π",
           28103
          ],
          [
           "The limit of limiting arguments",
           78384
          ],
          [
           "For anyone who might not know how links in shorts work",
           18949
          ],
          [
           "Infinite Lighthouses and π",
           127312
          ],
          [
           "Can you even imagine 2^256?",
           90323
          ],
          [
           "Order from chaos",
           359531
          ],
          [
           "The surface area of a sphere",
           111206
          ],
          [
           "A short on shorts",
           71324
          ],
          [
           "A pretty way to add weighted dice",
           45876
          ],
          [
           "A simple image convolution",
           46615
          ],
          [
           "These integrals all equal π, until...",
           24605
          ],
          [
           "The split necklace puzzle (with a surprise topological solution)",
           21450
          ],
          [
           "Error correction is incredible",
           219424
          ],
          [
           "The chessboard and coins puzzle",
           161680
          ],
          [
           "Prime spirals",
           232714
          ],
          [
           "The barber pole effect",
           28287
          ],
          [
           "Fourier series",
           111447
          ],
          [
           "Seeing with sound",
           55186
          ],
          [
           "How prisms work (full video linked above)",
           302361
          ],
          [
           "I'm still astounded this is true",
           2420283
          ],
          [
           "Don't let it fool you! (Link above explains what's happening)",
           736054
          ],
          [
           "How well do you understand refraction? | Optics puzzles 4",
           25715
          ],
          [
           "But why would light \"slow down\"? | Optics puzzles 3",
           47676
          ],
          [
           "25 Math explainers you may enjoy | SoME3 results",
           24449
          ],
          [
           "How wiggling charges give rise to light | Optics puzzles 2",
           35447
          ],
          [
           "This tests your understanding of light | Optics puzzles 1",
           42438
          ],
          [
           "A pretty reason why Gaussian + Gaussian = Gaussian",
           22219
          ],
          [
           "This pattern breaks, but for a good reason | Moser's circle problem",
           89934
          ],
          [
           "How They Fool Ya (live) | Math parody of Hallelujah",
           63053
          ],
          [
           "Convolutions | Why X+Y in probability is a beautiful mess",
           24109
          ],
          [
           "Why π is in the normal distribution (beyond integral tricks)",
           50697
          ],
          [
           "But what is the Central Limit Theorem?",
           67228
          ],
          [
           "But what is a convolution?",
           100185
          ],
          [
           "Researchers thought this was a bug (Borwein integrals)",
           87795
          ],
          [
           "What makes a great math explanation? | SoME2 results",
           36987
          ],
          [
           "How to lie using visual proofs",
           117789
          ],
          [
           "Olympiad level counting  (Generating functions)",
           67504
          ],
          [
           "Oh, wait, actually the best Wordle opener is not “crane”…",
           152148
          ],
          [
           "Solving Wordle using information theory",
           225467
          ],
          [
           "A tale of two problem solvers (Average cube shadows)",
           86114
          ],
          [
           "2021 Summer of Math Exposition results",
           37005
          ],
          [
           "Beyond the Mandelbrot set, an intro to holomorphic dynamics",
           43965
          ],
          [
           "From Newton’s method to Newton’s fractal (which Newton knew nothing about)",
           91837
          ],
          [
           "Make math videos! | Summer of Math Exposition announcement",
           31259
          ],
          [
           "A quick trick for computing eigenvalues | Chapter 15, Essence of linear algebra",
           28832
          ],
          [
           "How (and why) to raise e to the power of a matrix | DE6",
           77822
          ],
          [
           "The medical test paradox, and redesigning Bayes' rule",
           50600
          ],
          [
           "Hamming codes part 2: The one-line implementation",
           40209
          ],
          [
           "But what are Hamming codes? The origin of error correction",
           92844
          ],
          [
           "Group theory, abstraction, and the 196,883-dimensional monster",
           116558
          ],
          [
           "The impossible chessboard puzzle",
           62534
          ],
          [
           "Tips to be a better problem solver [Last live lecture] | Ep. 10 Lockdown live math",
           25626
          ],
          [
           "Intuition for i to the power i | Ep. 9 Lockdown live math",
           9411
          ],
          [
           "The DP-3T algorithm for contact tracing (via Nicky Case)",
           23283
          ],
          [
           "The power tower puzzle | Ep. 8 Lockdown live math",
           18389
          ],
          [
           "What makes the natural log \"natural\"? | Ep. 7 Lockdown live math",
           26154
          ],
          [
           "Logarithm Fundamentals | Ep. 6 Lockdown live math",
           16593
          ],
          [
           "Imaginary interest rates | Ep. 5 Lockdown live math",
           15267
          ],
          [
           "What is Euler's formula actually saying? | Ep. 4 Lockdown live math",
           30510
          ],
          [
           "Complex number fundamentals | Ep. 3 Lockdown live math",
           34833
          ],
          [
           "Trigonometry fundamentals | Ep. 2 Lockdown live math",
           35297
          ],
          [
           "The simpler quadratic formula | Ep. 1 Lockdown live math",
           45596
          ],
          [
           "Lockdown math announcement",
           48776
          ],
          [
           "Why “probability of 0” does not mean “impossible” | Probabilities of probabilities, part 2",
           72891
          ],
          [
           "Simulating an epidemic",
           159491
          ],
          [
           "Binomial distributions | Probabilities of probabilities, part 1",
           76400
          ],
          [
           "Exponential growth and epidemics",
           168212
          ],
          [
           "The quick proof of Bayes' theorem",
           15025
          ],
          [
           "Bayes theorem, the geometry of changing beliefs",
           127582
          ],
          [
           "Q&A with Grant, windy walk edition",
           18829
          ],
          [
           "Why do prime numbers make these spirals? | Dirichlet’s theorem and pi approximations",
           175009
          ],
          [
           "The unexpectedly hard windmill question (2011 IMO, Q2)",
           153132
          ],
          [
           "e^(iπ) in 3.14 minutes, using dynamics | DE5",
           74403
          ],
          [
           "Pure Fourier series animation montage",
           19661
          ],
          [
           "But what is a Fourier series?  From heat flow to drawing with circles | DE4",
           175986
          ],
          [
           "Solving the heat equation | DE3",
           31495
          ],
          [
           "But what is a partial differential equation?  | DE2",
           70201
          ],
          [
           "Differential equations, a tourist's guide | DE1",
           100858
          ],
          [
           "Cramer's rule, explained geometrically | Chapter 12, Essence of linear algebra",
           25972
          ],
          [
           "How colliding blocks act like a beam of light...to compute pi.",
           41984
          ],
          [
           "Why do colliding blocks compute pi?",
           207623
          ],
          [
           "The most unexpected answer to a counting puzzle",
           309621
          ],
          [
           "But why is a sphere's surface area four times its shadow?",
           148642
          ],
          [
           "Using topology for discrete problems | The Borsuk-Ulam theorem and stolen necklaces",
           28923
          ],
          [
           "Why 5/3 is a fundamental constant for turbulence",
           25777
          ],
          [
           "Quaternions and 3d rotation, explained interactively",
           29945
          ],
          [
           "Visualizing quaternions (4d numbers) with stereographic projection",
           99060
          ],
          [
           "Q&A with Grant Sanderson (3blue1brown)",
           35373
          ],
          [
           "Why slicing a cone gives an ellipse (beautiful proof)",
           57021
          ],
          [
           "Other math channels you'd enjoy",
           12576
          ],
          [
           "Divergence and curl:  The language of Maxwell's equations, fluid flow, and more",
           134347
          ],
          [
           "The other way to visualize derivatives | Chapter 12, Essence of calculus",
           87564
          ],
          [
           "The Wallis product for pi, proved geometrically",
           21544
          ],
          [
           "Winding numbers and domain coloring",
           27606
          ],
          [
           "How pi was almost 6.283185...",
           44604
          ],
          [
           "Why is pi here?  And why is it squared?  A geometric answer to the Basel problem",
           128736
          ],
          [
           "The more general uncertainty principle, regarding Fourier transforms",
           58982
          ],
          [
           "But what is the Fourier Transform?  A visual introduction.",
           296318
          ],
          [
           "Why this puzzle is impossible",
           85405
          ],
          [
           "Q&A #2 + Net Neutrality Nuance",
           4742
          ],
          [
           "The hardest problem on the hardest test",
           406025
          ],
          [
           "Backpropagation calculus | Chapter 4, Deep learning",
           61703
          ],
          [
           "What is backpropagation really doing? | Chapter 3, Deep learning",
           84777
          ],
          [
           "Gradient descent, how neural networks learn | Chapter 2, Deep learning",
           151599
          ],
          [
           "But what is a neural network? | Chapter 1, Deep learning",
           430205
          ],
          [
           "Some light quantum mechanics (with minutephysics)",
           49986
          ],
          [
           "Thinking outside the 10-dimensional box",
           64404
          ],
          [
           "Hilbert's Curve: Is infinite math useful?",
           51494
          ],
          [
           "How secure is 256 bit security?",
           107800
          ],
          [
           "But how does bitcoin actually work?",
           367559
          ],
          [
           "All possible pythagorean triples, visualized",
           83619
          ],
          [
           "Pi hiding in prime regularities",
           54705
          ],
          [
           "Taylor series | Chapter 11, Essence of calculus",
           114843
          ],
          [
           "Higher order derivatives | Chapter 10, Essence of calculus",
           18022
          ],
          [
           "What does area have to do with slope? | Chapter 9, Essence of calculus",
           34391
          ],
          [
           "Integration and the fundamental theorem of calculus | Chapter 8, Essence of calculus",
           53304
          ],
          [
           "Limits, L'Hôpital's rule, and epsilon delta definitions | Chapter 7, Essence of calculus",
           49374
          ],
          [
           "Implicit differentiation, what's going on here? | Chapter 6, Essence of calculus",
           41539
          ],
          [
           "What's so special about Euler's number e? | Chapter 5, Essence of calculus",
           92868
          ],
          [
           "Visualizing the chain rule and product rule | Chapter 4, Essence of calculus",
           44606
          ],
          [
           "Derivative formulas through geometry | Chapter 3, Essence of calculus",
           69805
          ],
          [
           "The paradox of the derivative | Chapter 2, Essence of calculus",
           91867
          ],
          [
           "The essence of calculus",
           255001
          ],
          [
           "Euler's formula with introductory group theory",
           58174
          ],
          [
           "Fractals are typically not self-similar",
           97122
          ],
          [
           "Tattoos on Math",
           23342
          ],
          [
           "But what is the Riemann zeta function? Visualizing analytic continuation",
           96901
          ],
          [
           "Binary, Hanoi, and Sierpinski, part 2",
           9409
          ],
          [
           "Binary, Hanoi and Sierpinski, part 1",
           17833
          ],
          [
           "3blue1brown channel trailer",
           3838
          ],
          [
           "Who cares about topology?   (Inscribed rectangle problem)",
           86664
          ],
          [
           "Abstract vector spaces | Chapter 16, Essence of linear algebra",
           50922
          ],
          [
           "Eigenvectors and eigenvalues | Chapter 14, Essence of linear algebra",
           97011
          ],
          [
           "Change of basis | Chapter 13, Essence of linear algebra",
           37522
          ],
          [
           "Cross products in the light of linear transformations | Chapter 11, Essence of linear algebra",
           22384
          ],
          [
           "Cross products | Chapter 10, Essence of linear algebra",
           33066
          ],
          [
           "Dot products and duality | Chapter 9, Essence of linear algebra",
           49118
          ],
          [
           "Nonsquare matrices as transformations between dimensions | Chapter 8, Essence of linear algebra",
           28847
          ],
          [
           "Inverse matrices, column space and null space | Chapter 7, Essence of linear algebra",
           60368
          ],
          [
           "The determinant | Chapter 6, Essence of linear algebra",
           85093
          ],
          [
           "Three-dimensional linear transformations | Chapter 5, Essence of linear algebra",
           35735
          ],
          [
           "Matrix multiplication as composition | Chapter 4, Essence of linear algebra",
           68150
          ],
          [
           "Linear transformations and matrices | Chapter 3, Essence of linear algebra",
           112082
          ],
          [
           "Linear combinations, span, and basis vectors | Chapter 2, Essence of linear algebra",
           106924
          ],
          [
           "Vectors | Chapter 1, Essence of linear algebra",
           169584
          ],
          [
           "Essence of linear algebra preview",
           43556
          ],
          [
           "Triangle of Power",
           29661
          ],
          [
           "The Brachistochrone, with Steven Strogatz",
           30042
          ],
          [
           "Snell's law proof using springs",
           5992
          ],
          [
           "Fractal charm: Space filling curves",
           38293
          ],
          [
           "Music And Measure Theory",
           41335
          ],
          [
           "How to count to 1000 on two hands",
           12585
          ],
          [
           "What does it feel like to invent math?",
           93672
          ],
          [
           "Euler's Formula and Graph Duality",
           11578
          ],
          [
           "Euler's Formula Poem",
           5148
          ],
          [
           "e to the pi i, a nontraditional take (old version)",
           42652
          ]
         ],
         "hovertemplate": "<b>%{hovertext}</b><br><br>Views=%{x}<br>Comments=%{y}<br>Title=%{customdata[0]}<br>likes=%{customdata[1]}<extra></extra>",
         "hovertext": [
          "How I animate 3Blue1Brown | A Manim demo with Ben Sparks",
          "Hologram preview",
          "Holograms are wild (full video linked above)",
          "How are holograms possible? | Optics puzzles 5",
          "A cute probability fact (part 3)",
          "A cute probability fact (part 2)",
          "A cute probability fact (part 1)",
          "How might LLMs store facts | Chapter 7, Deep Learning",
          "In the vector space of all advice...",
          "What \"Follow Your Dreams\" Misses | Harvey Mudd Commencement Speech 2024",
          "Temperature in LLMs",
          "How word vectors encode meaning",
          "Attention in transformers, visually explained | Chapter 6, Deep Learning",
          "How large language models work, a visual intro to transformers | Chapter 5, Deep Learning",
          "Simulating the electric field and a moving charge",
          "How the Mandelbrot set is defined",
          "A challenging puzzle about subset sums",
          "Ellipses have multiple definitions, how are these the same?",
          "Three levels of understanding Bayes' theorem",
          "The medical test paradox (well \"paradox\")",
          "Positioned as the hardest question on a Putnam exam  (#6, 1992)",
          "Why does light slowing imply a bend? (Beyond the tank/car analogy)",
          "The cube shadow puzzle",
          "What does it mean that light \"slows down\" in glass?",
          "Why do we call them \"scalars\"?",
          "A beautiful international math olympiad problem",
          "Definition of a \"bit\", in information theory",
          "The Newton art puzzle",
          "What is a group?",
          "How to derive a formula for π",
          "The limit of limiting arguments",
          "For anyone who might not know how links in shorts work",
          "Infinite Lighthouses and π",
          "Can you even imagine 2^256?",
          "Order from chaos",
          "The surface area of a sphere",
          "A short on shorts",
          "A pretty way to add weighted dice",
          "A simple image convolution",
          "These integrals all equal π, until...",
          "The split necklace puzzle (with a surprise topological solution)",
          "Error correction is incredible",
          "The chessboard and coins puzzle",
          "Prime spirals",
          "The barber pole effect",
          "Fourier series",
          "Seeing with sound",
          "How prisms work (full video linked above)",
          "I'm still astounded this is true",
          "Don't let it fool you! (Link above explains what's happening)",
          "How well do you understand refraction? | Optics puzzles 4",
          "But why would light \"slow down\"? | Optics puzzles 3",
          "25 Math explainers you may enjoy | SoME3 results",
          "How wiggling charges give rise to light | Optics puzzles 2",
          "This tests your understanding of light | Optics puzzles 1",
          "A pretty reason why Gaussian + Gaussian = Gaussian",
          "This pattern breaks, but for a good reason | Moser's circle problem",
          "How They Fool Ya (live) | Math parody of Hallelujah",
          "Convolutions | Why X+Y in probability is a beautiful mess",
          "Why π is in the normal distribution (beyond integral tricks)",
          "But what is the Central Limit Theorem?",
          "But what is a convolution?",
          "Researchers thought this was a bug (Borwein integrals)",
          "What makes a great math explanation? | SoME2 results",
          "How to lie using visual proofs",
          "Olympiad level counting  (Generating functions)",
          "Oh, wait, actually the best Wordle opener is not “crane”…",
          "Solving Wordle using information theory",
          "A tale of two problem solvers (Average cube shadows)",
          "2021 Summer of Math Exposition results",
          "Beyond the Mandelbrot set, an intro to holomorphic dynamics",
          "From Newton’s method to Newton’s fractal (which Newton knew nothing about)",
          "Make math videos! | Summer of Math Exposition announcement",
          "A quick trick for computing eigenvalues | Chapter 15, Essence of linear algebra",
          "How (and why) to raise e to the power of a matrix | DE6",
          "The medical test paradox, and redesigning Bayes' rule",
          "Hamming codes part 2: The one-line implementation",
          "But what are Hamming codes? The origin of error correction",
          "Group theory, abstraction, and the 196,883-dimensional monster",
          "The impossible chessboard puzzle",
          "Tips to be a better problem solver [Last live lecture] | Ep. 10 Lockdown live math",
          "Intuition for i to the power i | Ep. 9 Lockdown live math",
          "The DP-3T algorithm for contact tracing (via Nicky Case)",
          "The power tower puzzle | Ep. 8 Lockdown live math",
          "What makes the natural log \"natural\"? | Ep. 7 Lockdown live math",
          "Logarithm Fundamentals | Ep. 6 Lockdown live math",
          "Imaginary interest rates | Ep. 5 Lockdown live math",
          "What is Euler's formula actually saying? | Ep. 4 Lockdown live math",
          "Complex number fundamentals | Ep. 3 Lockdown live math",
          "Trigonometry fundamentals | Ep. 2 Lockdown live math",
          "The simpler quadratic formula | Ep. 1 Lockdown live math",
          "Lockdown math announcement",
          "Why “probability of 0” does not mean “impossible” | Probabilities of probabilities, part 2",
          "Simulating an epidemic",
          "Binomial distributions | Probabilities of probabilities, part 1",
          "Exponential growth and epidemics",
          "The quick proof of Bayes' theorem",
          "Bayes theorem, the geometry of changing beliefs",
          "Q&A with Grant, windy walk edition",
          "Why do prime numbers make these spirals? | Dirichlet’s theorem and pi approximations",
          "The unexpectedly hard windmill question (2011 IMO, Q2)",
          "e^(iπ) in 3.14 minutes, using dynamics | DE5",
          "Pure Fourier series animation montage",
          "But what is a Fourier series?  From heat flow to drawing with circles | DE4",
          "Solving the heat equation | DE3",
          "But what is a partial differential equation?  | DE2",
          "Differential equations, a tourist's guide | DE1",
          "Cramer's rule, explained geometrically | Chapter 12, Essence of linear algebra",
          "How colliding blocks act like a beam of light...to compute pi.",
          "Why do colliding blocks compute pi?",
          "The most unexpected answer to a counting puzzle",
          "But why is a sphere's surface area four times its shadow?",
          "Using topology for discrete problems | The Borsuk-Ulam theorem and stolen necklaces",
          "Why 5/3 is a fundamental constant for turbulence",
          "Quaternions and 3d rotation, explained interactively",
          "Visualizing quaternions (4d numbers) with stereographic projection",
          "Q&A with Grant Sanderson (3blue1brown)",
          "Why slicing a cone gives an ellipse (beautiful proof)",
          "Other math channels you'd enjoy",
          "Divergence and curl:  The language of Maxwell's equations, fluid flow, and more",
          "The other way to visualize derivatives | Chapter 12, Essence of calculus",
          "The Wallis product for pi, proved geometrically",
          "Winding numbers and domain coloring",
          "How pi was almost 6.283185...",
          "Why is pi here?  And why is it squared?  A geometric answer to the Basel problem",
          "The more general uncertainty principle, regarding Fourier transforms",
          "But what is the Fourier Transform?  A visual introduction.",
          "Why this puzzle is impossible",
          "Q&A #2 + Net Neutrality Nuance",
          "The hardest problem on the hardest test",
          "Backpropagation calculus | Chapter 4, Deep learning",
          "What is backpropagation really doing? | Chapter 3, Deep learning",
          "Gradient descent, how neural networks learn | Chapter 2, Deep learning",
          "But what is a neural network? | Chapter 1, Deep learning",
          "Some light quantum mechanics (with minutephysics)",
          "Thinking outside the 10-dimensional box",
          "Hilbert's Curve: Is infinite math useful?",
          "How secure is 256 bit security?",
          "But how does bitcoin actually work?",
          "All possible pythagorean triples, visualized",
          "Pi hiding in prime regularities",
          "Taylor series | Chapter 11, Essence of calculus",
          "Higher order derivatives | Chapter 10, Essence of calculus",
          "What does area have to do with slope? | Chapter 9, Essence of calculus",
          "Integration and the fundamental theorem of calculus | Chapter 8, Essence of calculus",
          "Limits, L'Hôpital's rule, and epsilon delta definitions | Chapter 7, Essence of calculus",
          "Implicit differentiation, what's going on here? | Chapter 6, Essence of calculus",
          "What's so special about Euler's number e? | Chapter 5, Essence of calculus",
          "Visualizing the chain rule and product rule | Chapter 4, Essence of calculus",
          "Derivative formulas through geometry | Chapter 3, Essence of calculus",
          "The paradox of the derivative | Chapter 2, Essence of calculus",
          "The essence of calculus",
          "Euler's formula with introductory group theory",
          "Fractals are typically not self-similar",
          "Tattoos on Math",
          "But what is the Riemann zeta function? Visualizing analytic continuation",
          "Binary, Hanoi, and Sierpinski, part 2",
          "Binary, Hanoi and Sierpinski, part 1",
          "3blue1brown channel trailer",
          "Who cares about topology?   (Inscribed rectangle problem)",
          "Abstract vector spaces | Chapter 16, Essence of linear algebra",
          "Eigenvectors and eigenvalues | Chapter 14, Essence of linear algebra",
          "Change of basis | Chapter 13, Essence of linear algebra",
          "Cross products in the light of linear transformations | Chapter 11, Essence of linear algebra",
          "Cross products | Chapter 10, Essence of linear algebra",
          "Dot products and duality | Chapter 9, Essence of linear algebra",
          "Nonsquare matrices as transformations between dimensions | Chapter 8, Essence of linear algebra",
          "Inverse matrices, column space and null space | Chapter 7, Essence of linear algebra",
          "The determinant | Chapter 6, Essence of linear algebra",
          "Three-dimensional linear transformations | Chapter 5, Essence of linear algebra",
          "Matrix multiplication as composition | Chapter 4, Essence of linear algebra",
          "Linear transformations and matrices | Chapter 3, Essence of linear algebra",
          "Linear combinations, span, and basis vectors | Chapter 2, Essence of linear algebra",
          "Vectors | Chapter 1, Essence of linear algebra",
          "Essence of linear algebra preview",
          "Triangle of Power",
          "The Brachistochrone, with Steven Strogatz",
          "Snell's law proof using springs",
          "Fractal charm: Space filling curves",
          "Music And Measure Theory",
          "How to count to 1000 on two hands",
          "What does it feel like to invent math?",
          "Euler's Formula and Graph Duality",
          "Euler's Formula Poem",
          "e to the pi i, a nontraditional take (old version)"
         ],
         "legendgroup": "",
         "marker": {
          "color": "#636efa",
          "symbol": "circle"
         },
         "mode": "markers",
         "name": "",
         "orientation": "v",
         "showlegend": false,
         "type": "scatter",
         "x": [
          695472,
          23415,
          1809946,
          1076866,
          203992,
          95120,
          315869,
          671175,
          109984,
          983088,
          248284,
          851705,
          1718429,
          3391982,
          566076,
          530929,
          941635,
          50930,
          79551,
          9744044,
          238787,
          1334825,
          1991488,
          178018,
          237599,
          1761520,
          199247,
          8197110,
          124623,
          517912,
          1976855,
          244219,
          1938961,
          1549016,
          13725827,
          1873316,
          792900,
          771456,
          999223,
          371034,
          341240,
          4166259,
          4092459,
          3448080,
          475626,
          1890886,
          864795,
          6655090,
          53603769,
          14891390,
          758368,
          1471578,
          581771,
          917042,
          1063446,
          803583,
          2193210,
          1004453,
          696975,
          1646263,
          3544697,
          2710273,
          3689216,
          743912,
          3349329,
          1960641,
          6199559,
          10569928,
          2778421,
          782321,
          1490266,
          2848649,
          727146,
          1043617,
          2896956,
          1267036,
          863307,
          2469172,
          3091306,
          2024763,
          1300290,
          521099,
          357571,
          852969,
          1528292,
          907031,
          751558,
          1233769,
          1620354,
          1759053,
          1359355,
          894816,
          2827599,
          5164092,
          2220469,
          5970243,
          506790,
          4477362,
          434459,
          5848505,
          5033488,
          2890229,
          664276,
          17908323,
          1349337,
          2630360,
          4164068,
          1183473,
          1259503,
          6732921,
          13065861,
          7935969,
          883795,
          709965,
          1238842,
          4721818,
          810254,
          1872665,
          231691,
          4316898,
          3579105,
          824436,
          940526,
          1729012,
          6308814,
          2045327,
          10486596,
          3156024,
          147358,
          15729447,
          2919457,
          4678304,
          7122078,
          17562138,
          1943560,
          3053266,
          2255109,
          3232747,
          15997797,
          3861862,
          2574199,
          4174694,
          764690,
          1452798,
          2358541,
          2123708,
          1938258,
          4116687,
          1889123,
          3038048,
          3686427,
          9374162,
          2462057,
          4044510,
          752661,
          4739049,
          299894,
          705356,
          399395,
          3222776,
          1436082,
          4910331,
          1981459,
          1244901,
          1893167,
          2572622,
          1600285,
          2924327,
          3865595,
          2037408,
          3296683,
          5259476,
          5513261,
          8750084,
          2469699,
          783771,
          1310448,
          199139,
          2053678,
          1531744,
          429194,
          4200590,
          474460,
          167064,
          2680659
         ],
         "xaxis": "x",
         "y": [
          1404,
          33,
          717,
          2483,
          113,
          49,
          112,
          892,
          65,
          1392,
          114,
          457,
          1580,
          2576,
          217,
          163,
          241,
          20,
          21,
          2813,
          131,
          521,
          1020,
          173,
          79,
          681,
          54,
          1708,
          77,
          182,
          600,
          520,
          608,
          817,
          2101,
          493,
          951,
          233,
          238,
          183,
          156,
          754,
          2520,
          1851,
          207,
          672,
          455,
          1659,
          10564,
          4511,
          1174,
          1907,
          483,
          1663,
          1131,
          561,
          2214,
          1348,
          790,
          1704,
          2103,
          2609,
          2216,
          1091,
          4295,
          2757,
          7110,
          8928,
          3893,
          843,
          1490,
          3333,
          1661,
          1377,
          2899,
          2439,
          1563,
          2153,
          5576,
          2486,
          1001,
          701,
          1569,
          1147,
          1401,
          813,
          1046,
          1903,
          1913,
          1378,
          2265,
          2520,
          3546,
          6466,
          2274,
          6205,
          454,
          3776,
          1249,
          6598,
          6661,
          2057,
          1254,
          4200,
          952,
          2351,
          3576,
          853,
          1582,
          5525,
          6729,
          4728,
          1265,
          846,
          794,
          4657,
          2259,
          2376,
          480,
          3785,
          3060,
          1048,
          1480,
          1912,
          4607,
          2059,
          8741,
          5930,
          316,
          20177,
          2131,
          1549,
          3207,
          7604,
          1796,
          3526,
          1986,
          3182,
          25686,
          2931,
          2258,
          4060,
          421,
          945,
          1439,
          1628,
          1283,
          2401,
          1663,
          3467,
          3658,
          7063,
          2334,
          4820,
          984,
          3983,
          611,
          684,
          125,
          3475,
          3009,
          3298,
          1430,
          1272,
          770,
          2120,
          725,
          2032,
          3903,
          721,
          2802,
          4229,
          2568,
          3435,
          1195,
          1566,
          1339,
          232,
          995,
          1493,
          1166,
          5956,
          363,
          149,
          2167
         ],
         "yaxis": "y"
        }
       ],
       "layout": {
        "legend": {
         "tracegroupgap": 0
        },
        "template": {
         "data": {
          "bar": [
           {
            "error_x": {
             "color": "#2a3f5f"
            },
            "error_y": {
             "color": "#2a3f5f"
            },
            "marker": {
             "line": {
              "color": "#E5ECF6",
              "width": 0.5
             },
             "pattern": {
              "fillmode": "overlay",
              "size": 10,
              "solidity": 0.2
             }
            },
            "type": "bar"
           }
          ],
          "barpolar": [
           {
            "marker": {
             "line": {
              "color": "#E5ECF6",
              "width": 0.5
             },
             "pattern": {
              "fillmode": "overlay",
              "size": 10,
              "solidity": 0.2
             }
            },
            "type": "barpolar"
           }
          ],
          "carpet": [
           {
            "aaxis": {
             "endlinecolor": "#2a3f5f",
             "gridcolor": "white",
             "linecolor": "white",
             "minorgridcolor": "white",
             "startlinecolor": "#2a3f5f"
            },
            "baxis": {
             "endlinecolor": "#2a3f5f",
             "gridcolor": "white",
             "linecolor": "white",
             "minorgridcolor": "white",
             "startlinecolor": "#2a3f5f"
            },
            "type": "carpet"
           }
          ],
          "choropleth": [
           {
            "colorbar": {
             "outlinewidth": 0,
             "ticks": ""
            },
            "type": "choropleth"
           }
          ],
          "contour": [
           {
            "colorbar": {
             "outlinewidth": 0,
             "ticks": ""
            },
            "colorscale": [
             [
              0,
              "#0d0887"
             ],
             [
              0.1111111111111111,
              "#46039f"
             ],
             [
              0.2222222222222222,
              "#7201a8"
             ],
             [
              0.3333333333333333,
              "#9c179e"
             ],
             [
              0.4444444444444444,
              "#bd3786"
             ],
             [
              0.5555555555555556,
              "#d8576b"
             ],
             [
              0.6666666666666666,
              "#ed7953"
             ],
             [
              0.7777777777777778,
              "#fb9f3a"
             ],
             [
              0.8888888888888888,
              "#fdca26"
             ],
             [
              1,
              "#f0f921"
             ]
            ],
            "type": "contour"
           }
          ],
          "contourcarpet": [
           {
            "colorbar": {
             "outlinewidth": 0,
             "ticks": ""
            },
            "type": "contourcarpet"
           }
          ],
          "heatmap": [
           {
            "colorbar": {
             "outlinewidth": 0,
             "ticks": ""
            },
            "colorscale": [
             [
              0,
              "#0d0887"
             ],
             [
              0.1111111111111111,
              "#46039f"
             ],
             [
              0.2222222222222222,
              "#7201a8"
             ],
             [
              0.3333333333333333,
              "#9c179e"
             ],
             [
              0.4444444444444444,
              "#bd3786"
             ],
             [
              0.5555555555555556,
              "#d8576b"
             ],
             [
              0.6666666666666666,
              "#ed7953"
             ],
             [
              0.7777777777777778,
              "#fb9f3a"
             ],
             [
              0.8888888888888888,
              "#fdca26"
             ],
             [
              1,
              "#f0f921"
             ]
            ],
            "type": "heatmap"
           }
          ],
          "heatmapgl": [
           {
            "colorbar": {
             "outlinewidth": 0,
             "ticks": ""
            },
            "colorscale": [
             [
              0,
              "#0d0887"
             ],
             [
              0.1111111111111111,
              "#46039f"
             ],
             [
              0.2222222222222222,
              "#7201a8"
             ],
             [
              0.3333333333333333,
              "#9c179e"
             ],
             [
              0.4444444444444444,
              "#bd3786"
             ],
             [
              0.5555555555555556,
              "#d8576b"
             ],
             [
              0.6666666666666666,
              "#ed7953"
             ],
             [
              0.7777777777777778,
              "#fb9f3a"
             ],
             [
              0.8888888888888888,
              "#fdca26"
             ],
             [
              1,
              "#f0f921"
             ]
            ],
            "type": "heatmapgl"
           }
          ],
          "histogram": [
           {
            "marker": {
             "pattern": {
              "fillmode": "overlay",
              "size": 10,
              "solidity": 0.2
             }
            },
            "type": "histogram"
           }
          ],
          "histogram2d": [
           {
            "colorbar": {
             "outlinewidth": 0,
             "ticks": ""
            },
            "colorscale": [
             [
              0,
              "#0d0887"
             ],
             [
              0.1111111111111111,
              "#46039f"
             ],
             [
              0.2222222222222222,
              "#7201a8"
             ],
             [
              0.3333333333333333,
              "#9c179e"
             ],
             [
              0.4444444444444444,
              "#bd3786"
             ],
             [
              0.5555555555555556,
              "#d8576b"
             ],
             [
              0.6666666666666666,
              "#ed7953"
             ],
             [
              0.7777777777777778,
              "#fb9f3a"
             ],
             [
              0.8888888888888888,
              "#fdca26"
             ],
             [
              1,
              "#f0f921"
             ]
            ],
            "type": "histogram2d"
           }
          ],
          "histogram2dcontour": [
           {
            "colorbar": {
             "outlinewidth": 0,
             "ticks": ""
            },
            "colorscale": [
             [
              0,
              "#0d0887"
             ],
             [
              0.1111111111111111,
              "#46039f"
             ],
             [
              0.2222222222222222,
              "#7201a8"
             ],
             [
              0.3333333333333333,
              "#9c179e"
             ],
             [
              0.4444444444444444,
              "#bd3786"
             ],
             [
              0.5555555555555556,
              "#d8576b"
             ],
             [
              0.6666666666666666,
              "#ed7953"
             ],
             [
              0.7777777777777778,
              "#fb9f3a"
             ],
             [
              0.8888888888888888,
              "#fdca26"
             ],
             [
              1,
              "#f0f921"
             ]
            ],
            "type": "histogram2dcontour"
           }
          ],
          "mesh3d": [
           {
            "colorbar": {
             "outlinewidth": 0,
             "ticks": ""
            },
            "type": "mesh3d"
           }
          ],
          "parcoords": [
           {
            "line": {
             "colorbar": {
              "outlinewidth": 0,
              "ticks": ""
             }
            },
            "type": "parcoords"
           }
          ],
          "pie": [
           {
            "automargin": true,
            "type": "pie"
           }
          ],
          "scatter": [
           {
            "marker": {
             "colorbar": {
              "outlinewidth": 0,
              "ticks": ""
             }
            },
            "type": "scatter"
           }
          ],
          "scatter3d": [
           {
            "line": {
             "colorbar": {
              "outlinewidth": 0,
              "ticks": ""
             }
            },
            "marker": {
             "colorbar": {
              "outlinewidth": 0,
              "ticks": ""
             }
            },
            "type": "scatter3d"
           }
          ],
          "scattercarpet": [
           {
            "marker": {
             "colorbar": {
              "outlinewidth": 0,
              "ticks": ""
             }
            },
            "type": "scattercarpet"
           }
          ],
          "scattergeo": [
           {
            "marker": {
             "colorbar": {
              "outlinewidth": 0,
              "ticks": ""
             }
            },
            "type": "scattergeo"
           }
          ],
          "scattergl": [
           {
            "marker": {
             "colorbar": {
              "outlinewidth": 0,
              "ticks": ""
             }
            },
            "type": "scattergl"
           }
          ],
          "scattermapbox": [
           {
            "marker": {
             "colorbar": {
              "outlinewidth": 0,
              "ticks": ""
             }
            },
            "type": "scattermapbox"
           }
          ],
          "scatterpolar": [
           {
            "marker": {
             "colorbar": {
              "outlinewidth": 0,
              "ticks": ""
             }
            },
            "type": "scatterpolar"
           }
          ],
          "scatterpolargl": [
           {
            "marker": {
             "colorbar": {
              "outlinewidth": 0,
              "ticks": ""
             }
            },
            "type": "scatterpolargl"
           }
          ],
          "scatterternary": [
           {
            "marker": {
             "colorbar": {
              "outlinewidth": 0,
              "ticks": ""
             }
            },
            "type": "scatterternary"
           }
          ],
          "surface": [
           {
            "colorbar": {
             "outlinewidth": 0,
             "ticks": ""
            },
            "colorscale": [
             [
              0,
              "#0d0887"
             ],
             [
              0.1111111111111111,
              "#46039f"
             ],
             [
              0.2222222222222222,
              "#7201a8"
             ],
             [
              0.3333333333333333,
              "#9c179e"
             ],
             [
              0.4444444444444444,
              "#bd3786"
             ],
             [
              0.5555555555555556,
              "#d8576b"
             ],
             [
              0.6666666666666666,
              "#ed7953"
             ],
             [
              0.7777777777777778,
              "#fb9f3a"
             ],
             [
              0.8888888888888888,
              "#fdca26"
             ],
             [
              1,
              "#f0f921"
             ]
            ],
            "type": "surface"
           }
          ],
          "table": [
           {
            "cells": {
             "fill": {
              "color": "#EBF0F8"
             },
             "line": {
              "color": "white"
             }
            },
            "header": {
             "fill": {
              "color": "#C8D4E3"
             },
             "line": {
              "color": "white"
             }
            },
            "type": "table"
           }
          ]
         },
         "layout": {
          "annotationdefaults": {
           "arrowcolor": "#2a3f5f",
           "arrowhead": 0,
           "arrowwidth": 1
          },
          "autotypenumbers": "strict",
          "coloraxis": {
           "colorbar": {
            "outlinewidth": 0,
            "ticks": ""
           }
          },
          "colorscale": {
           "diverging": [
            [
             0,
             "#8e0152"
            ],
            [
             0.1,
             "#c51b7d"
            ],
            [
             0.2,
             "#de77ae"
            ],
            [
             0.3,
             "#f1b6da"
            ],
            [
             0.4,
             "#fde0ef"
            ],
            [
             0.5,
             "#f7f7f7"
            ],
            [
             0.6,
             "#e6f5d0"
            ],
            [
             0.7,
             "#b8e186"
            ],
            [
             0.8,
             "#7fbc41"
            ],
            [
             0.9,
             "#4d9221"
            ],
            [
             1,
             "#276419"
            ]
           ],
           "sequential": [
            [
             0,
             "#0d0887"
            ],
            [
             0.1111111111111111,
             "#46039f"
            ],
            [
             0.2222222222222222,
             "#7201a8"
            ],
            [
             0.3333333333333333,
             "#9c179e"
            ],
            [
             0.4444444444444444,
             "#bd3786"
            ],
            [
             0.5555555555555556,
             "#d8576b"
            ],
            [
             0.6666666666666666,
             "#ed7953"
            ],
            [
             0.7777777777777778,
             "#fb9f3a"
            ],
            [
             0.8888888888888888,
             "#fdca26"
            ],
            [
             1,
             "#f0f921"
            ]
           ],
           "sequentialminus": [
            [
             0,
             "#0d0887"
            ],
            [
             0.1111111111111111,
             "#46039f"
            ],
            [
             0.2222222222222222,
             "#7201a8"
            ],
            [
             0.3333333333333333,
             "#9c179e"
            ],
            [
             0.4444444444444444,
             "#bd3786"
            ],
            [
             0.5555555555555556,
             "#d8576b"
            ],
            [
             0.6666666666666666,
             "#ed7953"
            ],
            [
             0.7777777777777778,
             "#fb9f3a"
            ],
            [
             0.8888888888888888,
             "#fdca26"
            ],
            [
             1,
             "#f0f921"
            ]
           ]
          },
          "colorway": [
           "#636efa",
           "#EF553B",
           "#00cc96",
           "#ab63fa",
           "#FFA15A",
           "#19d3f3",
           "#FF6692",
           "#B6E880",
           "#FF97FF",
           "#FECB52"
          ],
          "font": {
           "color": "#2a3f5f"
          },
          "geo": {
           "bgcolor": "white",
           "lakecolor": "white",
           "landcolor": "#E5ECF6",
           "showlakes": true,
           "showland": true,
           "subunitcolor": "white"
          },
          "hoverlabel": {
           "align": "left"
          },
          "hovermode": "closest",
          "mapbox": {
           "style": "light"
          },
          "paper_bgcolor": "white",
          "plot_bgcolor": "#E5ECF6",
          "polar": {
           "angularaxis": {
            "gridcolor": "white",
            "linecolor": "white",
            "ticks": ""
           },
           "bgcolor": "#E5ECF6",
           "radialaxis": {
            "gridcolor": "white",
            "linecolor": "white",
            "ticks": ""
           }
          },
          "scene": {
           "xaxis": {
            "backgroundcolor": "#E5ECF6",
            "gridcolor": "white",
            "gridwidth": 2,
            "linecolor": "white",
            "showbackground": true,
            "ticks": "",
            "zerolinecolor": "white"
           },
           "yaxis": {
            "backgroundcolor": "#E5ECF6",
            "gridcolor": "white",
            "gridwidth": 2,
            "linecolor": "white",
            "showbackground": true,
            "ticks": "",
            "zerolinecolor": "white"
           },
           "zaxis": {
            "backgroundcolor": "#E5ECF6",
            "gridcolor": "white",
            "gridwidth": 2,
            "linecolor": "white",
            "showbackground": true,
            "ticks": "",
            "zerolinecolor": "white"
           }
          },
          "shapedefaults": {
           "line": {
            "color": "#2a3f5f"
           }
          },
          "ternary": {
           "aaxis": {
            "gridcolor": "white",
            "linecolor": "white",
            "ticks": ""
           },
           "baxis": {
            "gridcolor": "white",
            "linecolor": "white",
            "ticks": ""
           },
           "bgcolor": "#E5ECF6",
           "caxis": {
            "gridcolor": "white",
            "linecolor": "white",
            "ticks": ""
           }
          },
          "title": {
           "x": 0.05
          },
          "xaxis": {
           "automargin": true,
           "gridcolor": "white",
           "linecolor": "white",
           "ticks": "",
           "title": {
            "standoff": 15
           },
           "zerolinecolor": "white",
           "zerolinewidth": 2
          },
          "yaxis": {
           "automargin": true,
           "gridcolor": "white",
           "linecolor": "white",
           "ticks": "",
           "title": {
            "standoff": 15
           },
           "zerolinecolor": "white",
           "zerolinewidth": 2
          }
         }
        },
        "title": {
         "text": "Comments vs Views"
        },
        "width": 900,
        "xaxis": {
         "anchor": "y",
         "domain": [
          0,
          1
         ],
         "title": {
          "text": "Views"
         }
        },
        "yaxis": {
         "anchor": "x",
         "domain": [
          0,
          1
         ],
         "title": {
          "text": "Comments"
         }
        }
       }
      }
     },
     "metadata": {},
     "output_type": "display_data"
    }
   ],
   "source": [
    "# Interactive plots for 'Likes vs Views' and 'Comments vs Views'\n",
    "# Feature to zoom in on the cluster of videos is available\n",
    "\n",
    "video_stats = get_video_details(youtube, video_ids)\n",
    "df = pd.DataFrame(video_stats)\n",
    "\n",
    "# Converting the necessary columns to numeric types\n",
    "df['views'] = pd.to_numeric(df['views'])\n",
    "df['likes'] = pd.to_numeric(df['likes'])\n",
    "df['comments'] = pd.to_numeric(df['comments'])\n",
    "\n",
    "# Likes vs Views scatter plot\n",
    "fig_likes = px.scatter(df, x='views', y='likes',\n",
    "                       hover_name='Title',\n",
    "                       hover_data={'Title': True, 'likes': True, 'views': True},\n",
    "                       title='Likes vs Views',\n",
    "                       labels={'views': 'Views', 'likes': 'Likes'},\n",
    "                       width=900)\n",
    "\n",
    "fig_likes.show()\n",
    "\n",
    "# Comments vs Views scatter plot\n",
    "fig_comments = px.scatter(df, x='views', y='comments',\n",
    "                          hover_name='Title',\n",
    "                          hover_data={'Title': True, 'likes': True, 'comments': True},\n",
    "                          title='Comments vs Views',\n",
    "                          labels={'views': 'Views', 'comments': 'Comments'},\n",
    "                          width=900)\n",
    "\n",
    "fig_comments.show()"
   ]
  },
  {
   "cell_type": "code",
   "execution_count": 22,
   "metadata": {},
   "outputs": [
    {
     "data": {
      "image/png": "[encoded data removed]",
      "text/plain": [
       "<Figure size 864x432 with 2 Axes>"
      ]
     },
     "metadata": {
      "needs_background": "light"
     },
     "output_type": "display_data"
    }
   ],
   "source": [
    "# Comparing the distribution of views with video publishing month and video publishing time\n",
    "\n",
    "video_stats = get_video_details(youtube, video_ids)\n",
    "df = pd.DataFrame(video_stats)\n",
    "\n",
    "\n",
    "df['published_date'] = pd.to_datetime(df['published_date'])\n",
    "df['month'] = df['published_date'].dt.month\n",
    "df['hour'] = df['published_date'].dt.hour\n",
    "df['views'] = pd.to_numeric(df['views'])\n",
    "\n",
    "# Group by month to aggregate views\n",
    "monthly_views = df.groupby('month')['views'].sum().reset_index()\n",
    "\n",
    "# Group by hour to aggregate views\n",
    "hourly_views = df.groupby('hour')['views'].sum().reset_index()\n",
    "\n",
    "# Plot Monthly Views\n",
    "plt.figure(figsize=(12, 6))\n",
    "plt.subplot(1, 2, 1)\n",
    "plt.bar(monthly_views['month'], monthly_views['views'], color='skyblue')\n",
    "plt.title('Total Views by Month')\n",
    "plt.xlabel('Month')\n",
    "plt.ylabel('Total Views')\n",
    "plt.xticks(monthly_views['month'], ['Jan', 'Feb', 'Mar', 'Apr', 'May', 'Jun', 'Jul', 'Aug', 'Sep', 'Oct', 'Nov', 'Dec'])\n",
    "\n",
    "# Plot Hourly Views\n",
    "plt.subplot(1, 2, 2)\n",
    "plt.bar(hourly_views['hour'], hourly_views['views'], color='lightgreen')\n",
    "plt.title('Total Views by Hour of Day')\n",
    "plt.xlabel('Hour of Day')\n",
    "plt.ylabel('Total Views')\n",
    "\n",
    "# Show the plots\n",
    "plt.tight_layout()\n",
    "plt.show()"
   ]
  },
  {
   "cell_type": "code",
   "execution_count": 23,
   "metadata": {},
   "outputs": [
    {
     "name": "stderr",
     "output_type": "stream",
     "text": [
      "/var/folders/67/vjrfgyh95f5__cgwmlg52l880000gn/T/ipykernel_74270/516821923.py:10: SettingWithCopyWarning:\n",
      "\n",
      "\n",
      "A value is trying to be set on a copy of a slice from a DataFrame.\n",
      "Try using .loc[row_indexer,col_indexer] = value instead\n",
      "\n",
      "See the caveats in the documentation: https://pandas.pydata.org/pandas-docs/stable/user_guide/indexing.html#returning-a-view-versus-a-copy\n",
      "\n",
      "/var/folders/67/vjrfgyh95f5__cgwmlg52l880000gn/T/ipykernel_74270/516821923.py:11: SettingWithCopyWarning:\n",
      "\n",
      "\n",
      "A value is trying to be set on a copy of a slice from a DataFrame.\n",
      "Try using .loc[row_indexer,col_indexer] = value instead\n",
      "\n",
      "See the caveats in the documentation: https://pandas.pydata.org/pandas-docs/stable/user_guide/indexing.html#returning-a-view-versus-a-copy\n",
      "\n",
      "/var/folders/67/vjrfgyh95f5__cgwmlg52l880000gn/T/ipykernel_74270/516821923.py:13: SettingWithCopyWarning:\n",
      "\n",
      "\n",
      "A value is trying to be set on a copy of a slice from a DataFrame.\n",
      "Try using .loc[row_indexer,col_indexer] = value instead\n",
      "\n",
      "See the caveats in the documentation: https://pandas.pydata.org/pandas-docs/stable/user_guide/indexing.html#returning-a-view-versus-a-copy\n",
      "\n"
     ]
    },
    {
     "data": {
      "image/png": "[encoded data removed]",
      "text/plain": [
       "<Figure size 864x432 with 2 Axes>"
      ]
     },
     "metadata": {
      "needs_background": "light"
     },
     "output_type": "display_data"
    }
   ],
   "source": [
    "# same plot as above for a particular year\n",
    "\n",
    "def plot_views_by_year(year):\n",
    "    filtered_df = df[df['published_date'].dt.year == year]\n",
    "\n",
    "    if filtered_df.empty:\n",
    "        print(f\"No videos found for the year {year}.\")\n",
    "        return\n",
    "\n",
    "    filtered_df['month'] = filtered_df['published_date'].dt.month\n",
    "    filtered_df['hour'] = filtered_df['published_date'].dt.hour\n",
    "\n",
    "    filtered_df['views'] = pd.to_numeric(filtered_df['views'])\n",
    "\n",
    "    # Group by month to aggregate views\n",
    "    monthly_views = filtered_df.groupby('month')['views'].sum().reset_index()\n",
    "\n",
    "    # Group by hour to aggregate views\n",
    "    hourly_views = filtered_df.groupby('hour')['views'].sum().reset_index()\n",
    "\n",
    "    # Plot Monthly Views\n",
    "    plt.figure(figsize=(12, 6))\n",
    "    plt.subplot(1, 2, 1)\n",
    "    plt.bar(monthly_views['month'], monthly_views['views'], color='skyblue')\n",
    "    plt.title(f'Total Views by Month in {year}')\n",
    "    plt.xlabel('Month')\n",
    "    plt.ylabel('Total Views')\n",
    "\n",
    "    # Create dynamic labels for months based on unique values in monthly_views\n",
    "    month_labels = ['Jan', 'Feb', 'Mar', 'Apr', 'May', 'Jun', 'Jul', 'Aug', 'Sep', 'Oct', 'Nov', 'Dec']\n",
    "    plt.xticks(monthly_views['month'], [month_labels[i - 1] for i in monthly_views['month']], rotation=45)\n",
    "\n",
    "    # Plot Hourly Views\n",
    "    plt.subplot(1, 2, 2)\n",
    "    plt.bar(hourly_views['hour'], hourly_views['views'], color='lightgreen')\n",
    "    plt.title(f'Total Views by Hour of Day in {year}')\n",
    "    plt.xlabel('Hour of Day')\n",
    "    plt.ylabel('Total Views')\n",
    "\n",
    "    plt.tight_layout()\n",
    "    plt.show()\n",
    "\n",
    "# User input\n",
    "year_input = int(input(\"Enter the year to analyze (e.g., 2023): \"))\n",
    "plot_views_by_year(year_input)\n"
   ]
  },
  {
   "cell_type": "code",
   "execution_count": 26,
   "metadata": {},
   "outputs": [],
   "source": [
    "## Video duration vs engagement plots:\n",
    "\n",
    "def convert_duration_to_seconds(duration):\n",
    "    return isodate.parse_duration(duration).total_seconds()"
   ]
  },
  {
   "cell_type": "code",
   "execution_count": 27,
   "metadata": {},
   "outputs": [
    {
     "data": {
      "text/html": [
       "<div>\n",
       "<style scoped>\n",
       "    .dataframe tbody tr th:only-of-type {\n",
       "        vertical-align: middle;\n",
       "    }\n",
       "\n",
       "    .dataframe tbody tr th {\n",
       "        vertical-align: top;\n",
       "    }\n",
       "\n",
       "    .dataframe thead th {\n",
       "        text-align: right;\n",
       "    }\n",
       "</style>\n",
       "<table border=\"1\" class=\"dataframe\">\n",
       "  <thead>\n",
       "    <tr style=\"text-align: right;\">\n",
       "      <th></th>\n",
       "      <th>Title</th>\n",
       "      <th>published_date</th>\n",
       "      <th>views</th>\n",
       "      <th>likes</th>\n",
       "      <th>dislikes</th>\n",
       "      <th>comments</th>\n",
       "      <th>thumbnail_url</th>\n",
       "      <th>duration</th>\n",
       "    </tr>\n",
       "  </thead>\n",
       "  <tbody>\n",
       "    <tr>\n",
       "      <th>0</th>\n",
       "      <td>How I animate 3Blue1Brown | A Manim demo with ...</td>\n",
       "      <td>2024-10-12</td>\n",
       "      <td>694486</td>\n",
       "      <td>39313</td>\n",
       "      <td>0</td>\n",
       "      <td>1404</td>\n",
       "      <td>https://i.ytimg.com/vi/rbu7Zu5X1zI/hqdefault.jpg</td>\n",
       "      <td>PT53M41S</td>\n",
       "    </tr>\n",
       "    <tr>\n",
       "      <th>1</th>\n",
       "      <td>Hologram preview</td>\n",
       "      <td>2024-10-11</td>\n",
       "      <td>23402</td>\n",
       "      <td>1626</td>\n",
       "      <td>0</td>\n",
       "      <td>33</td>\n",
       "      <td>https://i.ytimg.com/vi/W3-kpRz-e1Q/hqdefault.jpg</td>\n",
       "      <td>PT58S</td>\n",
       "    </tr>\n",
       "    <tr>\n",
       "      <th>2</th>\n",
       "      <td>Holograms are wild (full video linked above)</td>\n",
       "      <td>2024-10-05</td>\n",
       "      <td>1809863</td>\n",
       "      <td>105389</td>\n",
       "      <td>0</td>\n",
       "      <td>717</td>\n",
       "      <td>https://i.ytimg.com/vi/DnjATyPuFFk/hqdefault.jpg</td>\n",
       "      <td>PT55S</td>\n",
       "    </tr>\n",
       "    <tr>\n",
       "      <th>3</th>\n",
       "      <td>How are holograms possible? | Optics puzzles 5</td>\n",
       "      <td>2024-10-05</td>\n",
       "      <td>1076552</td>\n",
       "      <td>54367</td>\n",
       "      <td>0</td>\n",
       "      <td>2483</td>\n",
       "      <td>https://i.ytimg.com/vi/EmKQsSDlaa4/hqdefault.jpg</td>\n",
       "      <td>PT46M24S</td>\n",
       "    </tr>\n",
       "    <tr>\n",
       "      <th>4</th>\n",
       "      <td>A cute probability fact (part 3)</td>\n",
       "      <td>2024-09-10</td>\n",
       "      <td>203957</td>\n",
       "      <td>11827</td>\n",
       "      <td>0</td>\n",
       "      <td>113</td>\n",
       "      <td>https://i.ytimg.com/vi/lpzUZDefha0/hqdefault.jpg</td>\n",
       "      <td>PT1M</td>\n",
       "    </tr>\n",
       "    <tr>\n",
       "      <th>...</th>\n",
       "      <td>...</td>\n",
       "      <td>...</td>\n",
       "      <td>...</td>\n",
       "      <td>...</td>\n",
       "      <td>...</td>\n",
       "      <td>...</td>\n",
       "      <td>...</td>\n",
       "      <td>...</td>\n",
       "    </tr>\n",
       "    <tr>\n",
       "      <th>180</th>\n",
       "      <td>How to count to 1000 on two hands</td>\n",
       "      <td>2015-09-18</td>\n",
       "      <td>429194</td>\n",
       "      <td>12585</td>\n",
       "      <td>0</td>\n",
       "      <td>1166</td>\n",
       "      <td>https://i.ytimg.com/vi/1SMmc9gQmHQ/hqdefault.jpg</td>\n",
       "      <td>PT2M34S</td>\n",
       "    </tr>\n",
       "    <tr>\n",
       "      <th>181</th>\n",
       "      <td>What does it feel like to invent math?</td>\n",
       "      <td>2015-08-14</td>\n",
       "      <td>4200590</td>\n",
       "      <td>93672</td>\n",
       "      <td>0</td>\n",
       "      <td>5956</td>\n",
       "      <td>https://i.ytimg.com/vi/XFDM1ip5HdU/hqdefault.jpg</td>\n",
       "      <td>PT15M8S</td>\n",
       "    </tr>\n",
       "    <tr>\n",
       "      <th>182</th>\n",
       "      <td>Euler's Formula and Graph Duality</td>\n",
       "      <td>2015-06-21</td>\n",
       "      <td>474459</td>\n",
       "      <td>11578</td>\n",
       "      <td>0</td>\n",
       "      <td>363</td>\n",
       "      <td>https://i.ytimg.com/vi/-9OUyo8NFZg/hqdefault.jpg</td>\n",
       "      <td>PT7M27S</td>\n",
       "    </tr>\n",
       "    <tr>\n",
       "      <th>183</th>\n",
       "      <td>Euler's Formula Poem</td>\n",
       "      <td>2015-03-05</td>\n",
       "      <td>167064</td>\n",
       "      <td>5148</td>\n",
       "      <td>0</td>\n",
       "      <td>149</td>\n",
       "      <td>https://i.ytimg.com/vi/zLzLxVeqdQg/hqdefault.jpg</td>\n",
       "      <td>PT1M4S</td>\n",
       "    </tr>\n",
       "    <tr>\n",
       "      <th>184</th>\n",
       "      <td>e to the pi i, a nontraditional take (old vers...</td>\n",
       "      <td>2015-03-05</td>\n",
       "      <td>2680654</td>\n",
       "      <td>42652</td>\n",
       "      <td>0</td>\n",
       "      <td>2167</td>\n",
       "      <td>https://i.ytimg.com/vi/F_0yfvm0UoU/hqdefault.jpg</td>\n",
       "      <td>PT6M14S</td>\n",
       "    </tr>\n",
       "  </tbody>\n",
       "</table>\n",
       "<p>185 rows × 8 columns</p>\n",
       "</div>"
      ],
      "text/plain": [
       "                                                 Title published_date  \\\n",
       "0    How I animate 3Blue1Brown | A Manim demo with ...     2024-10-12   \n",
       "1                                     Hologram preview     2024-10-11   \n",
       "2         Holograms are wild (full video linked above)     2024-10-05   \n",
       "3       How are holograms possible? | Optics puzzles 5     2024-10-05   \n",
       "4                     A cute probability fact (part 3)     2024-09-10   \n",
       "..                                                 ...            ...   \n",
       "180                  How to count to 1000 on two hands     2015-09-18   \n",
       "181             What does it feel like to invent math?     2015-08-14   \n",
       "182                  Euler's Formula and Graph Duality     2015-06-21   \n",
       "183                               Euler's Formula Poem     2015-03-05   \n",
       "184  e to the pi i, a nontraditional take (old vers...     2015-03-05   \n",
       "\n",
       "       views   likes  dislikes  comments  \\\n",
       "0     694486   39313         0      1404   \n",
       "1      23402    1626         0        33   \n",
       "2    1809863  105389         0       717   \n",
       "3    1076552   54367         0      2483   \n",
       "4     203957   11827         0       113   \n",
       "..       ...     ...       ...       ...   \n",
       "180   429194   12585         0      1166   \n",
       "181  4200590   93672         0      5956   \n",
       "182   474459   11578         0       363   \n",
       "183   167064    5148         0       149   \n",
       "184  2680654   42652         0      2167   \n",
       "\n",
       "                                        thumbnail_url  duration  \n",
       "0    https://i.ytimg.com/vi/rbu7Zu5X1zI/hqdefault.jpg  PT53M41S  \n",
       "1    https://i.ytimg.com/vi/W3-kpRz-e1Q/hqdefault.jpg     PT58S  \n",
       "2    https://i.ytimg.com/vi/DnjATyPuFFk/hqdefault.jpg     PT55S  \n",
       "3    https://i.ytimg.com/vi/EmKQsSDlaa4/hqdefault.jpg  PT46M24S  \n",
       "4    https://i.ytimg.com/vi/lpzUZDefha0/hqdefault.jpg      PT1M  \n",
       "..                                                ...       ...  \n",
       "180  https://i.ytimg.com/vi/1SMmc9gQmHQ/hqdefault.jpg   PT2M34S  \n",
       "181  https://i.ytimg.com/vi/XFDM1ip5HdU/hqdefault.jpg   PT15M8S  \n",
       "182  https://i.ytimg.com/vi/-9OUyo8NFZg/hqdefault.jpg   PT7M27S  \n",
       "183  https://i.ytimg.com/vi/zLzLxVeqdQg/hqdefault.jpg    PT1M4S  \n",
       "184  https://i.ytimg.com/vi/F_0yfvm0UoU/hqdefault.jpg   PT6M14S  \n",
       "\n",
       "[185 rows x 8 columns]"
      ]
     },
     "execution_count": 27,
     "metadata": {},
     "output_type": "execute_result"
    }
   ],
   "source": [
    "video_data"
   ]
  },
  {
   "cell_type": "code",
   "execution_count": 28,
   "metadata": {},
   "outputs": [],
   "source": [
    "def convert_duration_to_seconds(duration):\n",
    "    total_seconds = 0\n",
    "\n",
    "    # Remove the 'PT' prefix\n",
    "    duration = duration.replace(\"PT\", \"\")\n",
    "    \n",
    "    # Split into parts\n",
    "    if 'H' in duration:\n",
    "        hours, duration = duration.split('H')\n",
    "        total_seconds += int(hours) * 3600  # Convert hours to seconds\n",
    "    if 'M' in duration:\n",
    "        minutes, duration = duration.split('M')\n",
    "        total_seconds += int(minutes) * 60  # Convert minutes to seconds\n",
    "    if 'S' in duration:\n",
    "        seconds = duration.split('S')[0]  # Extract seconds\n",
    "        if seconds:  # If there are seconds, convert them\n",
    "            total_seconds += int(seconds)\n",
    "\n",
    "    return total_seconds"
   ]
  },
  {
   "cell_type": "code",
   "execution_count": 29,
   "metadata": {},
   "outputs": [
    {
     "name": "stdout",
     "output_type": "stream",
     "text": [
      "                                                 Title  duration  \\\n",
      "0    How I animate 3Blue1Brown | A Manim demo with ...  PT53M41S   \n",
      "1                                     Hologram preview     PT58S   \n",
      "2         Holograms are wild (full video linked above)     PT55S   \n",
      "3       How are holograms possible? | Optics puzzles 5  PT46M24S   \n",
      "4                     A cute probability fact (part 3)      PT1M   \n",
      "..                                                 ...       ...   \n",
      "180                  How to count to 1000 on two hands   PT2M34S   \n",
      "181             What does it feel like to invent math?   PT15M8S   \n",
      "182                  Euler's Formula and Graph Duality   PT7M27S   \n",
      "183                               Euler's Formula Poem    PT1M4S   \n",
      "184  e to the pi i, a nontraditional take (old vers...   PT6M14S   \n",
      "\n",
      "     duration_seconds  \n",
      "0                3221  \n",
      "1                  58  \n",
      "2                  55  \n",
      "3                2784  \n",
      "4                  60  \n",
      "..                ...  \n",
      "180               154  \n",
      "181               908  \n",
      "182               447  \n",
      "183                64  \n",
      "184               374  \n",
      "\n",
      "[185 rows x 3 columns]\n"
     ]
    }
   ],
   "source": [
    "\n",
    "video_data['duration_seconds'] = video_data['duration'].apply(convert_duration_to_seconds)\n",
    "\n",
    "\n",
    "print(video_data[['Title', 'duration', 'duration_seconds']])"
   ]
  },
  {
   "cell_type": "code",
   "execution_count": 30,
   "metadata": {},
   "outputs": [
    {
     "data": {
      "application/vnd.plotly.v1+json": {
       "config": {
        "plotlyServerURL": "https://plot.ly"
       },
       "data": [
        {
         "hovertemplate": "<b>%{hovertext}</b><br><br>Duration (seconds)=%{x}<br>Views=%{y}<extra></extra>",
         "hovertext": [
          "How I animate 3Blue1Brown | A Manim demo with Ben Sparks",
          "Hologram preview",
          "Holograms are wild (full video linked above)",
          "How are holograms possible? | Optics puzzles 5",
          "A cute probability fact (part 3)",
          "A cute probability fact (part 2)",
          "A cute probability fact (part 1)",
          "How might LLMs store facts | Chapter 7, Deep Learning",
          "In the vector space of all advice...",
          "What \"Follow Your Dreams\" Misses | Harvey Mudd Commencement Speech 2024",
          "Temperature in LLMs",
          "How word vectors encode meaning",
          "Attention in transformers, visually explained | Chapter 6, Deep Learning",
          "How large language models work, a visual intro to transformers | Chapter 5, Deep Learning",
          "Simulating the electric field and a moving charge",
          "How the Mandelbrot set is defined",
          "A challenging puzzle about subset sums",
          "Ellipses have multiple definitions, how are these the same?",
          "Three levels of understanding Bayes' theorem",
          "The medical test paradox (well \"paradox\")",
          "Positioned as the hardest question on a Putnam exam  (#6, 1992)",
          "Why does light slowing imply a bend? (Beyond the tank/car analogy)",
          "The cube shadow puzzle",
          "What does it mean that light \"slows down\" in glass?",
          "Why do we call them \"scalars\"?",
          "A beautiful international math olympiad problem",
          "Definition of a \"bit\", in information theory",
          "The Newton art puzzle",
          "What is a group?",
          "How to derive a formula for π",
          "The limit of limiting arguments",
          "For anyone who might not know how links in shorts work",
          "Infinite Lighthouses and π",
          "Can you even imagine 2^256?",
          "Order from chaos",
          "The surface area of a sphere",
          "A short on shorts",
          "A pretty way to add weighted dice",
          "A simple image convolution",
          "These integrals all equal π, until...",
          "The split necklace puzzle (with a surprise topological solution)",
          "Error correction is incredible",
          "The chessboard and coins puzzle",
          "Prime spirals",
          "The barber pole effect",
          "Fourier series",
          "Seeing with sound",
          "How prisms work (full video linked above)",
          "I'm still astounded this is true",
          "Don't let it fool you! (Link above explains what's happening)",
          "How well do you understand refraction? | Optics puzzles 4",
          "But why would light \"slow down\"? | Optics puzzles 3",
          "25 Math explainers you may enjoy | SoME3 results",
          "How wiggling charges give rise to light | Optics puzzles 2",
          "This tests your understanding of light | Optics puzzles 1",
          "A pretty reason why Gaussian + Gaussian = Gaussian",
          "This pattern breaks, but for a good reason | Moser's circle problem",
          "How They Fool Ya (live) | Math parody of Hallelujah",
          "Convolutions | Why X+Y in probability is a beautiful mess",
          "Why π is in the normal distribution (beyond integral tricks)",
          "But what is the Central Limit Theorem?",
          "But what is a convolution?",
          "Researchers thought this was a bug (Borwein integrals)",
          "What makes a great math explanation? | SoME2 results",
          "How to lie using visual proofs",
          "Olympiad level counting  (Generating functions)",
          "Oh, wait, actually the best Wordle opener is not “crane”…",
          "Solving Wordle using information theory",
          "A tale of two problem solvers (Average cube shadows)",
          "2021 Summer of Math Exposition results",
          "Beyond the Mandelbrot set, an intro to holomorphic dynamics",
          "From Newton’s method to Newton’s fractal (which Newton knew nothing about)",
          "Make math videos! | Summer of Math Exposition announcement",
          "A quick trick for computing eigenvalues | Chapter 15, Essence of linear algebra",
          "How (and why) to raise e to the power of a matrix | DE6",
          "The medical test paradox, and redesigning Bayes' rule",
          "Hamming codes part 2: The one-line implementation",
          "But what are Hamming codes? The origin of error correction",
          "Group theory, abstraction, and the 196,883-dimensional monster",
          "The impossible chessboard puzzle",
          "Tips to be a better problem solver [Last live lecture] | Ep. 10 Lockdown live math",
          "Intuition for i to the power i | Ep. 9 Lockdown live math",
          "The DP-3T algorithm for contact tracing (via Nicky Case)",
          "The power tower puzzle | Ep. 8 Lockdown live math",
          "What makes the natural log \"natural\"? | Ep. 7 Lockdown live math",
          "Logarithm Fundamentals | Ep. 6 Lockdown live math",
          "Imaginary interest rates | Ep. 5 Lockdown live math",
          "What is Euler's formula actually saying? | Ep. 4 Lockdown live math",
          "Complex number fundamentals | Ep. 3 Lockdown live math",
          "Trigonometry fundamentals | Ep. 2 Lockdown live math",
          "The simpler quadratic formula | Ep. 1 Lockdown live math",
          "Lockdown math announcement",
          "Why “probability of 0” does not mean “impossible” | Probabilities of probabilities, part 2",
          "Simulating an epidemic",
          "Binomial distributions | Probabilities of probabilities, part 1",
          "Exponential growth and epidemics",
          "The quick proof of Bayes' theorem",
          "Bayes theorem, the geometry of changing beliefs",
          "Q&A with Grant, windy walk edition",
          "Why do prime numbers make these spirals? | Dirichlet’s theorem and pi approximations",
          "The unexpectedly hard windmill question (2011 IMO, Q2)",
          "e^(iπ) in 3.14 minutes, using dynamics | DE5",
          "Pure Fourier series animation montage",
          "But what is a Fourier series?  From heat flow to drawing with circles | DE4",
          "Solving the heat equation | DE3",
          "But what is a partial differential equation?  | DE2",
          "Differential equations, a tourist's guide | DE1",
          "Cramer's rule, explained geometrically | Chapter 12, Essence of linear algebra",
          "How colliding blocks act like a beam of light...to compute pi.",
          "Why do colliding blocks compute pi?",
          "The most unexpected answer to a counting puzzle",
          "But why is a sphere's surface area four times its shadow?",
          "Using topology for discrete problems | The Borsuk-Ulam theorem and stolen necklaces",
          "Why 5/3 is a fundamental constant for turbulence",
          "Quaternions and 3d rotation, explained interactively",
          "Visualizing quaternions (4d numbers) with stereographic projection",
          "Q&A with Grant Sanderson (3blue1brown)",
          "Why slicing a cone gives an ellipse (beautiful proof)",
          "Other math channels you'd enjoy",
          "Divergence and curl:  The language of Maxwell's equations, fluid flow, and more",
          "The other way to visualize derivatives | Chapter 12, Essence of calculus",
          "The Wallis product for pi, proved geometrically",
          "Winding numbers and domain coloring",
          "How pi was almost 6.283185...",
          "Why is pi here?  And why is it squared?  A geometric answer to the Basel problem",
          "The more general uncertainty principle, regarding Fourier transforms",
          "But what is the Fourier Transform?  A visual introduction.",
          "Why this puzzle is impossible",
          "Q&A #2 + Net Neutrality Nuance",
          "The hardest problem on the hardest test",
          "Backpropagation calculus | Chapter 4, Deep learning",
          "What is backpropagation really doing? | Chapter 3, Deep learning",
          "Gradient descent, how neural networks learn | Chapter 2, Deep learning",
          "But what is a neural network? | Chapter 1, Deep learning",
          "Some light quantum mechanics (with minutephysics)",
          "Thinking outside the 10-dimensional box",
          "Hilbert's Curve: Is infinite math useful?",
          "How secure is 256 bit security?",
          "But how does bitcoin actually work?",
          "All possible pythagorean triples, visualized",
          "Pi hiding in prime regularities",
          "Taylor series | Chapter 11, Essence of calculus",
          "Higher order derivatives | Chapter 10, Essence of calculus",
          "What does area have to do with slope? | Chapter 9, Essence of calculus",
          "Integration and the fundamental theorem of calculus | Chapter 8, Essence of calculus",
          "Limits, L'Hôpital's rule, and epsilon delta definitions | Chapter 7, Essence of calculus",
          "Implicit differentiation, what's going on here? | Chapter 6, Essence of calculus",
          "What's so special about Euler's number e? | Chapter 5, Essence of calculus",
          "Visualizing the chain rule and product rule | Chapter 4, Essence of calculus",
          "Derivative formulas through geometry | Chapter 3, Essence of calculus",
          "The paradox of the derivative | Chapter 2, Essence of calculus",
          "The essence of calculus",
          "Euler's formula with introductory group theory",
          "Fractals are typically not self-similar",
          "Tattoos on Math",
          "But what is the Riemann zeta function? Visualizing analytic continuation",
          "Binary, Hanoi, and Sierpinski, part 2",
          "Binary, Hanoi and Sierpinski, part 1",
          "3blue1brown channel trailer",
          "Who cares about topology?   (Inscribed rectangle problem)",
          "Abstract vector spaces | Chapter 16, Essence of linear algebra",
          "Eigenvectors and eigenvalues | Chapter 14, Essence of linear algebra",
          "Change of basis | Chapter 13, Essence of linear algebra",
          "Cross products in the light of linear transformations | Chapter 11, Essence of linear algebra",
          "Cross products | Chapter 10, Essence of linear algebra",
          "Dot products and duality | Chapter 9, Essence of linear algebra",
          "Nonsquare matrices as transformations between dimensions | Chapter 8, Essence of linear algebra",
          "Inverse matrices, column space and null space | Chapter 7, Essence of linear algebra",
          "The determinant | Chapter 6, Essence of linear algebra",
          "Three-dimensional linear transformations | Chapter 5, Essence of linear algebra",
          "Matrix multiplication as composition | Chapter 4, Essence of linear algebra",
          "Linear transformations and matrices | Chapter 3, Essence of linear algebra",
          "Linear combinations, span, and basis vectors | Chapter 2, Essence of linear algebra",
          "Vectors | Chapter 1, Essence of linear algebra",
          "Essence of linear algebra preview",
          "Triangle of Power",
          "The Brachistochrone, with Steven Strogatz",
          "Snell's law proof using springs",
          "Fractal charm: Space filling curves",
          "Music And Measure Theory",
          "How to count to 1000 on two hands",
          "What does it feel like to invent math?",
          "Euler's Formula and Graph Duality",
          "Euler's Formula Poem",
          "e to the pi i, a nontraditional take (old version)"
         ],
         "legendgroup": "",
         "marker": {
          "color": "#636efa",
          "opacity": 0.7,
          "symbol": "circle"
         },
         "mode": "markers",
         "name": "",
         "orientation": "v",
         "showlegend": false,
         "type": "scatter",
         "x": [
          3221,
          58,
          55,
          2784,
          60,
          60,
          58,
          1363,
          57,
          930,
          60,
          60,
          1570,
          1634,
          60,
          59,
          60,
          51,
          50,
          57,
          60,
          60,
          59,
          60,
          60,
          60,
          60,
          60,
          60,
          60,
          51,
          60,
          60,
          60,
          50,
          60,
          60,
          60,
          59,
          51,
          60,
          60,
          60,
          56,
          60,
          60,
          60,
          60,
          60,
          60,
          805,
          1764,
          1332,
          1293,
          597,
          796,
          973,
          240,
          1645,
          1486,
          1875,
          1381,
          1046,
          1021,
          1129,
          2076,
          653,
          1838,
          2406,
          760,
          1656,
          1566,
          1461,
          793,
          1627,
          1274,
          1010,
          1205,
          1318,
          1122,
          4100,
          4418,
          439,
          3230,
          4494,
          5662,
          3787,
          3076,
          4931,
          4397,
          3131,
          133,
          601,
          1392,
          754,
          537,
          228,
          911,
          1146,
          1341,
          963,
          248,
          749,
          1487,
          853,
          1059,
          1636,
          732,
          881,
          916,
          313,
          951,
          1162,
          688,
          359,
          1911,
          621,
          772,
          489,
          942,
          866,
          1598,
          1390,
          353,
          1028,
          1161,
          1257,
          1177,
          245,
          675,
          618,
          767,
          1233,
          1120,
          1342,
          1627,
          1098,
          306,
          1516,
          1018,
          1842,
          1340,
          339,
          759,
          1246,
          1107,
          934,
          830,
          956,
          1054,
          1010,
          1025,
          1468,
          1296,
          495,
          1331,
          820,
          839,
          92,
          1096,
          1006,
          1036,
          771,
          790,
          534,
          852,
          267,
          729,
          603,
          286,
          604,
          659,
          599,
          592,
          309,
          462,
          962,
          237,
          154,
          793,
          154,
          908,
          447,
          64,
          374
         ],
         "xaxis": "x",
         "y": [
          694486,
          23402,
          1809863,
          1076552,
          203957,
          95109,
          315834,
          671070,
          109984,
          983031,
          248265,
          851676,
          1718282,
          3391548,
          566050,
          530916,
          941635,
          50930,
          79551,
          9743832,
          238787,
          1334824,
          1991488,
          178018,
          237599,
          1761414,
          199247,
          8196567,
          124623,
          517838,
          1976854,
          244219,
          1938956,
          1548923,
          13725824,
          1873316,
          792900,
          771455,
          999215,
          371034,
          341239,
          4165912,
          4092456,
          3448061,
          475625,
          1890871,
          864737,
          6654760,
          53601571,
          14891191,
          758368,
          1471489,
          581747,
          916936,
          1063430,
          803583,
          2193166,
          1004453,
          696975,
          1646263,
          3544626,
          2710210,
          3689023,
          743906,
          3349277,
          1960583,
          6199509,
          10569834,
          2778391,
          782321,
          1490248,
          2848632,
          727146,
          1043607,
          2896885,
          1267036,
          863307,
          2469164,
          3091296,
          2024757,
          1300290,
          521099,
          357571,
          852969,
          1528292,
          907031,
          751557,
          1233769,
          1620354,
          1759053,
          1359355,
          894816,
          2827599,
          5164092,
          2220447,
          5970230,
          506777,
          4477275,
          434452,
          5848429,
          5033469,
          2890207,
          664276,
          17908254,
          1349323,
          2630335,
          4164022,
          1183469,
          1259501,
          6732870,
          13065803,
          7935876,
          883793,
          709965,
          1238840,
          4721799,
          810254,
          1872636,
          231691,
          4316861,
          3579099,
          824421,
          940525,
          1729012,
          6308725,
          2045327,
          10486531,
          3156002,
          147357,
          15729423,
          2919278,
          4678213,
          7121995,
          17561874,
          1943550,
          3053261,
          2255101,
          3232717,
          15997740,
          3861859,
          2574196,
          4174645,
          764687,
          1452798,
          2358541,
          2123687,
          1938235,
          4116671,
          1889103,
          3038031,
          3686401,
          9374058,
          2462055,
          4044477,
          752661,
          4739022,
          299893,
          705356,
          399395,
          3222776,
          1436068,
          4910263,
          1981434,
          1244900,
          1893159,
          2572592,
          1600273,
          2924263,
          3865544,
          2037360,
          3296630,
          5259395,
          5513162,
          8749951,
          2469699,
          783770,
          1310444,
          199139,
          2053670,
          1531743,
          429194,
          4200590,
          474459,
          167064,
          2680654
         ],
         "yaxis": "y"
        }
       ],
       "layout": {
        "legend": {
         "tracegroupgap": 0
        },
        "template": {
         "data": {
          "bar": [
           {
            "error_x": {
             "color": "#2a3f5f"
            },
            "error_y": {
             "color": "#2a3f5f"
            },
            "marker": {
             "line": {
              "color": "#E5ECF6",
              "width": 0.5
             },
             "pattern": {
              "fillmode": "overlay",
              "size": 10,
              "solidity": 0.2
             }
            },
            "type": "bar"
           }
          ],
          "barpolar": [
           {
            "marker": {
             "line": {
              "color": "#E5ECF6",
              "width": 0.5
             },
             "pattern": {
              "fillmode": "overlay",
              "size": 10,
              "solidity": 0.2
             }
            },
            "type": "barpolar"
           }
          ],
          "carpet": [
           {
            "aaxis": {
             "endlinecolor": "#2a3f5f",
             "gridcolor": "white",
             "linecolor": "white",
             "minorgridcolor": "white",
             "startlinecolor": "#2a3f5f"
            },
            "baxis": {
             "endlinecolor": "#2a3f5f",
             "gridcolor": "white",
             "linecolor": "white",
             "minorgridcolor": "white",
             "startlinecolor": "#2a3f5f"
            },
            "type": "carpet"
           }
          ],
          "choropleth": [
           {
            "colorbar": {
             "outlinewidth": 0,
             "ticks": ""
            },
            "type": "choropleth"
           }
          ],
          "contour": [
           {
            "colorbar": {
             "outlinewidth": 0,
             "ticks": ""
            },
            "colorscale": [
             [
              0,
              "#0d0887"
             ],
             [
              0.1111111111111111,
              "#46039f"
             ],
             [
              0.2222222222222222,
              "#7201a8"
             ],
             [
              0.3333333333333333,
              "#9c179e"
             ],
             [
              0.4444444444444444,
              "#bd3786"
             ],
             [
              0.5555555555555556,
              "#d8576b"
             ],
             [
              0.6666666666666666,
              "#ed7953"
             ],
             [
              0.7777777777777778,
              "#fb9f3a"
             ],
             [
              0.8888888888888888,
              "#fdca26"
             ],
             [
              1,
              "#f0f921"
             ]
            ],
            "type": "contour"
           }
          ],
          "contourcarpet": [
           {
            "colorbar": {
             "outlinewidth": 0,
             "ticks": ""
            },
            "type": "contourcarpet"
           }
          ],
          "heatmap": [
           {
            "colorbar": {
             "outlinewidth": 0,
             "ticks": ""
            },
            "colorscale": [
             [
              0,
              "#0d0887"
             ],
             [
              0.1111111111111111,
              "#46039f"
             ],
             [
              0.2222222222222222,
              "#7201a8"
             ],
             [
              0.3333333333333333,
              "#9c179e"
             ],
             [
              0.4444444444444444,
              "#bd3786"
             ],
             [
              0.5555555555555556,
              "#d8576b"
             ],
             [
              0.6666666666666666,
              "#ed7953"
             ],
             [
              0.7777777777777778,
              "#fb9f3a"
             ],
             [
              0.8888888888888888,
              "#fdca26"
             ],
             [
              1,
              "#f0f921"
             ]
            ],
            "type": "heatmap"
           }
          ],
          "heatmapgl": [
           {
            "colorbar": {
             "outlinewidth": 0,
             "ticks": ""
            },
            "colorscale": [
             [
              0,
              "#0d0887"
             ],
             [
              0.1111111111111111,
              "#46039f"
             ],
             [
              0.2222222222222222,
              "#7201a8"
             ],
             [
              0.3333333333333333,
              "#9c179e"
             ],
             [
              0.4444444444444444,
              "#bd3786"
             ],
             [
              0.5555555555555556,
              "#d8576b"
             ],
             [
              0.6666666666666666,
              "#ed7953"
             ],
             [
              0.7777777777777778,
              "#fb9f3a"
             ],
             [
              0.8888888888888888,
              "#fdca26"
             ],
             [
              1,
              "#f0f921"
             ]
            ],
            "type": "heatmapgl"
           }
          ],
          "histogram": [
           {
            "marker": {
             "pattern": {
              "fillmode": "overlay",
              "size": 10,
              "solidity": 0.2
             }
            },
            "type": "histogram"
           }
          ],
          "histogram2d": [
           {
            "colorbar": {
             "outlinewidth": 0,
             "ticks": ""
            },
            "colorscale": [
             [
              0,
              "#0d0887"
             ],
             [
              0.1111111111111111,
              "#46039f"
             ],
             [
              0.2222222222222222,
              "#7201a8"
             ],
             [
              0.3333333333333333,
              "#9c179e"
             ],
             [
              0.4444444444444444,
              "#bd3786"
             ],
             [
              0.5555555555555556,
              "#d8576b"
             ],
             [
              0.6666666666666666,
              "#ed7953"
             ],
             [
              0.7777777777777778,
              "#fb9f3a"
             ],
             [
              0.8888888888888888,
              "#fdca26"
             ],
             [
              1,
              "#f0f921"
             ]
            ],
            "type": "histogram2d"
           }
          ],
          "histogram2dcontour": [
           {
            "colorbar": {
             "outlinewidth": 0,
             "ticks": ""
            },
            "colorscale": [
             [
              0,
              "#0d0887"
             ],
             [
              0.1111111111111111,
              "#46039f"
             ],
             [
              0.2222222222222222,
              "#7201a8"
             ],
             [
              0.3333333333333333,
              "#9c179e"
             ],
             [
              0.4444444444444444,
              "#bd3786"
             ],
             [
              0.5555555555555556,
              "#d8576b"
             ],
             [
              0.6666666666666666,
              "#ed7953"
             ],
             [
              0.7777777777777778,
              "#fb9f3a"
             ],
             [
              0.8888888888888888,
              "#fdca26"
             ],
             [
              1,
              "#f0f921"
             ]
            ],
            "type": "histogram2dcontour"
           }
          ],
          "mesh3d": [
           {
            "colorbar": {
             "outlinewidth": 0,
             "ticks": ""
            },
            "type": "mesh3d"
           }
          ],
          "parcoords": [
           {
            "line": {
             "colorbar": {
              "outlinewidth": 0,
              "ticks": ""
             }
            },
            "type": "parcoords"
           }
          ],
          "pie": [
           {
            "automargin": true,
            "type": "pie"
           }
          ],
          "scatter": [
           {
            "marker": {
             "colorbar": {
              "outlinewidth": 0,
              "ticks": ""
             }
            },
            "type": "scatter"
           }
          ],
          "scatter3d": [
           {
            "line": {
             "colorbar": {
              "outlinewidth": 0,
              "ticks": ""
             }
            },
            "marker": {
             "colorbar": {
              "outlinewidth": 0,
              "ticks": ""
             }
            },
            "type": "scatter3d"
           }
          ],
          "scattercarpet": [
           {
            "marker": {
             "colorbar": {
              "outlinewidth": 0,
              "ticks": ""
             }
            },
            "type": "scattercarpet"
           }
          ],
          "scattergeo": [
           {
            "marker": {
             "colorbar": {
              "outlinewidth": 0,
              "ticks": ""
             }
            },
            "type": "scattergeo"
           }
          ],
          "scattergl": [
           {
            "marker": {
             "colorbar": {
              "outlinewidth": 0,
              "ticks": ""
             }
            },
            "type": "scattergl"
           }
          ],
          "scattermapbox": [
           {
            "marker": {
             "colorbar": {
              "outlinewidth": 0,
              "ticks": ""
             }
            },
            "type": "scattermapbox"
           }
          ],
          "scatterpolar": [
           {
            "marker": {
             "colorbar": {
              "outlinewidth": 0,
              "ticks": ""
             }
            },
            "type": "scatterpolar"
           }
          ],
          "scatterpolargl": [
           {
            "marker": {
             "colorbar": {
              "outlinewidth": 0,
              "ticks": ""
             }
            },
            "type": "scatterpolargl"
           }
          ],
          "scatterternary": [
           {
            "marker": {
             "colorbar": {
              "outlinewidth": 0,
              "ticks": ""
             }
            },
            "type": "scatterternary"
           }
          ],
          "surface": [
           {
            "colorbar": {
             "outlinewidth": 0,
             "ticks": ""
            },
            "colorscale": [
             [
              0,
              "#0d0887"
             ],
             [
              0.1111111111111111,
              "#46039f"
             ],
             [
              0.2222222222222222,
              "#7201a8"
             ],
             [
              0.3333333333333333,
              "#9c179e"
             ],
             [
              0.4444444444444444,
              "#bd3786"
             ],
             [
              0.5555555555555556,
              "#d8576b"
             ],
             [
              0.6666666666666666,
              "#ed7953"
             ],
             [
              0.7777777777777778,
              "#fb9f3a"
             ],
             [
              0.8888888888888888,
              "#fdca26"
             ],
             [
              1,
              "#f0f921"
             ]
            ],
            "type": "surface"
           }
          ],
          "table": [
           {
            "cells": {
             "fill": {
              "color": "#EBF0F8"
             },
             "line": {
              "color": "white"
             }
            },
            "header": {
             "fill": {
              "color": "#C8D4E3"
             },
             "line": {
              "color": "white"
             }
            },
            "type": "table"
           }
          ]
         },
         "layout": {
          "annotationdefaults": {
           "arrowcolor": "#2a3f5f",
           "arrowhead": 0,
           "arrowwidth": 1
          },
          "autotypenumbers": "strict",
          "coloraxis": {
           "colorbar": {
            "outlinewidth": 0,
            "ticks": ""
           }
          },
          "colorscale": {
           "diverging": [
            [
             0,
             "#8e0152"
            ],
            [
             0.1,
             "#c51b7d"
            ],
            [
             0.2,
             "#de77ae"
            ],
            [
             0.3,
             "#f1b6da"
            ],
            [
             0.4,
             "#fde0ef"
            ],
            [
             0.5,
             "#f7f7f7"
            ],
            [
             0.6,
             "#e6f5d0"
            ],
            [
             0.7,
             "#b8e186"
            ],
            [
             0.8,
             "#7fbc41"
            ],
            [
             0.9,
             "#4d9221"
            ],
            [
             1,
             "#276419"
            ]
           ],
           "sequential": [
            [
             0,
             "#0d0887"
            ],
            [
             0.1111111111111111,
             "#46039f"
            ],
            [
             0.2222222222222222,
             "#7201a8"
            ],
            [
             0.3333333333333333,
             "#9c179e"
            ],
            [
             0.4444444444444444,
             "#bd3786"
            ],
            [
             0.5555555555555556,
             "#d8576b"
            ],
            [
             0.6666666666666666,
             "#ed7953"
            ],
            [
             0.7777777777777778,
             "#fb9f3a"
            ],
            [
             0.8888888888888888,
             "#fdca26"
            ],
            [
             1,
             "#f0f921"
            ]
           ],
           "sequentialminus": [
            [
             0,
             "#0d0887"
            ],
            [
             0.1111111111111111,
             "#46039f"
            ],
            [
             0.2222222222222222,
             "#7201a8"
            ],
            [
             0.3333333333333333,
             "#9c179e"
            ],
            [
             0.4444444444444444,
             "#bd3786"
            ],
            [
             0.5555555555555556,
             "#d8576b"
            ],
            [
             0.6666666666666666,
             "#ed7953"
            ],
            [
             0.7777777777777778,
             "#fb9f3a"
            ],
            [
             0.8888888888888888,
             "#fdca26"
            ],
            [
             1,
             "#f0f921"
            ]
           ]
          },
          "colorway": [
           "#636efa",
           "#EF553B",
           "#00cc96",
           "#ab63fa",
           "#FFA15A",
           "#19d3f3",
           "#FF6692",
           "#B6E880",
           "#FF97FF",
           "#FECB52"
          ],
          "font": {
           "color": "#2a3f5f"
          },
          "geo": {
           "bgcolor": "white",
           "lakecolor": "white",
           "landcolor": "#E5ECF6",
           "showlakes": true,
           "showland": true,
           "subunitcolor": "white"
          },
          "hoverlabel": {
           "align": "left"
          },
          "hovermode": "closest",
          "mapbox": {
           "style": "light"
          },
          "paper_bgcolor": "white",
          "plot_bgcolor": "#E5ECF6",
          "polar": {
           "angularaxis": {
            "gridcolor": "white",
            "linecolor": "white",
            "ticks": ""
           },
           "bgcolor": "#E5ECF6",
           "radialaxis": {
            "gridcolor": "white",
            "linecolor": "white",
            "ticks": ""
           }
          },
          "scene": {
           "xaxis": {
            "backgroundcolor": "#E5ECF6",
            "gridcolor": "white",
            "gridwidth": 2,
            "linecolor": "white",
            "showbackground": true,
            "ticks": "",
            "zerolinecolor": "white"
           },
           "yaxis": {
            "backgroundcolor": "#E5ECF6",
            "gridcolor": "white",
            "gridwidth": 2,
            "linecolor": "white",
            "showbackground": true,
            "ticks": "",
            "zerolinecolor": "white"
           },
           "zaxis": {
            "backgroundcolor": "#E5ECF6",
            "gridcolor": "white",
            "gridwidth": 2,
            "linecolor": "white",
            "showbackground": true,
            "ticks": "",
            "zerolinecolor": "white"
           }
          },
          "shapedefaults": {
           "line": {
            "color": "#2a3f5f"
           }
          },
          "ternary": {
           "aaxis": {
            "gridcolor": "white",
            "linecolor": "white",
            "ticks": ""
           },
           "baxis": {
            "gridcolor": "white",
            "linecolor": "white",
            "ticks": ""
           },
           "bgcolor": "#E5ECF6",
           "caxis": {
            "gridcolor": "white",
            "linecolor": "white",
            "ticks": ""
           }
          },
          "title": {
           "x": 0.05
          },
          "xaxis": {
           "automargin": true,
           "gridcolor": "white",
           "linecolor": "white",
           "ticks": "",
           "title": {
            "standoff": 15
           },
           "zerolinecolor": "white",
           "zerolinewidth": 2
          },
          "yaxis": {
           "automargin": true,
           "gridcolor": "white",
           "linecolor": "white",
           "ticks": "",
           "title": {
            "standoff": 15
           },
           "zerolinecolor": "white",
           "zerolinewidth": 2
          }
         }
        },
        "title": {
         "text": "Video Duration vs Views"
        },
        "xaxis": {
         "anchor": "y",
         "domain": [
          0,
          1
         ],
         "title": {
          "text": "Duration (seconds)"
         }
        },
        "yaxis": {
         "anchor": "x",
         "domain": [
          0,
          1
         ],
         "title": {
          "text": "Views"
         }
        }
       }
      }
     },
     "metadata": {},
     "output_type": "display_data"
    }
   ],
   "source": [
    "\n",
    "# scatter plot\n",
    "fig = px.scatter(video_data, \n",
    "                 x='duration_seconds', \n",
    "                 y='views', \n",
    "                 hover_name='Title',  # Show video title on hover\n",
    "                 title='Video Duration vs Views',\n",
    "                 labels={'duration_seconds': 'Duration (seconds)', 'views': 'Views'},\n",
    "                 opacity=0.7)\n",
    "\n",
    "\n",
    "fig.show()"
   ]
  },
  {
   "cell_type": "code",
   "execution_count": 35,
   "metadata": {},
   "outputs": [
    {
     "data": {
      "application/vnd.plotly.v1+json": {
       "config": {
        "plotlyServerURL": "https://plot.ly"
       },
       "data": [
        {
         "hovertemplate": "Month: %{x}<br>Views: %{y}<extra></extra>",
         "marker": {
          "color": "blue"
         },
         "mode": "markers+lines",
         "name": "Monthly Views",
         "type": "scatter",
         "x": [
          "2023-11",
          "2023-12",
          "2024-01",
          "2024-04",
          "2024-05",
          "2024-08",
          "2024-09",
          "2024-10"
         ],
         "y": [
          1471684,
          124275953,
          17855273,
          6211339,
          1093201,
          671333,
          615084,
          3607471
         ]
        }
       ],
       "layout": {
        "hovermode": "closest",
        "template": {
         "data": {
          "bar": [
           {
            "error_x": {
             "color": "#2a3f5f"
            },
            "error_y": {
             "color": "#2a3f5f"
            },
            "marker": {
             "line": {
              "color": "#E5ECF6",
              "width": 0.5
             },
             "pattern": {
              "fillmode": "overlay",
              "size": 10,
              "solidity": 0.2
             }
            },
            "type": "bar"
           }
          ],
          "barpolar": [
           {
            "marker": {
             "line": {
              "color": "#E5ECF6",
              "width": 0.5
             },
             "pattern": {
              "fillmode": "overlay",
              "size": 10,
              "solidity": 0.2
             }
            },
            "type": "barpolar"
           }
          ],
          "carpet": [
           {
            "aaxis": {
             "endlinecolor": "#2a3f5f",
             "gridcolor": "white",
             "linecolor": "white",
             "minorgridcolor": "white",
             "startlinecolor": "#2a3f5f"
            },
            "baxis": {
             "endlinecolor": "#2a3f5f",
             "gridcolor": "white",
             "linecolor": "white",
             "minorgridcolor": "white",
             "startlinecolor": "#2a3f5f"
            },
            "type": "carpet"
           }
          ],
          "choropleth": [
           {
            "colorbar": {
             "outlinewidth": 0,
             "ticks": ""
            },
            "type": "choropleth"
           }
          ],
          "contour": [
           {
            "colorbar": {
             "outlinewidth": 0,
             "ticks": ""
            },
            "colorscale": [
             [
              0,
              "#0d0887"
             ],
             [
              0.1111111111111111,
              "#46039f"
             ],
             [
              0.2222222222222222,
              "#7201a8"
             ],
             [
              0.3333333333333333,
              "#9c179e"
             ],
             [
              0.4444444444444444,
              "#bd3786"
             ],
             [
              0.5555555555555556,
              "#d8576b"
             ],
             [
              0.6666666666666666,
              "#ed7953"
             ],
             [
              0.7777777777777778,
              "#fb9f3a"
             ],
             [
              0.8888888888888888,
              "#fdca26"
             ],
             [
              1,
              "#f0f921"
             ]
            ],
            "type": "contour"
           }
          ],
          "contourcarpet": [
           {
            "colorbar": {
             "outlinewidth": 0,
             "ticks": ""
            },
            "type": "contourcarpet"
           }
          ],
          "heatmap": [
           {
            "colorbar": {
             "outlinewidth": 0,
             "ticks": ""
            },
            "colorscale": [
             [
              0,
              "#0d0887"
             ],
             [
              0.1111111111111111,
              "#46039f"
             ],
             [
              0.2222222222222222,
              "#7201a8"
             ],
             [
              0.3333333333333333,
              "#9c179e"
             ],
             [
              0.4444444444444444,
              "#bd3786"
             ],
             [
              0.5555555555555556,
              "#d8576b"
             ],
             [
              0.6666666666666666,
              "#ed7953"
             ],
             [
              0.7777777777777778,
              "#fb9f3a"
             ],
             [
              0.8888888888888888,
              "#fdca26"
             ],
             [
              1,
              "#f0f921"
             ]
            ],
            "type": "heatmap"
           }
          ],
          "heatmapgl": [
           {
            "colorbar": {
             "outlinewidth": 0,
             "ticks": ""
            },
            "colorscale": [
             [
              0,
              "#0d0887"
             ],
             [
              0.1111111111111111,
              "#46039f"
             ],
             [
              0.2222222222222222,
              "#7201a8"
             ],
             [
              0.3333333333333333,
              "#9c179e"
             ],
             [
              0.4444444444444444,
              "#bd3786"
             ],
             [
              0.5555555555555556,
              "#d8576b"
             ],
             [
              0.6666666666666666,
              "#ed7953"
             ],
             [
              0.7777777777777778,
              "#fb9f3a"
             ],
             [
              0.8888888888888888,
              "#fdca26"
             ],
             [
              1,
              "#f0f921"
             ]
            ],
            "type": "heatmapgl"
           }
          ],
          "histogram": [
           {
            "marker": {
             "pattern": {
              "fillmode": "overlay",
              "size": 10,
              "solidity": 0.2
             }
            },
            "type": "histogram"
           }
          ],
          "histogram2d": [
           {
            "colorbar": {
             "outlinewidth": 0,
             "ticks": ""
            },
            "colorscale": [
             [
              0,
              "#0d0887"
             ],
             [
              0.1111111111111111,
              "#46039f"
             ],
             [
              0.2222222222222222,
              "#7201a8"
             ],
             [
              0.3333333333333333,
              "#9c179e"
             ],
             [
              0.4444444444444444,
              "#bd3786"
             ],
             [
              0.5555555555555556,
              "#d8576b"
             ],
             [
              0.6666666666666666,
              "#ed7953"
             ],
             [
              0.7777777777777778,
              "#fb9f3a"
             ],
             [
              0.8888888888888888,
              "#fdca26"
             ],
             [
              1,
              "#f0f921"
             ]
            ],
            "type": "histogram2d"
           }
          ],
          "histogram2dcontour": [
           {
            "colorbar": {
             "outlinewidth": 0,
             "ticks": ""
            },
            "colorscale": [
             [
              0,
              "#0d0887"
             ],
             [
              0.1111111111111111,
              "#46039f"
             ],
             [
              0.2222222222222222,
              "#7201a8"
             ],
             [
              0.3333333333333333,
              "#9c179e"
             ],
             [
              0.4444444444444444,
              "#bd3786"
             ],
             [
              0.5555555555555556,
              "#d8576b"
             ],
             [
              0.6666666666666666,
              "#ed7953"
             ],
             [
              0.7777777777777778,
              "#fb9f3a"
             ],
             [
              0.8888888888888888,
              "#fdca26"
             ],
             [
              1,
              "#f0f921"
             ]
            ],
            "type": "histogram2dcontour"
           }
          ],
          "mesh3d": [
           {
            "colorbar": {
             "outlinewidth": 0,
             "ticks": ""
            },
            "type": "mesh3d"
           }
          ],
          "parcoords": [
           {
            "line": {
             "colorbar": {
              "outlinewidth": 0,
              "ticks": ""
             }
            },
            "type": "parcoords"
           }
          ],
          "pie": [
           {
            "automargin": true,
            "type": "pie"
           }
          ],
          "scatter": [
           {
            "marker": {
             "colorbar": {
              "outlinewidth": 0,
              "ticks": ""
             }
            },
            "type": "scatter"
           }
          ],
          "scatter3d": [
           {
            "line": {
             "colorbar": {
              "outlinewidth": 0,
              "ticks": ""
             }
            },
            "marker": {
             "colorbar": {
              "outlinewidth": 0,
              "ticks": ""
             }
            },
            "type": "scatter3d"
           }
          ],
          "scattercarpet": [
           {
            "marker": {
             "colorbar": {
              "outlinewidth": 0,
              "ticks": ""
             }
            },
            "type": "scattercarpet"
           }
          ],
          "scattergeo": [
           {
            "marker": {
             "colorbar": {
              "outlinewidth": 0,
              "ticks": ""
             }
            },
            "type": "scattergeo"
           }
          ],
          "scattergl": [
           {
            "marker": {
             "colorbar": {
              "outlinewidth": 0,
              "ticks": ""
             }
            },
            "type": "scattergl"
           }
          ],
          "scattermapbox": [
           {
            "marker": {
             "colorbar": {
              "outlinewidth": 0,
              "ticks": ""
             }
            },
            "type": "scattermapbox"
           }
          ],
          "scatterpolar": [
           {
            "marker": {
             "colorbar": {
              "outlinewidth": 0,
              "ticks": ""
             }
            },
            "type": "scatterpolar"
           }
          ],
          "scatterpolargl": [
           {
            "marker": {
             "colorbar": {
              "outlinewidth": 0,
              "ticks": ""
             }
            },
            "type": "scatterpolargl"
           }
          ],
          "scatterternary": [
           {
            "marker": {
             "colorbar": {
              "outlinewidth": 0,
              "ticks": ""
             }
            },
            "type": "scatterternary"
           }
          ],
          "surface": [
           {
            "colorbar": {
             "outlinewidth": 0,
             "ticks": ""
            },
            "colorscale": [
             [
              0,
              "#0d0887"
             ],
             [
              0.1111111111111111,
              "#46039f"
             ],
             [
              0.2222222222222222,
              "#7201a8"
             ],
             [
              0.3333333333333333,
              "#9c179e"
             ],
             [
              0.4444444444444444,
              "#bd3786"
             ],
             [
              0.5555555555555556,
              "#d8576b"
             ],
             [
              0.6666666666666666,
              "#ed7953"
             ],
             [
              0.7777777777777778,
              "#fb9f3a"
             ],
             [
              0.8888888888888888,
              "#fdca26"
             ],
             [
              1,
              "#f0f921"
             ]
            ],
            "type": "surface"
           }
          ],
          "table": [
           {
            "cells": {
             "fill": {
              "color": "#EBF0F8"
             },
             "line": {
              "color": "white"
             }
            },
            "header": {
             "fill": {
              "color": "#C8D4E3"
             },
             "line": {
              "color": "white"
             }
            },
            "type": "table"
           }
          ]
         },
         "layout": {
          "annotationdefaults": {
           "arrowcolor": "#2a3f5f",
           "arrowhead": 0,
           "arrowwidth": 1
          },
          "autotypenumbers": "strict",
          "coloraxis": {
           "colorbar": {
            "outlinewidth": 0,
            "ticks": ""
           }
          },
          "colorscale": {
           "diverging": [
            [
             0,
             "#8e0152"
            ],
            [
             0.1,
             "#c51b7d"
            ],
            [
             0.2,
             "#de77ae"
            ],
            [
             0.3,
             "#f1b6da"
            ],
            [
             0.4,
             "#fde0ef"
            ],
            [
             0.5,
             "#f7f7f7"
            ],
            [
             0.6,
             "#e6f5d0"
            ],
            [
             0.7,
             "#b8e186"
            ],
            [
             0.8,
             "#7fbc41"
            ],
            [
             0.9,
             "#4d9221"
            ],
            [
             1,
             "#276419"
            ]
           ],
           "sequential": [
            [
             0,
             "#0d0887"
            ],
            [
             0.1111111111111111,
             "#46039f"
            ],
            [
             0.2222222222222222,
             "#7201a8"
            ],
            [
             0.3333333333333333,
             "#9c179e"
            ],
            [
             0.4444444444444444,
             "#bd3786"
            ],
            [
             0.5555555555555556,
             "#d8576b"
            ],
            [
             0.6666666666666666,
             "#ed7953"
            ],
            [
             0.7777777777777778,
             "#fb9f3a"
            ],
            [
             0.8888888888888888,
             "#fdca26"
            ],
            [
             1,
             "#f0f921"
            ]
           ],
           "sequentialminus": [
            [
             0,
             "#0d0887"
            ],
            [
             0.1111111111111111,
             "#46039f"
            ],
            [
             0.2222222222222222,
             "#7201a8"
            ],
            [
             0.3333333333333333,
             "#9c179e"
            ],
            [
             0.4444444444444444,
             "#bd3786"
            ],
            [
             0.5555555555555556,
             "#d8576b"
            ],
            [
             0.6666666666666666,
             "#ed7953"
            ],
            [
             0.7777777777777778,
             "#fb9f3a"
            ],
            [
             0.8888888888888888,
             "#fdca26"
            ],
            [
             1,
             "#f0f921"
            ]
           ]
          },
          "colorway": [
           "#636efa",
           "#EF553B",
           "#00cc96",
           "#ab63fa",
           "#FFA15A",
           "#19d3f3",
           "#FF6692",
           "#B6E880",
           "#FF97FF",
           "#FECB52"
          ],
          "font": {
           "color": "#2a3f5f"
          },
          "geo": {
           "bgcolor": "white",
           "lakecolor": "white",
           "landcolor": "#E5ECF6",
           "showlakes": true,
           "showland": true,
           "subunitcolor": "white"
          },
          "hoverlabel": {
           "align": "left"
          },
          "hovermode": "closest",
          "mapbox": {
           "style": "light"
          },
          "paper_bgcolor": "white",
          "plot_bgcolor": "#E5ECF6",
          "polar": {
           "angularaxis": {
            "gridcolor": "white",
            "linecolor": "white",
            "ticks": ""
           },
           "bgcolor": "#E5ECF6",
           "radialaxis": {
            "gridcolor": "white",
            "linecolor": "white",
            "ticks": ""
           }
          },
          "scene": {
           "xaxis": {
            "backgroundcolor": "#E5ECF6",
            "gridcolor": "white",
            "gridwidth": 2,
            "linecolor": "white",
            "showbackground": true,
            "ticks": "",
            "zerolinecolor": "white"
           },
           "yaxis": {
            "backgroundcolor": "#E5ECF6",
            "gridcolor": "white",
            "gridwidth": 2,
            "linecolor": "white",
            "showbackground": true,
            "ticks": "",
            "zerolinecolor": "white"
           },
           "zaxis": {
            "backgroundcolor": "#E5ECF6",
            "gridcolor": "white",
            "gridwidth": 2,
            "linecolor": "white",
            "showbackground": true,
            "ticks": "",
            "zerolinecolor": "white"
           }
          },
          "shapedefaults": {
           "line": {
            "color": "#2a3f5f"
           }
          },
          "ternary": {
           "aaxis": {
            "gridcolor": "white",
            "linecolor": "white",
            "ticks": ""
           },
           "baxis": {
            "gridcolor": "white",
            "linecolor": "white",
            "ticks": ""
           },
           "bgcolor": "#E5ECF6",
           "caxis": {
            "gridcolor": "white",
            "linecolor": "white",
            "ticks": ""
           }
          },
          "title": {
           "x": 0.05
          },
          "xaxis": {
           "automargin": true,
           "gridcolor": "white",
           "linecolor": "white",
           "ticks": "",
           "title": {
            "standoff": 15
           },
           "zerolinecolor": "white",
           "zerolinewidth": 2
          },
          "yaxis": {
           "automargin": true,
           "gridcolor": "white",
           "linecolor": "white",
           "ticks": "",
           "title": {
            "standoff": 15
           },
           "zerolinecolor": "white",
           "zerolinewidth": 2
          }
         }
        },
        "title": {
         "text": "Monthly Gained Views Over the Last Year"
        },
        "xaxis": {
         "title": {
          "text": "Month"
         }
        },
        "yaxis": {
         "title": {
          "text": "Views"
         }
        }
       }
      }
     },
     "metadata": {},
     "output_type": "display_data"
    },
    {
     "data": {
      "application/vnd.plotly.v1+json": {
       "config": {
        "plotlyServerURL": "https://plot.ly"
       },
       "data": [
        {
         "hovertemplate": "Month: %{x}<br>Likes: %{y}<extra></extra>",
         "marker": {
          "color": "green"
         },
         "mode": "markers+lines",
         "name": "Monthly Likes",
         "type": "scatter",
         "x": [
          "2023-11",
          "2023-12",
          "2024-01",
          "2024-04",
          "2024-05",
          "2024-08",
          "2024-09",
          "2024-10"
         ],
         "y": [
          47679,
          5759959,
          872900,
          227973,
          61221,
          25899,
          34284,
          200834
         ]
        }
       ],
       "layout": {
        "hovermode": "closest",
        "template": {
         "data": {
          "bar": [
           {
            "error_x": {
             "color": "#2a3f5f"
            },
            "error_y": {
             "color": "#2a3f5f"
            },
            "marker": {
             "line": {
              "color": "#E5ECF6",
              "width": 0.5
             },
             "pattern": {
              "fillmode": "overlay",
              "size": 10,
              "solidity": 0.2
             }
            },
            "type": "bar"
           }
          ],
          "barpolar": [
           {
            "marker": {
             "line": {
              "color": "#E5ECF6",
              "width": 0.5
             },
             "pattern": {
              "fillmode": "overlay",
              "size": 10,
              "solidity": 0.2
             }
            },
            "type": "barpolar"
           }
          ],
          "carpet": [
           {
            "aaxis": {
             "endlinecolor": "#2a3f5f",
             "gridcolor": "white",
             "linecolor": "white",
             "minorgridcolor": "white",
             "startlinecolor": "#2a3f5f"
            },
            "baxis": {
             "endlinecolor": "#2a3f5f",
             "gridcolor": "white",
             "linecolor": "white",
             "minorgridcolor": "white",
             "startlinecolor": "#2a3f5f"
            },
            "type": "carpet"
           }
          ],
          "choropleth": [
           {
            "colorbar": {
             "outlinewidth": 0,
             "ticks": ""
            },
            "type": "choropleth"
           }
          ],
          "contour": [
           {
            "colorbar": {
             "outlinewidth": 0,
             "ticks": ""
            },
            "colorscale": [
             [
              0,
              "#0d0887"
             ],
             [
              0.1111111111111111,
              "#46039f"
             ],
             [
              0.2222222222222222,
              "#7201a8"
             ],
             [
              0.3333333333333333,
              "#9c179e"
             ],
             [
              0.4444444444444444,
              "#bd3786"
             ],
             [
              0.5555555555555556,
              "#d8576b"
             ],
             [
              0.6666666666666666,
              "#ed7953"
             ],
             [
              0.7777777777777778,
              "#fb9f3a"
             ],
             [
              0.8888888888888888,
              "#fdca26"
             ],
             [
              1,
              "#f0f921"
             ]
            ],
            "type": "contour"
           }
          ],
          "contourcarpet": [
           {
            "colorbar": {
             "outlinewidth": 0,
             "ticks": ""
            },
            "type": "contourcarpet"
           }
          ],
          "heatmap": [
           {
            "colorbar": {
             "outlinewidth": 0,
             "ticks": ""
            },
            "colorscale": [
             [
              0,
              "#0d0887"
             ],
             [
              0.1111111111111111,
              "#46039f"
             ],
             [
              0.2222222222222222,
              "#7201a8"
             ],
             [
              0.3333333333333333,
              "#9c179e"
             ],
             [
              0.4444444444444444,
              "#bd3786"
             ],
             [
              0.5555555555555556,
              "#d8576b"
             ],
             [
              0.6666666666666666,
              "#ed7953"
             ],
             [
              0.7777777777777778,
              "#fb9f3a"
             ],
             [
              0.8888888888888888,
              "#fdca26"
             ],
             [
              1,
              "#f0f921"
             ]
            ],
            "type": "heatmap"
           }
          ],
          "heatmapgl": [
           {
            "colorbar": {
             "outlinewidth": 0,
             "ticks": ""
            },
            "colorscale": [
             [
              0,
              "#0d0887"
             ],
             [
              0.1111111111111111,
              "#46039f"
             ],
             [
              0.2222222222222222,
              "#7201a8"
             ],
             [
              0.3333333333333333,
              "#9c179e"
             ],
             [
              0.4444444444444444,
              "#bd3786"
             ],
             [
              0.5555555555555556,
              "#d8576b"
             ],
             [
              0.6666666666666666,
              "#ed7953"
             ],
             [
              0.7777777777777778,
              "#fb9f3a"
             ],
             [
              0.8888888888888888,
              "#fdca26"
             ],
             [
              1,
              "#f0f921"
             ]
            ],
            "type": "heatmapgl"
           }
          ],
          "histogram": [
           {
            "marker": {
             "pattern": {
              "fillmode": "overlay",
              "size": 10,
              "solidity": 0.2
             }
            },
            "type": "histogram"
           }
          ],
          "histogram2d": [
           {
            "colorbar": {
             "outlinewidth": 0,
             "ticks": ""
            },
            "colorscale": [
             [
              0,
              "#0d0887"
             ],
             [
              0.1111111111111111,
              "#46039f"
             ],
             [
              0.2222222222222222,
              "#7201a8"
             ],
             [
              0.3333333333333333,
              "#9c179e"
             ],
             [
              0.4444444444444444,
              "#bd3786"
             ],
             [
              0.5555555555555556,
              "#d8576b"
             ],
             [
              0.6666666666666666,
              "#ed7953"
             ],
             [
              0.7777777777777778,
              "#fb9f3a"
             ],
             [
              0.8888888888888888,
              "#fdca26"
             ],
             [
              1,
              "#f0f921"
             ]
            ],
            "type": "histogram2d"
           }
          ],
          "histogram2dcontour": [
           {
            "colorbar": {
             "outlinewidth": 0,
             "ticks": ""
            },
            "colorscale": [
             [
              0,
              "#0d0887"
             ],
             [
              0.1111111111111111,
              "#46039f"
             ],
             [
              0.2222222222222222,
              "#7201a8"
             ],
             [
              0.3333333333333333,
              "#9c179e"
             ],
             [
              0.4444444444444444,
              "#bd3786"
             ],
             [
              0.5555555555555556,
              "#d8576b"
             ],
             [
              0.6666666666666666,
              "#ed7953"
             ],
             [
              0.7777777777777778,
              "#fb9f3a"
             ],
             [
              0.8888888888888888,
              "#fdca26"
             ],
             [
              1,
              "#f0f921"
             ]
            ],
            "type": "histogram2dcontour"
           }
          ],
          "mesh3d": [
           {
            "colorbar": {
             "outlinewidth": 0,
             "ticks": ""
            },
            "type": "mesh3d"
           }
          ],
          "parcoords": [
           {
            "line": {
             "colorbar": {
              "outlinewidth": 0,
              "ticks": ""
             }
            },
            "type": "parcoords"
           }
          ],
          "pie": [
           {
            "automargin": true,
            "type": "pie"
           }
          ],
          "scatter": [
           {
            "marker": {
             "colorbar": {
              "outlinewidth": 0,
              "ticks": ""
             }
            },
            "type": "scatter"
           }
          ],
          "scatter3d": [
           {
            "line": {
             "colorbar": {
              "outlinewidth": 0,
              "ticks": ""
             }
            },
            "marker": {
             "colorbar": {
              "outlinewidth": 0,
              "ticks": ""
             }
            },
            "type": "scatter3d"
           }
          ],
          "scattercarpet": [
           {
            "marker": {
             "colorbar": {
              "outlinewidth": 0,
              "ticks": ""
             }
            },
            "type": "scattercarpet"
           }
          ],
          "scattergeo": [
           {
            "marker": {
             "colorbar": {
              "outlinewidth": 0,
              "ticks": ""
             }
            },
            "type": "scattergeo"
           }
          ],
          "scattergl": [
           {
            "marker": {
             "colorbar": {
              "outlinewidth": 0,
              "ticks": ""
             }
            },
            "type": "scattergl"
           }
          ],
          "scattermapbox": [
           {
            "marker": {
             "colorbar": {
              "outlinewidth": 0,
              "ticks": ""
             }
            },
            "type": "scattermapbox"
           }
          ],
          "scatterpolar": [
           {
            "marker": {
             "colorbar": {
              "outlinewidth": 0,
              "ticks": ""
             }
            },
            "type": "scatterpolar"
           }
          ],
          "scatterpolargl": [
           {
            "marker": {
             "colorbar": {
              "outlinewidth": 0,
              "ticks": ""
             }
            },
            "type": "scatterpolargl"
           }
          ],
          "scatterternary": [
           {
            "marker": {
             "colorbar": {
              "outlinewidth": 0,
              "ticks": ""
             }
            },
            "type": "scatterternary"
           }
          ],
          "surface": [
           {
            "colorbar": {
             "outlinewidth": 0,
             "ticks": ""
            },
            "colorscale": [
             [
              0,
              "#0d0887"
             ],
             [
              0.1111111111111111,
              "#46039f"
             ],
             [
              0.2222222222222222,
              "#7201a8"
             ],
             [
              0.3333333333333333,
              "#9c179e"
             ],
             [
              0.4444444444444444,
              "#bd3786"
             ],
             [
              0.5555555555555556,
              "#d8576b"
             ],
             [
              0.6666666666666666,
              "#ed7953"
             ],
             [
              0.7777777777777778,
              "#fb9f3a"
             ],
             [
              0.8888888888888888,
              "#fdca26"
             ],
             [
              1,
              "#f0f921"
             ]
            ],
            "type": "surface"
           }
          ],
          "table": [
           {
            "cells": {
             "fill": {
              "color": "#EBF0F8"
             },
             "line": {
              "color": "white"
             }
            },
            "header": {
             "fill": {
              "color": "#C8D4E3"
             },
             "line": {
              "color": "white"
             }
            },
            "type": "table"
           }
          ]
         },
         "layout": {
          "annotationdefaults": {
           "arrowcolor": "#2a3f5f",
           "arrowhead": 0,
           "arrowwidth": 1
          },
          "autotypenumbers": "strict",
          "coloraxis": {
           "colorbar": {
            "outlinewidth": 0,
            "ticks": ""
           }
          },
          "colorscale": {
           "diverging": [
            [
             0,
             "#8e0152"
            ],
            [
             0.1,
             "#c51b7d"
            ],
            [
             0.2,
             "#de77ae"
            ],
            [
             0.3,
             "#f1b6da"
            ],
            [
             0.4,
             "#fde0ef"
            ],
            [
             0.5,
             "#f7f7f7"
            ],
            [
             0.6,
             "#e6f5d0"
            ],
            [
             0.7,
             "#b8e186"
            ],
            [
             0.8,
             "#7fbc41"
            ],
            [
             0.9,
             "#4d9221"
            ],
            [
             1,
             "#276419"
            ]
           ],
           "sequential": [
            [
             0,
             "#0d0887"
            ],
            [
             0.1111111111111111,
             "#46039f"
            ],
            [
             0.2222222222222222,
             "#7201a8"
            ],
            [
             0.3333333333333333,
             "#9c179e"
            ],
            [
             0.4444444444444444,
             "#bd3786"
            ],
            [
             0.5555555555555556,
             "#d8576b"
            ],
            [
             0.6666666666666666,
             "#ed7953"
            ],
            [
             0.7777777777777778,
             "#fb9f3a"
            ],
            [
             0.8888888888888888,
             "#fdca26"
            ],
            [
             1,
             "#f0f921"
            ]
           ],
           "sequentialminus": [
            [
             0,
             "#0d0887"
            ],
            [
             0.1111111111111111,
             "#46039f"
            ],
            [
             0.2222222222222222,
             "#7201a8"
            ],
            [
             0.3333333333333333,
             "#9c179e"
            ],
            [
             0.4444444444444444,
             "#bd3786"
            ],
            [
             0.5555555555555556,
             "#d8576b"
            ],
            [
             0.6666666666666666,
             "#ed7953"
            ],
            [
             0.7777777777777778,
             "#fb9f3a"
            ],
            [
             0.8888888888888888,
             "#fdca26"
            ],
            [
             1,
             "#f0f921"
            ]
           ]
          },
          "colorway": [
           "#636efa",
           "#EF553B",
           "#00cc96",
           "#ab63fa",
           "#FFA15A",
           "#19d3f3",
           "#FF6692",
           "#B6E880",
           "#FF97FF",
           "#FECB52"
          ],
          "font": {
           "color": "#2a3f5f"
          },
          "geo": {
           "bgcolor": "white",
           "lakecolor": "white",
           "landcolor": "#E5ECF6",
           "showlakes": true,
           "showland": true,
           "subunitcolor": "white"
          },
          "hoverlabel": {
           "align": "left"
          },
          "hovermode": "closest",
          "mapbox": {
           "style": "light"
          },
          "paper_bgcolor": "white",
          "plot_bgcolor": "#E5ECF6",
          "polar": {
           "angularaxis": {
            "gridcolor": "white",
            "linecolor": "white",
            "ticks": ""
           },
           "bgcolor": "#E5ECF6",
           "radialaxis": {
            "gridcolor": "white",
            "linecolor": "white",
            "ticks": ""
           }
          },
          "scene": {
           "xaxis": {
            "backgroundcolor": "#E5ECF6",
            "gridcolor": "white",
            "gridwidth": 2,
            "linecolor": "white",
            "showbackground": true,
            "ticks": "",
            "zerolinecolor": "white"
           },
           "yaxis": {
            "backgroundcolor": "#E5ECF6",
            "gridcolor": "white",
            "gridwidth": 2,
            "linecolor": "white",
            "showbackground": true,
            "ticks": "",
            "zerolinecolor": "white"
           },
           "zaxis": {
            "backgroundcolor": "#E5ECF6",
            "gridcolor": "white",
            "gridwidth": 2,
            "linecolor": "white",
            "showbackground": true,
            "ticks": "",
            "zerolinecolor": "white"
           }
          },
          "shapedefaults": {
           "line": {
            "color": "#2a3f5f"
           }
          },
          "ternary": {
           "aaxis": {
            "gridcolor": "white",
            "linecolor": "white",
            "ticks": ""
           },
           "baxis": {
            "gridcolor": "white",
            "linecolor": "white",
            "ticks": ""
           },
           "bgcolor": "#E5ECF6",
           "caxis": {
            "gridcolor": "white",
            "linecolor": "white",
            "ticks": ""
           }
          },
          "title": {
           "x": 0.05
          },
          "xaxis": {
           "automargin": true,
           "gridcolor": "white",
           "linecolor": "white",
           "ticks": "",
           "title": {
            "standoff": 15
           },
           "zerolinecolor": "white",
           "zerolinewidth": 2
          },
          "yaxis": {
           "automargin": true,
           "gridcolor": "white",
           "linecolor": "white",
           "ticks": "",
           "title": {
            "standoff": 15
           },
           "zerolinecolor": "white",
           "zerolinewidth": 2
          }
         }
        },
        "title": {
         "text": "Monthly Gained Likes Over the Last Year"
        },
        "xaxis": {
         "title": {
          "text": "Month"
         }
        },
        "yaxis": {
         "title": {
          "text": "Likes"
         }
        }
       }
      }
     },
     "metadata": {},
     "output_type": "display_data"
    }
   ],
   "source": [
    "# Gained Views and likes over a month\n",
    "\n",
    "import pandas as pd\n",
    "import plotly.graph_objects as go\n",
    "\n",
    "def plot_monthly_gains_with_interactivity(df):\n",
    "    \n",
    "    df['published_date'] = pd.to_datetime(df['published_date'])\n",
    "\n",
    "    last_year = df['published_date'].max() - pd.DateOffset(years=1)\n",
    "    df_last_year = df[df['published_date'] >= last_year].copy()\n",
    "\n",
    "    df_last_year['month'] = df_last_year['published_date'].dt.to_period('M')  # Get month in YYYY-MM format\n",
    "    monthly_stats = df_last_year.groupby('month').agg({'views': 'sum', 'likes': 'sum'}).reset_index()\n",
    "\n",
    "    # Plot 1: Monthly Views\n",
    "    fig_views = go.Figure()\n",
    "\n",
    "    fig_views.add_trace(go.Scatter(\n",
    "        x=monthly_stats['month'].astype(str),\n",
    "        y=monthly_stats['views'],\n",
    "        mode='markers+lines',\n",
    "        name='Monthly Views',\n",
    "        marker=dict(color='blue'),\n",
    "        hovertemplate='Month: %{x}<br>Views: %{y}<extra></extra>'  # Only show views\n",
    "    ))\n",
    "\n",
    "    fig_views.update_layout(\n",
    "        title='Monthly Gained Views Over the Last Year',\n",
    "        xaxis_title='Month',\n",
    "        yaxis_title='Views',\n",
    "        hovermode='closest',\n",
    "    )\n",
    "\n",
    "    fig_views.show()\n",
    "\n",
    "    # Plot 2: Monthly Likes\n",
    "    fig_likes = go.Figure()\n",
    "\n",
    "    fig_likes.add_trace(go.Scatter(\n",
    "        x=monthly_stats['month'].astype(str),\n",
    "        y=monthly_stats['likes'],\n",
    "        mode='markers+lines',\n",
    "        name='Monthly Likes',\n",
    "        marker=dict(color='green'),\n",
    "        hovertemplate='Month: %{x}<br>Likes: %{y}<extra></extra>'  # Only show likes\n",
    "    ))\n",
    "\n",
    "    fig_likes.update_layout(\n",
    "        title='Monthly Gained Likes Over the Last Year',\n",
    "        xaxis_title='Month',\n",
    "        yaxis_title='Likes',\n",
    "        hovermode='closest',\n",
    "    )\n",
    "\n",
    "    fig_likes.show()\n",
    "\n",
    "\n",
    "plot_monthly_gains_with_interactivity(video_data)"
   ]
  },
  {
   "cell_type": "markdown",
   "metadata": {},
   "source": [
    "## Comparion between channels"
   ]
  },
  {
   "cell_type": "code",
   "execution_count": 8,
   "metadata": {},
   "outputs": [],
   "source": [
    "channel_names=['Drake','EminemMusic']"
   ]
  },
  {
   "cell_type": "code",
   "execution_count": 9,
   "metadata": {},
   "outputs": [
    {
     "data": {
      "text/html": [
       "<div>\n",
       "<style scoped>\n",
       "    .dataframe tbody tr th:only-of-type {\n",
       "        vertical-align: middle;\n",
       "    }\n",
       "\n",
       "    .dataframe tbody tr th {\n",
       "        vertical-align: top;\n",
       "    }\n",
       "\n",
       "    .dataframe thead th {\n",
       "        text-align: right;\n",
       "    }\n",
       "</style>\n",
       "<table border=\"1\" class=\"dataframe\">\n",
       "  <thead>\n",
       "    <tr style=\"text-align: right;\">\n",
       "      <th></th>\n",
       "      <th>channel_name</th>\n",
       "      <th>subscribers</th>\n",
       "      <th>views</th>\n",
       "      <th>total_videos</th>\n",
       "      <th>likes</th>\n",
       "      <th>comments</th>\n",
       "      <th>playlist_id</th>\n",
       "    </tr>\n",
       "  </thead>\n",
       "  <tbody>\n",
       "    <tr>\n",
       "      <th>0</th>\n",
       "      <td>Drake</td>\n",
       "      <td>30300000</td>\n",
       "      <td>18626488258</td>\n",
       "      <td>64</td>\n",
       "      <td>0</td>\n",
       "      <td>0</td>\n",
       "      <td>UUByOQJjav0CUDwxCk-jVNRQ</td>\n",
       "    </tr>\n",
       "    <tr>\n",
       "      <th>1</th>\n",
       "      <td>EminemMusic</td>\n",
       "      <td>62600000</td>\n",
       "      <td>31610301290</td>\n",
       "      <td>196</td>\n",
       "      <td>0</td>\n",
       "      <td>0</td>\n",
       "      <td>UUfM3zsQsOnfWNUppiycmBuw</td>\n",
       "    </tr>\n",
       "  </tbody>\n",
       "</table>\n",
       "</div>"
      ],
      "text/plain": [
       "  channel_name subscribers        views total_videos  likes  comments  \\\n",
       "0        Drake    30300000  18626488258           64      0         0   \n",
       "1  EminemMusic    62600000  31610301290          196      0         0   \n",
       "\n",
       "                playlist_id  \n",
       "0  UUByOQJjav0CUDwxCk-jVNRQ  \n",
       "1  UUfM3zsQsOnfWNUppiycmBuw  "
      ]
     },
     "execution_count": 9,
     "metadata": {},
     "output_type": "execute_result"
    }
   ],
   "source": [
    "\n",
    "channel_ids=search_channel_ids(youtube,channel_names)\n",
    "channel_statistics=get_multiple_channel_stats(youtube,channel_ids)\n",
    "channel_data=pd.DataFrame(channel_statistics)\n",
    "channel_data"
   ]
  },
  {
   "cell_type": "code",
   "execution_count": 10,
   "metadata": {},
   "outputs": [
    {
     "data": {
      "text/plain": [
       "channel_name    object\n",
       "subscribers     object\n",
       "views           object\n",
       "total_videos    object\n",
       "likes            int64\n",
       "comments         int64\n",
       "playlist_id     object\n",
       "dtype: object"
      ]
     },
     "execution_count": 10,
     "metadata": {},
     "output_type": "execute_result"
    }
   ],
   "source": [
    "channel_data.dtypes"
   ]
  },
  {
   "cell_type": "code",
   "execution_count": 11,
   "metadata": {},
   "outputs": [],
   "source": [
    "channel_data['subscribers']=pd.to_numeric(channel_data['subscribers'])\n",
    "channel_data['views']=pd.to_numeric(channel_data['views'])\n",
    "channel_data['total_videos']=pd.to_numeric(channel_data['total_videos'])"
   ]
  },
  {
   "cell_type": "code",
   "execution_count": 16,
   "metadata": {},
   "outputs": [],
   "source": [
    "# creating a new column for average views per video\n",
    "channel_data['views_per_video'] = channel_data['views'] / channel_data['total_videos']"
   ]
  },
  {
   "cell_type": "code",
   "execution_count": 12,
   "metadata": {},
   "outputs": [
    {
     "data": {
      "image/png": "[encoded data removed]",
      "text/plain": [
       "<Figure size 720x432 with 1 Axes>"
      ]
     },
     "metadata": {},
     "output_type": "display_data"
    }
   ],
   "source": [
    "sns.set_theme(rc={'figure.figsize':(10,6)}) \n",
    "ax = sns.barplot(x='channel_name',y='subscribers',data=channel_data)"
   ]
  },
  {
   "cell_type": "code",
   "execution_count": 13,
   "metadata": {},
   "outputs": [
    {
     "data": {
      "image/png": "[encoded data removed]",
      "text/plain": [
       "<Figure size 720x432 with 1 Axes>"
      ]
     },
     "metadata": {},
     "output_type": "display_data"
    }
   ],
   "source": [
    "ax = sns.barplot(x='channel_name',y='views',data=channel_data)"
   ]
  },
  {
   "cell_type": "code",
   "execution_count": 17,
   "metadata": {},
   "outputs": [
    {
     "data": {
      "image/png": "[encoded data removed]",
      "text/plain": [
       "<Figure size 720x432 with 1 Axes>"
      ]
     },
     "metadata": {},
     "output_type": "display_data"
    }
   ],
   "source": [
    "ax = sns.barplot(x='channel_name',y='total_videos',data=channel_data)"
   ]
  },
  {
   "cell_type": "code",
   "execution_count": 18,
   "metadata": {},
   "outputs": [
    {
     "data": {
      "image/png": "[encoded data removed]",
      "text/plain": [
       "<Figure size 720x432 with 1 Axes>"
      ]
     },
     "metadata": {},
     "output_type": "display_data"
    }
   ],
   "source": [
    "ax = sns.barplot(x='channel_name',y='views_per_video',data=channel_data)"
   ]
  }
 ],
 "metadata": {
  "kernelspec": {
   "display_name": "base",
   "language": "python",
   "name": "python3"
  },
  "language_info": {
   "codemirror_mode": {
    "name": "ipython",
    "version": 3
   },
   "file_extension": ".py",
   "mimetype": "text/x-python",
   "name": "python",
   "nbconvert_exporter": "python",
   "pygments_lexer": "ipython3",
   "version": "3.9.12"
  }
 },
 "nbformat": 4,
 "nbformat_minor": 2
}
